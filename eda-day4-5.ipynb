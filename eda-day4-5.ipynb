{
 "cells": [
  {
   "cell_type": "markdown",
   "id": "fb3e2ced",
   "metadata": {
    "papermill": {
     "duration": 0.002794,
     "end_time": "2025-07-31T15:53:34.595258",
     "exception": false,
     "start_time": "2025-07-31T15:53:34.592464",
     "status": "completed"
    },
    "tags": []
   },
   "source": [
    "**Thursday Tasks**"
   ]
  },
  {
   "cell_type": "code",
   "execution_count": 1,
   "id": "e5336919",
   "metadata": {
    "execution": {
     "iopub.execute_input": "2025-07-31T15:53:34.601043Z",
     "iopub.status.busy": "2025-07-31T15:53:34.600748Z",
     "iopub.status.idle": "2025-07-31T15:53:34.995542Z",
     "shell.execute_reply": "2025-07-31T15:53:34.994612Z"
    },
    "papermill": {
     "duration": 0.399411,
     "end_time": "2025-07-31T15:53:34.997207",
     "exception": false,
     "start_time": "2025-07-31T15:53:34.597796",
     "status": "completed"
    },
    "tags": []
   },
   "outputs": [],
   "source": [
    "# Importing library to use Spark\n",
    "from pyspark.sql import SparkSession"
   ]
  },
  {
   "cell_type": "code",
   "execution_count": 2,
   "id": "c31a9a3d",
   "metadata": {
    "execution": {
     "iopub.execute_input": "2025-07-31T15:53:35.003578Z",
     "iopub.status.busy": "2025-07-31T15:53:35.002626Z",
     "iopub.status.idle": "2025-07-31T15:53:42.077249Z",
     "shell.execute_reply": "2025-07-31T15:53:42.076370Z"
    },
    "papermill": {
     "duration": 7.079262,
     "end_time": "2025-07-31T15:53:42.078828",
     "exception": false,
     "start_time": "2025-07-31T15:53:34.999566",
     "status": "completed"
    },
    "tags": []
   },
   "outputs": [
    {
     "name": "stderr",
     "output_type": "stream",
     "text": [
      "Setting default log level to \"WARN\".\n",
      "To adjust logging level use sc.setLogLevel(newLevel). For SparkR, use setLogLevel(newLevel).\n",
      "25/07/31 15:53:39 WARN NativeCodeLoader: Unable to load native-hadoop library for your platform... using builtin-java classes where applicable\n"
     ]
    }
   ],
   "source": [
    "# Task-1\n",
    "# Creating Spark session\n",
    "spark = SparkSession.builder.appName(\"SparkIntro\").getOrCreate()"
   ]
  },
  {
   "cell_type": "code",
   "execution_count": 3,
   "id": "55256f43",
   "metadata": {
    "execution": {
     "iopub.execute_input": "2025-07-31T15:53:42.085616Z",
     "iopub.status.busy": "2025-07-31T15:53:42.084802Z",
     "iopub.status.idle": "2025-07-31T15:54:10.601091Z",
     "shell.execute_reply": "2025-07-31T15:54:10.600194Z"
    },
    "papermill": {
     "duration": 28.521583,
     "end_time": "2025-07-31T15:54:10.602945",
     "exception": false,
     "start_time": "2025-07-31T15:53:42.081362",
     "status": "completed"
    },
    "tags": []
   },
   "outputs": [
    {
     "name": "stderr",
     "output_type": "stream",
     "text": [
      "[Stage 1:=====================================================>   (17 + 1) / 18]\r"
     ]
    },
    {
     "name": "stdout",
     "output_type": "stream",
     "text": [
      "Time taken to load csv:28.50972604751587\n"
     ]
    },
    {
     "name": "stderr",
     "output_type": "stream",
     "text": [
      "                                                                                \r"
     ]
    }
   ],
   "source": [
    "# Task-2\n",
    "# Replace path with actual path to organizations.csv in Kaggle\n",
    "import time\n",
    "start = time.time()\n",
    "df = spark.read.csv(\"/kaggle/input/organizations-csv/organizations.csv\", header=True, inferSchema=True)\n",
    "end = time.time()\n",
    "print(f\"Time taken to load csv:{end-start}\")"
   ]
  },
  {
   "cell_type": "code",
   "execution_count": 4,
   "id": "7188372c",
   "metadata": {
    "execution": {
     "iopub.execute_input": "2025-07-31T15:54:10.610293Z",
     "iopub.status.busy": "2025-07-31T15:54:10.609581Z",
     "iopub.status.idle": "2025-07-31T15:54:10.618086Z",
     "shell.execute_reply": "2025-07-31T15:54:10.617081Z"
    },
    "papermill": {
     "duration": 0.01452,
     "end_time": "2025-07-31T15:54:10.620357",
     "exception": false,
     "start_time": "2025-07-31T15:54:10.605837",
     "status": "completed"
    },
    "tags": []
   },
   "outputs": [
    {
     "name": "stdout",
     "output_type": "stream",
     "text": [
      "root\n",
      " |-- uuid: string (nullable = true)\n",
      " |-- name: string (nullable = true)\n",
      " |-- type: string (nullable = true)\n",
      " |-- permalink: string (nullable = true)\n",
      " |-- cb_url: string (nullable = true)\n",
      " |-- rank: string (nullable = true)\n",
      " |-- created_at: string (nullable = true)\n",
      " |-- updated_at: string (nullable = true)\n",
      " |-- legal_name: string (nullable = true)\n",
      " |-- roles: string (nullable = true)\n",
      " |-- domain: string (nullable = true)\n",
      " |-- homepage_url: string (nullable = true)\n",
      " |-- country_code: string (nullable = true)\n",
      " |-- state_code: string (nullable = true)\n",
      " |-- region: string (nullable = true)\n",
      " |-- city: string (nullable = true)\n",
      " |-- address: string (nullable = true)\n",
      " |-- postal_code: string (nullable = true)\n",
      " |-- status: string (nullable = true)\n",
      " |-- short_description: string (nullable = true)\n",
      " |-- category_list: string (nullable = true)\n",
      " |-- category_groups_list: string (nullable = true)\n",
      " |-- num_funding_rounds: string (nullable = true)\n",
      " |-- total_funding_usd: string (nullable = true)\n",
      " |-- total_funding: string (nullable = true)\n",
      " |-- total_funding_currency_code: string (nullable = true)\n",
      " |-- founded_on: string (nullable = true)\n",
      " |-- last_funding_on: string (nullable = true)\n",
      " |-- closed_on: string (nullable = true)\n",
      " |-- employee_count: string (nullable = true)\n",
      " |-- email: string (nullable = true)\n",
      " |-- phone: string (nullable = true)\n",
      " |-- facebook_url: string (nullable = true)\n",
      " |-- linkedin_url: string (nullable = true)\n",
      " |-- twitter_url: string (nullable = true)\n",
      " |-- logo_url: string (nullable = true)\n",
      " |-- alias1: string (nullable = true)\n",
      " |-- alias2: string (nullable = true)\n",
      " |-- alias3: string (nullable = true)\n",
      " |-- primary_role: string (nullable = true)\n",
      " |-- num_exits: string (nullable = true)\n",
      "\n"
     ]
    }
   ],
   "source": [
    "# Task-3\n",
    "# Basic EDA\n",
    "df.printSchema()"
   ]
  },
  {
   "cell_type": "code",
   "execution_count": 5,
   "id": "ea5a67f0",
   "metadata": {
    "execution": {
     "iopub.execute_input": "2025-07-31T15:54:10.632232Z",
     "iopub.status.busy": "2025-07-31T15:54:10.631403Z",
     "iopub.status.idle": "2025-07-31T15:54:11.401193Z",
     "shell.execute_reply": "2025-07-31T15:54:11.399998Z"
    },
    "papermill": {
     "duration": 0.776383,
     "end_time": "2025-07-31T15:54:11.403140",
     "exception": false,
     "start_time": "2025-07-31T15:54:10.626757",
     "status": "completed"
    },
    "tags": []
   },
   "outputs": [
    {
     "name": "stderr",
     "output_type": "stream",
     "text": [
      "25/07/31 15:54:10 WARN SparkStringUtils: Truncated the string representation of a plan since it was too large. This behavior can be adjusted by setting 'spark.sql.debug.maxToStringFields'.\n"
     ]
    },
    {
     "name": "stdout",
     "output_type": "stream",
     "text": [
      "+--------------------+---------------+------------+---------------+--------------------+------+-------------------+-------------------+--------------------+----------------+------------+--------------------+------------+----------+----------+------------+--------------------+-----------+---------+--------------------+--------------------+--------------------+------------------+-----------------+-------------+---------------------------+----------+---------------+---------+--------------+------------------+--------------------+--------------------+--------------------+--------------------+--------------------+--------+--------------+------+------------+---------+\n",
      "|                uuid|           name|        type|      permalink|              cb_url|  rank|         created_at|         updated_at|          legal_name|           roles|      domain|        homepage_url|country_code|state_code|    region|        city|             address|postal_code|   status|   short_description|       category_list|category_groups_list|num_funding_rounds|total_funding_usd|total_funding|total_funding_currency_code|founded_on|last_funding_on|closed_on|employee_count|             email|               phone|        facebook_url|        linkedin_url|         twitter_url|            logo_url|  alias1|        alias2|alias3|primary_role|num_exits|\n",
      "+--------------------+---------------+------------+---------------+--------------------+------+-------------------+-------------------+--------------------+----------------+------------+--------------------+------------+----------+----------+------------+--------------------+-----------+---------+--------------------+--------------------+--------------------+------------------+-----------------+-------------+---------------------------+----------+---------------+---------+--------------+------------------+--------------------+--------------------+--------------------+--------------------+--------------------+--------+--------------+------+------------+---------+\n",
      "|e1393508-30ea-8a3...|       Wetpaint|organization|       wetpaint|https://www.crunc...|167617|2007-05-25 13:51:27|2023-08-01 00:01:37|                NULL|         company|wetpaint.com|http://www.wetpai...|         USA|        NY|  New York|    New York|902 Broadway 11th...|      10010| acquired|Wetpaint offers a...|Publishing,Social...|Content and Publi...|                 3|         39750000|     39750000|                        USD|2005-06-01|     2008-05-19|     NULL|        51-100| info@wetpaint.com|        206-859-6300|https://www.faceb...|https://www.linke...|https://twitter.c...|https://images.cr...|    NULL|          NULL|  NULL|     company|     NULL|\n",
      "|bf4d7b0e-b34d-2fd...|           Zoho|organization|           zoho|https://www.crunc...|168555|2007-05-26 02:30:28|2023-10-19 07:46:32|Zoho Corporation ...|investor,company|    zoho.com|https://www.zoho.com|         USA|        CA|California|  Pleasanton|    4141 Hacienda Dr|      94588|operating|Zoho offers a sui...|Cloud Computing,C...|Administrative Se...|              NULL|             NULL|         NULL|                       NULL|1996-03-17|           NULL|     NULL|        10000+|sales@zohocorp.com|1800 103 1123 /18...|http://www.facebo...|https://www.linke...|http://twitter.co...|https://images.cr...|    NULL|          NULL|  NULL|     company|        2|\n",
      "|5f2b40b8-d1b3-d32...|           Digg|organization|           digg|https://www.crunc...| 25570|2007-05-26 03:03:23|2024-01-26 08:06:40|  Digg Holdings, LLC|         company|    digg.com| http://www.digg.com|         USA|        NY|  New York|    New York|                NULL|       NULL| acquired|Digg Inc. operate...|Internet,Social M...|Internet Services...|                 6|         49000000|     49000000|                        USD|2004-10-11|     2016-09-13|     NULL|        51-100| feedback@digg.com|                NULL|http://www.facebo...|http://www.linked...|http://twitter.co...|https://images.cr...|    NULL|          NULL|  NULL|     company|     NULL|\n",
      "|f4d5ab44-058b-298...|Omidyar Network|organization|omidyar-network|https://www.crunc...| 30539|2007-05-26 03:21:34|2023-08-30 02:27:06|                NULL|investor,company| omidyar.com|http://www.omidya...|         USA|        CA|California|Redwood City|1991 Broadway Sui...|      94063|operating|Omidyar Network i...|Enterprise Softwa...|Financial Service...|              NULL|             NULL|         NULL|                       NULL|2004-01-01|           NULL|     NULL|       101-250|  info@omidyar.com|        650.482.2500|http://www.facebo...|http://www.linked...|http://twitter.co...|https://images.cr...|    NULL|          NULL|  NULL|    investor|       62|\n",
      "|df662812-7f97-0b4...|           Meta|organization|       facebook|https://www.crunc...|   119|2007-05-26 04:22:15|2023-11-27 12:05:27|Meta Platforms, Inc.|investor,company|    meta.com|    https://meta.com|         USA|        CA|California|  Menlo Park|        1 Hacker Way|      94025|      ipo|Meta is a social ...|Augmented Reality...|Hardware,Internet...|                14|      24607817488|  24607817488|                        USD|2004-02-04|     2022-08-04|     NULL|        10000+|              NULL|                NULL|https://www.faceb...|https://www.linke...|https://www.twitt...|https://images.cr...|Facebook|Facebook, Inc.|    FB|     company|        1|\n",
      "+--------------------+---------------+------------+---------------+--------------------+------+-------------------+-------------------+--------------------+----------------+------------+--------------------+------------+----------+----------+------------+--------------------+-----------+---------+--------------------+--------------------+--------------------+------------------+-----------------+-------------+---------------------------+----------+---------------+---------+--------------+------------------+--------------------+--------------------+--------------------+--------------------+--------------------+--------+--------------+------+------------+---------+\n",
      "only showing top 5 rows\n",
      "\n"
     ]
    }
   ],
   "source": [
    "df.show(5)"
   ]
  },
  {
   "cell_type": "code",
   "execution_count": 6,
   "id": "9cf6582d",
   "metadata": {
    "execution": {
     "iopub.execute_input": "2025-07-31T15:54:11.417031Z",
     "iopub.status.busy": "2025-07-31T15:54:11.416565Z",
     "iopub.status.idle": "2025-07-31T15:54:13.594119Z",
     "shell.execute_reply": "2025-07-31T15:54:13.593154Z"
    },
    "papermill": {
     "duration": 2.186075,
     "end_time": "2025-07-31T15:54:13.595486",
     "exception": false,
     "start_time": "2025-07-31T15:54:11.409411",
     "status": "completed"
    },
    "tags": []
   },
   "outputs": [
    {
     "data": {
      "text/html": [
       "<div>\n",
       "<style scoped>\n",
       "    .dataframe tbody tr th:only-of-type {\n",
       "        vertical-align: middle;\n",
       "    }\n",
       "\n",
       "    .dataframe tbody tr th {\n",
       "        vertical-align: top;\n",
       "    }\n",
       "\n",
       "    .dataframe thead th {\n",
       "        text-align: right;\n",
       "    }\n",
       "</style>\n",
       "<table border=\"1\" class=\"dataframe\">\n",
       "  <thead>\n",
       "    <tr style=\"text-align: right;\">\n",
       "      <th></th>\n",
       "      <th>uuid</th>\n",
       "      <th>name</th>\n",
       "      <th>type</th>\n",
       "      <th>permalink</th>\n",
       "      <th>cb_url</th>\n",
       "      <th>rank</th>\n",
       "      <th>created_at</th>\n",
       "      <th>updated_at</th>\n",
       "      <th>legal_name</th>\n",
       "      <th>roles</th>\n",
       "      <th>...</th>\n",
       "      <th>phone</th>\n",
       "      <th>facebook_url</th>\n",
       "      <th>linkedin_url</th>\n",
       "      <th>twitter_url</th>\n",
       "      <th>logo_url</th>\n",
       "      <th>alias1</th>\n",
       "      <th>alias2</th>\n",
       "      <th>alias3</th>\n",
       "      <th>primary_role</th>\n",
       "      <th>num_exits</th>\n",
       "    </tr>\n",
       "  </thead>\n",
       "  <tbody>\n",
       "    <tr>\n",
       "      <th>0</th>\n",
       "      <td>e1393508-30ea-8a36-3f96-dd3226033abd</td>\n",
       "      <td>Wetpaint</td>\n",
       "      <td>organization</td>\n",
       "      <td>wetpaint</td>\n",
       "      <td>https://www.crunchbase.com/organization/wetpaint</td>\n",
       "      <td>167617</td>\n",
       "      <td>2007-05-25 13:51:27</td>\n",
       "      <td>2023-08-01 00:01:37</td>\n",
       "      <td>None</td>\n",
       "      <td>company</td>\n",
       "      <td>...</td>\n",
       "      <td>206-859-6300</td>\n",
       "      <td>https://www.facebook.com/Wetpaint</td>\n",
       "      <td>https://www.linkedin.com/company/recruitment-c...</td>\n",
       "      <td>https://twitter.com/wetpainttv</td>\n",
       "      <td>https://images.crunchbase.com/image/upload/t_c...</td>\n",
       "      <td>None</td>\n",
       "      <td>None</td>\n",
       "      <td>None</td>\n",
       "      <td>company</td>\n",
       "      <td>None</td>\n",
       "    </tr>\n",
       "    <tr>\n",
       "      <th>1</th>\n",
       "      <td>bf4d7b0e-b34d-2fd8-d292-6049c4f7efc7</td>\n",
       "      <td>Zoho</td>\n",
       "      <td>organization</td>\n",
       "      <td>zoho</td>\n",
       "      <td>https://www.crunchbase.com/organization/zoho</td>\n",
       "      <td>168555</td>\n",
       "      <td>2007-05-26 02:30:28</td>\n",
       "      <td>2023-10-19 07:46:32</td>\n",
       "      <td>Zoho Corporation Pvt. Ltd.</td>\n",
       "      <td>investor,company</td>\n",
       "      <td>...</td>\n",
       "      <td>1800 103 1123 /1800 572 3535</td>\n",
       "      <td>http://www.facebook.com/zoho</td>\n",
       "      <td>https://www.linkedin.com/company/zoho</td>\n",
       "      <td>http://twitter.com/zoho</td>\n",
       "      <td>https://images.crunchbase.com/image/upload/t_c...</td>\n",
       "      <td>None</td>\n",
       "      <td>None</td>\n",
       "      <td>None</td>\n",
       "      <td>company</td>\n",
       "      <td>2</td>\n",
       "    </tr>\n",
       "    <tr>\n",
       "      <th>2</th>\n",
       "      <td>5f2b40b8-d1b3-d323-d81a-b7a8e89553d0</td>\n",
       "      <td>Digg</td>\n",
       "      <td>organization</td>\n",
       "      <td>digg</td>\n",
       "      <td>https://www.crunchbase.com/organization/digg</td>\n",
       "      <td>25570</td>\n",
       "      <td>2007-05-26 03:03:23</td>\n",
       "      <td>2024-01-26 08:06:40</td>\n",
       "      <td>Digg Holdings, LLC</td>\n",
       "      <td>company</td>\n",
       "      <td>...</td>\n",
       "      <td>None</td>\n",
       "      <td>http://www.facebook.com/digg</td>\n",
       "      <td>http://www.linkedin.com/company/digg</td>\n",
       "      <td>http://twitter.com/digg</td>\n",
       "      <td>https://images.crunchbase.com/image/upload/t_c...</td>\n",
       "      <td>None</td>\n",
       "      <td>None</td>\n",
       "      <td>None</td>\n",
       "      <td>company</td>\n",
       "      <td>None</td>\n",
       "    </tr>\n",
       "    <tr>\n",
       "      <th>3</th>\n",
       "      <td>f4d5ab44-058b-298b-ea81-380e6e9a8eec</td>\n",
       "      <td>Omidyar Network</td>\n",
       "      <td>organization</td>\n",
       "      <td>omidyar-network</td>\n",
       "      <td>https://www.crunchbase.com/organization/omidya...</td>\n",
       "      <td>30539</td>\n",
       "      <td>2007-05-26 03:21:34</td>\n",
       "      <td>2023-08-30 02:27:06</td>\n",
       "      <td>None</td>\n",
       "      <td>investor,company</td>\n",
       "      <td>...</td>\n",
       "      <td>650.482.2500</td>\n",
       "      <td>http://www.facebook.com/OmidyarNetwork</td>\n",
       "      <td>http://www.linkedin.com/company/22806</td>\n",
       "      <td>http://twitter.com/OmidyarNetwork</td>\n",
       "      <td>https://images.crunchbase.com/image/upload/t_c...</td>\n",
       "      <td>None</td>\n",
       "      <td>None</td>\n",
       "      <td>None</td>\n",
       "      <td>investor</td>\n",
       "      <td>62</td>\n",
       "    </tr>\n",
       "    <tr>\n",
       "      <th>4</th>\n",
       "      <td>df662812-7f97-0b43-9d3e-12f64f504fbb</td>\n",
       "      <td>Meta</td>\n",
       "      <td>organization</td>\n",
       "      <td>facebook</td>\n",
       "      <td>https://www.crunchbase.com/organization/facebook</td>\n",
       "      <td>119</td>\n",
       "      <td>2007-05-26 04:22:15</td>\n",
       "      <td>2023-11-27 12:05:27</td>\n",
       "      <td>Meta Platforms, Inc.</td>\n",
       "      <td>investor,company</td>\n",
       "      <td>...</td>\n",
       "      <td>None</td>\n",
       "      <td>https://www.facebook.com/Meta</td>\n",
       "      <td>https://www.linkedin.com/company/meta</td>\n",
       "      <td>https://www.twitter.com/Meta</td>\n",
       "      <td>https://images.crunchbase.com/image/upload/t_c...</td>\n",
       "      <td>Facebook</td>\n",
       "      <td>Facebook, Inc.</td>\n",
       "      <td>FB</td>\n",
       "      <td>company</td>\n",
       "      <td>1</td>\n",
       "    </tr>\n",
       "  </tbody>\n",
       "</table>\n",
       "<p>5 rows × 41 columns</p>\n",
       "</div>"
      ],
      "text/plain": [
       "                                   uuid             name          type  \\\n",
       "0  e1393508-30ea-8a36-3f96-dd3226033abd         Wetpaint  organization   \n",
       "1  bf4d7b0e-b34d-2fd8-d292-6049c4f7efc7             Zoho  organization   \n",
       "2  5f2b40b8-d1b3-d323-d81a-b7a8e89553d0             Digg  organization   \n",
       "3  f4d5ab44-058b-298b-ea81-380e6e9a8eec  Omidyar Network  organization   \n",
       "4  df662812-7f97-0b43-9d3e-12f64f504fbb             Meta  organization   \n",
       "\n",
       "         permalink                                             cb_url    rank  \\\n",
       "0         wetpaint   https://www.crunchbase.com/organization/wetpaint  167617   \n",
       "1             zoho       https://www.crunchbase.com/organization/zoho  168555   \n",
       "2             digg       https://www.crunchbase.com/organization/digg   25570   \n",
       "3  omidyar-network  https://www.crunchbase.com/organization/omidya...   30539   \n",
       "4         facebook   https://www.crunchbase.com/organization/facebook     119   \n",
       "\n",
       "            created_at           updated_at                  legal_name  \\\n",
       "0  2007-05-25 13:51:27  2023-08-01 00:01:37                        None   \n",
       "1  2007-05-26 02:30:28  2023-10-19 07:46:32  Zoho Corporation Pvt. Ltd.   \n",
       "2  2007-05-26 03:03:23  2024-01-26 08:06:40          Digg Holdings, LLC   \n",
       "3  2007-05-26 03:21:34  2023-08-30 02:27:06                        None   \n",
       "4  2007-05-26 04:22:15  2023-11-27 12:05:27        Meta Platforms, Inc.   \n",
       "\n",
       "              roles  ...                         phone  \\\n",
       "0           company  ...                  206-859-6300   \n",
       "1  investor,company  ...  1800 103 1123 /1800 572 3535   \n",
       "2           company  ...                          None   \n",
       "3  investor,company  ...                  650.482.2500   \n",
       "4  investor,company  ...                          None   \n",
       "\n",
       "                             facebook_url  \\\n",
       "0       https://www.facebook.com/Wetpaint   \n",
       "1            http://www.facebook.com/zoho   \n",
       "2            http://www.facebook.com/digg   \n",
       "3  http://www.facebook.com/OmidyarNetwork   \n",
       "4           https://www.facebook.com/Meta   \n",
       "\n",
       "                                        linkedin_url  \\\n",
       "0  https://www.linkedin.com/company/recruitment-c...   \n",
       "1              https://www.linkedin.com/company/zoho   \n",
       "2               http://www.linkedin.com/company/digg   \n",
       "3              http://www.linkedin.com/company/22806   \n",
       "4              https://www.linkedin.com/company/meta   \n",
       "\n",
       "                         twitter_url  \\\n",
       "0     https://twitter.com/wetpainttv   \n",
       "1            http://twitter.com/zoho   \n",
       "2            http://twitter.com/digg   \n",
       "3  http://twitter.com/OmidyarNetwork   \n",
       "4       https://www.twitter.com/Meta   \n",
       "\n",
       "                                            logo_url    alias1  \\\n",
       "0  https://images.crunchbase.com/image/upload/t_c...      None   \n",
       "1  https://images.crunchbase.com/image/upload/t_c...      None   \n",
       "2  https://images.crunchbase.com/image/upload/t_c...      None   \n",
       "3  https://images.crunchbase.com/image/upload/t_c...      None   \n",
       "4  https://images.crunchbase.com/image/upload/t_c...  Facebook   \n",
       "\n",
       "           alias2 alias3 primary_role num_exits  \n",
       "0            None   None      company      None  \n",
       "1            None   None      company         2  \n",
       "2            None   None      company      None  \n",
       "3            None   None     investor        62  \n",
       "4  Facebook, Inc.     FB      company         1  \n",
       "\n",
       "[5 rows x 41 columns]"
      ]
     },
     "execution_count": 6,
     "metadata": {},
     "output_type": "execute_result"
    }
   ],
   "source": [
    "# Converted to pandas for proper formatting\n",
    "df.limit(5).toPandas()"
   ]
  },
  {
   "cell_type": "markdown",
   "id": "2c03a410",
   "metadata": {
    "papermill": {
     "duration": 0.003066,
     "end_time": "2025-07-31T15:54:13.602185",
     "exception": false,
     "start_time": "2025-07-31T15:54:13.599119",
     "status": "completed"
    },
    "tags": []
   },
   "source": [
    "**Task-5_Lazy Evaluation**"
   ]
  },
  {
   "cell_type": "markdown",
   "id": "128e820d",
   "metadata": {
    "papermill": {
     "duration": 0.003359,
     "end_time": "2025-07-31T15:54:13.609074",
     "exception": false,
     "start_time": "2025-07-31T15:54:13.605715",
     "status": "completed"
    },
    "tags": []
   },
   "source": [
    "Spark, unlike pandas doesn't execute the transformations like .filter() or .select() immediately. This concept is basically called Lazy Evaluation. The Spark records all the transformations and then all the transformations are executed once an action like .show() is called. This allows Spark to optimize the plan before running and remove unnecessary computations to increase speed."
   ]
  },
  {
   "cell_type": "markdown",
   "id": "b4578acb",
   "metadata": {
    "papermill": {
     "duration": 0.003003,
     "end_time": "2025-07-31T15:54:13.615272",
     "exception": false,
     "start_time": "2025-07-31T15:54:13.612269",
     "status": "completed"
    },
    "tags": []
   },
   "source": [
    "**Friday Tasks**"
   ]
  },
  {
   "cell_type": "markdown",
   "id": "f59b61b1",
   "metadata": {
    "papermill": {
     "duration": 0.003074,
     "end_time": "2025-07-31T15:54:13.621498",
     "exception": false,
     "start_time": "2025-07-31T15:54:13.618424",
     "status": "completed"
    },
    "tags": []
   },
   "source": [
    "**Syntax & Ease of Use:** Pandas feel the most intuitive as it is the most commonly used, worked with it before many times and you can find more resources to learn syntax easily.\n",
    "\n",
    "**Performance:** Polars performed the best for loading the dataset as it took only less than 6 seconds whereas pandas took 109 and spark took less than 15 seconds. \n",
    "Insights clearly show that for big dataset polars is best but spark folows parallel computing so it might be more suitable for more massive datasets than this one because here spark did much better than pandas but polars outperformed as polars is optimized for using single machine and works completely over RAM but Spark divides dataset for multiple cores even when not much required in middle rnged datasets.\n",
    "\n",
    "**Use Cases:** \n",
    "* Pandas for smaller datasets less than 1GB as it fees more intuitive.\n",
    "* Polars for large datasets when I am working on a single machine but not multiple as it completely works on RAM and optimised for use on single machine.\n",
    "* Pyspark when there is a massive dataset and multiple computers are used for data processing so that parallel computing feature can be properly used.\n",
    "\n",
    "**Data Sumary:**\n",
    "***Data Quality:***\n",
    "1. All columns in dataset have some missing values, however more than 80 missing values are in 6 columns of dataset which is very high so will have to replace them with some accurate values accordingly.\n",
    "2. There are no duplicate rows which is a sign of good data quality.\n",
    "***Insights Derived:***\n",
    "1. Highest no of companies were founded in the years around 2000-2015.\n",
    "2. The most frequent industry groups recorded were software, professional services whereas lowest was data analytics.\n",
    "3. The public companies(ipo) got the most total funding in usd.\n",
    "4. Bermuda's companies got the highest funding.\n",
    "5. Most companies have raised moderate funding levels, with only a few outliers securing extremely high amounts, as can be seen by a normal distribution in column chart.\n"
   ]
  }
 ],
 "metadata": {
  "kaggle": {
   "accelerator": "none",
   "dataSources": [
    {
     "datasetId": 7960065,
     "sourceId": 12602955,
     "sourceType": "datasetVersion"
    }
   ],
   "dockerImageVersionId": 31089,
   "isGpuEnabled": false,
   "isInternetEnabled": true,
   "language": "python",
   "sourceType": "notebook"
  },
  "kernelspec": {
   "display_name": "Python 3",
   "language": "python",
   "name": "python3"
  },
  "language_info": {
   "codemirror_mode": {
    "name": "ipython",
    "version": 3
   },
   "file_extension": ".py",
   "mimetype": "text/x-python",
   "name": "python",
   "nbconvert_exporter": "python",
   "pygments_lexer": "ipython3",
   "version": "3.11.13"
  },
  "papermill": {
   "default_parameters": {},
   "duration": 46.149926,
   "end_time": "2025-07-31T15:54:16.244491",
   "environment_variables": {},
   "exception": null,
   "input_path": "__notebook__.ipynb",
   "output_path": "__notebook__.ipynb",
   "parameters": {},
   "start_time": "2025-07-31T15:53:30.094565",
   "version": "2.6.0"
  }
 },
 "nbformat": 4,
 "nbformat_minor": 5
}
