{
 "cells": [
  {
   "cell_type": "code",
   "execution_count": 1,
   "id": "9a518ecd",
   "metadata": {
    "execution": {
     "iopub.execute_input": "2025-08-17T09:41:36.890468Z",
     "iopub.status.busy": "2025-08-17T09:41:36.890146Z",
     "iopub.status.idle": "2025-08-17T09:41:41.167716Z",
     "shell.execute_reply": "2025-08-17T09:41:41.166803Z"
    },
    "papermill": {
     "duration": 4.285308,
     "end_time": "2025-08-17T09:41:41.169421",
     "exception": false,
     "start_time": "2025-08-17T09:41:36.884113",
     "status": "completed"
    },
    "tags": []
   },
   "outputs": [],
   "source": [
    "import pandas as pd\n",
    "import polars as pl\n",
    "import matplotlib.pyplot as plt\n",
    "import seaborn as sns"
   ]
  },
  {
   "cell_type": "code",
   "execution_count": 2,
   "id": "5f25c5db",
   "metadata": {
    "execution": {
     "iopub.execute_input": "2025-08-17T09:41:41.178244Z",
     "iopub.status.busy": "2025-08-17T09:41:41.177609Z",
     "iopub.status.idle": "2025-08-17T09:42:07.732200Z",
     "shell.execute_reply": "2025-08-17T09:42:07.731212Z"
    },
    "papermill": {
     "duration": 26.560513,
     "end_time": "2025-08-17T09:42:07.733888",
     "exception": false,
     "start_time": "2025-08-17T09:41:41.173375",
     "status": "completed"
    },
    "tags": []
   },
   "outputs": [
    {
     "data": {
      "text/html": [
       "<div><style>\n",
       ".dataframe > thead > tr,\n",
       ".dataframe > tbody > tr {\n",
       "  text-align: right;\n",
       "  white-space: pre-wrap;\n",
       "}\n",
       "</style>\n",
       "<small>shape: (5, 41)</small><table border=\"1\" class=\"dataframe\"><thead><tr><th>uuid</th><th>name</th><th>type</th><th>permalink</th><th>cb_url</th><th>rank</th><th>created_at</th><th>updated_at</th><th>legal_name</th><th>roles</th><th>domain</th><th>homepage_url</th><th>country_code</th><th>state_code</th><th>region</th><th>city</th><th>address</th><th>postal_code</th><th>status</th><th>short_description</th><th>category_list</th><th>category_groups_list</th><th>num_funding_rounds</th><th>total_funding_usd</th><th>total_funding</th><th>total_funding_currency_code</th><th>founded_on</th><th>last_funding_on</th><th>closed_on</th><th>employee_count</th><th>email</th><th>phone</th><th>facebook_url</th><th>linkedin_url</th><th>twitter_url</th><th>logo_url</th><th>alias1</th><th>alias2</th><th>alias3</th><th>primary_role</th><th>num_exits</th></tr><tr><td>str</td><td>str</td><td>str</td><td>str</td><td>str</td><td>i64</td><td>str</td><td>str</td><td>str</td><td>str</td><td>str</td><td>str</td><td>str</td><td>str</td><td>str</td><td>str</td><td>str</td><td>str</td><td>str</td><td>str</td><td>str</td><td>str</td><td>i64</td><td>i64</td><td>i64</td><td>str</td><td>str</td><td>str</td><td>str</td><td>str</td><td>str</td><td>str</td><td>str</td><td>str</td><td>str</td><td>str</td><td>str</td><td>str</td><td>str</td><td>str</td><td>i64</td></tr></thead><tbody><tr><td>&quot;e1393508-30ea-8a36-3f96-dd3226…</td><td>&quot;Wetpaint&quot;</td><td>&quot;organization&quot;</td><td>&quot;wetpaint&quot;</td><td>&quot;https://www.crunchbase.com/org…</td><td>167617</td><td>&quot;2007-05-25 13:51:27&quot;</td><td>&quot;2023-08-01 00:01:37&quot;</td><td>null</td><td>&quot;company&quot;</td><td>&quot;wetpaint.com&quot;</td><td>&quot;http://www.wetpaint.com/&quot;</td><td>&quot;USA&quot;</td><td>&quot;NY&quot;</td><td>&quot;New York&quot;</td><td>&quot;New York&quot;</td><td>&quot;902 Broadway 11th Floor New&quot;</td><td>&quot;10010&quot;</td><td>&quot;acquired&quot;</td><td>&quot;Wetpaint offers an online soci…</td><td>&quot;Publishing,Social Media,Social…</td><td>&quot;Content and Publishing,Interne…</td><td>3</td><td>39750000</td><td>39750000</td><td>&quot;USD&quot;</td><td>&quot;2005-06-01&quot;</td><td>&quot;2008-05-19&quot;</td><td>null</td><td>&quot;51-100&quot;</td><td>&quot;info@wetpaint.com&quot;</td><td>&quot;206-859-6300&quot;</td><td>&quot;https://www.facebook.com/Wetpa…</td><td>&quot;https://www.linkedin.com/compa…</td><td>&quot;https://twitter.com/wetpainttv&quot;</td><td>&quot;https://images.crunchbase.com/…</td><td>null</td><td>null</td><td>null</td><td>&quot;company&quot;</td><td>null</td></tr><tr><td>&quot;bf4d7b0e-b34d-2fd8-d292-6049c4…</td><td>&quot;Zoho&quot;</td><td>&quot;organization&quot;</td><td>&quot;zoho&quot;</td><td>&quot;https://www.crunchbase.com/org…</td><td>168555</td><td>&quot;2007-05-26 02:30:28&quot;</td><td>&quot;2023-10-19 07:46:32&quot;</td><td>&quot;Zoho Corporation Pvt. Ltd.&quot;</td><td>&quot;investor,company&quot;</td><td>&quot;zoho.com&quot;</td><td>&quot;https://www.zoho.com&quot;</td><td>&quot;USA&quot;</td><td>&quot;CA&quot;</td><td>&quot;California&quot;</td><td>&quot;Pleasanton&quot;</td><td>&quot;4141 Hacienda Dr&quot;</td><td>&quot;94588&quot;</td><td>&quot;operating&quot;</td><td>&quot;Zoho offers a suite of busines…</td><td>&quot;Cloud Computing,Collaboration,…</td><td>&quot;Administrative Services,Apps,I…</td><td>null</td><td>null</td><td>null</td><td>null</td><td>&quot;1996-03-17&quot;</td><td>null</td><td>null</td><td>&quot;10000+&quot;</td><td>&quot;sales@zohocorp.com&quot;</td><td>&quot;1800 103 1123 /1800 572 3535&quot;</td><td>&quot;http://www.facebook.com/zoho&quot;</td><td>&quot;https://www.linkedin.com/compa…</td><td>&quot;http://twitter.com/zoho&quot;</td><td>&quot;https://images.crunchbase.com/…</td><td>null</td><td>null</td><td>null</td><td>&quot;company&quot;</td><td>2</td></tr><tr><td>&quot;5f2b40b8-d1b3-d323-d81a-b7a8e8…</td><td>&quot;Digg&quot;</td><td>&quot;organization&quot;</td><td>&quot;digg&quot;</td><td>&quot;https://www.crunchbase.com/org…</td><td>25570</td><td>&quot;2007-05-26 03:03:23&quot;</td><td>&quot;2024-01-26 08:06:40&quot;</td><td>&quot;Digg Holdings, LLC&quot;</td><td>&quot;company&quot;</td><td>&quot;digg.com&quot;</td><td>&quot;http://www.digg.com&quot;</td><td>&quot;USA&quot;</td><td>&quot;NY&quot;</td><td>&quot;New York&quot;</td><td>&quot;New York&quot;</td><td>null</td><td>null</td><td>&quot;acquired&quot;</td><td>&quot;Digg Inc. operates a website t…</td><td>&quot;Internet,Social Media,Social N…</td><td>&quot;Internet Services,Media and En…</td><td>6</td><td>49000000</td><td>49000000</td><td>&quot;USD&quot;</td><td>&quot;2004-10-11&quot;</td><td>&quot;2016-09-13&quot;</td><td>null</td><td>&quot;51-100&quot;</td><td>&quot;feedback@digg.com&quot;</td><td>null</td><td>&quot;http://www.facebook.com/digg&quot;</td><td>&quot;http://www.linkedin.com/compan…</td><td>&quot;http://twitter.com/digg&quot;</td><td>&quot;https://images.crunchbase.com/…</td><td>null</td><td>null</td><td>null</td><td>&quot;company&quot;</td><td>null</td></tr><tr><td>&quot;f4d5ab44-058b-298b-ea81-380e6e…</td><td>&quot;Omidyar Network&quot;</td><td>&quot;organization&quot;</td><td>&quot;omidyar-network&quot;</td><td>&quot;https://www.crunchbase.com/org…</td><td>30539</td><td>&quot;2007-05-26 03:21:34&quot;</td><td>&quot;2023-08-30 02:27:06&quot;</td><td>null</td><td>&quot;investor,company&quot;</td><td>&quot;omidyar.com&quot;</td><td>&quot;http://www.omidyar.com&quot;</td><td>&quot;USA&quot;</td><td>&quot;CA&quot;</td><td>&quot;California&quot;</td><td>&quot;Redwood City&quot;</td><td>&quot;1991 Broadway Suite 200&quot;</td><td>&quot;94063&quot;</td><td>&quot;operating&quot;</td><td>&quot;Omidyar Network is an investme…</td><td>&quot;Enterprise Software,Financial …</td><td>&quot;Financial Services,Lending and…</td><td>null</td><td>null</td><td>null</td><td>null</td><td>&quot;2004-01-01&quot;</td><td>null</td><td>null</td><td>&quot;101-250&quot;</td><td>&quot;info@omidyar.com&quot;</td><td>&quot;650.482.2500&quot;</td><td>&quot;http://www.facebook.com/Omidya…</td><td>&quot;http://www.linkedin.com/compan…</td><td>&quot;http://twitter.com/OmidyarNetw…</td><td>&quot;https://images.crunchbase.com/…</td><td>null</td><td>null</td><td>null</td><td>&quot;investor&quot;</td><td>62</td></tr><tr><td>&quot;df662812-7f97-0b43-9d3e-12f64f…</td><td>&quot;Meta&quot;</td><td>&quot;organization&quot;</td><td>&quot;facebook&quot;</td><td>&quot;https://www.crunchbase.com/org…</td><td>119</td><td>&quot;2007-05-26 04:22:15&quot;</td><td>&quot;2023-11-27 12:05:27&quot;</td><td>&quot;Meta Platforms, Inc.&quot;</td><td>&quot;investor,company&quot;</td><td>&quot;meta.com&quot;</td><td>&quot;https://meta.com&quot;</td><td>&quot;USA&quot;</td><td>&quot;CA&quot;</td><td>&quot;California&quot;</td><td>&quot;Menlo Park&quot;</td><td>&quot;1 Hacker Way&quot;</td><td>&quot;94025&quot;</td><td>&quot;ipo&quot;</td><td>&quot;Meta is a social technology co…</td><td>&quot;Augmented Reality,Metaverse,Mo…</td><td>&quot;Hardware,Internet Services,Med…</td><td>14</td><td>24607817488</td><td>24607817488</td><td>&quot;USD&quot;</td><td>&quot;2004-02-04&quot;</td><td>&quot;2022-08-04&quot;</td><td>null</td><td>&quot;10000+&quot;</td><td>null</td><td>null</td><td>&quot;https://www.facebook.com/Meta&quot;</td><td>&quot;https://www.linkedin.com/compa…</td><td>&quot;https://www.twitter.com/Meta&quot;</td><td>&quot;https://images.crunchbase.com/…</td><td>&quot;Facebook&quot;</td><td>&quot;Facebook, Inc.&quot;</td><td>&quot;FB&quot;</td><td>&quot;company&quot;</td><td>1</td></tr></tbody></table></div>"
      ],
      "text/plain": [
       "shape: (5, 41)\n",
       "┌────────────┬────────────┬───────────┬───────────┬───┬───────────┬────────┬───────────┬───────────┐\n",
       "│ uuid       ┆ name       ┆ type      ┆ permalink ┆ … ┆ alias2    ┆ alias3 ┆ primary_r ┆ num_exits │\n",
       "│ ---        ┆ ---        ┆ ---       ┆ ---       ┆   ┆ ---       ┆ ---    ┆ ole       ┆ ---       │\n",
       "│ str        ┆ str        ┆ str       ┆ str       ┆   ┆ str       ┆ str    ┆ ---       ┆ i64       │\n",
       "│            ┆            ┆           ┆           ┆   ┆           ┆        ┆ str       ┆           │\n",
       "╞════════════╪════════════╪═══════════╪═══════════╪═══╪═══════════╪════════╪═══════════╪═══════════╡\n",
       "│ e1393508-3 ┆ Wetpaint   ┆ organizat ┆ wetpaint  ┆ … ┆ null      ┆ null   ┆ company   ┆ null      │\n",
       "│ 0ea-8a36-3 ┆            ┆ ion       ┆           ┆   ┆           ┆        ┆           ┆           │\n",
       "│ f96-dd3226 ┆            ┆           ┆           ┆   ┆           ┆        ┆           ┆           │\n",
       "│ …          ┆            ┆           ┆           ┆   ┆           ┆        ┆           ┆           │\n",
       "│ bf4d7b0e-b ┆ Zoho       ┆ organizat ┆ zoho      ┆ … ┆ null      ┆ null   ┆ company   ┆ 2         │\n",
       "│ 34d-2fd8-d ┆            ┆ ion       ┆           ┆   ┆           ┆        ┆           ┆           │\n",
       "│ 292-6049c4 ┆            ┆           ┆           ┆   ┆           ┆        ┆           ┆           │\n",
       "│ …          ┆            ┆           ┆           ┆   ┆           ┆        ┆           ┆           │\n",
       "│ 5f2b40b8-d ┆ Digg       ┆ organizat ┆ digg      ┆ … ┆ null      ┆ null   ┆ company   ┆ null      │\n",
       "│ 1b3-d323-d ┆            ┆ ion       ┆           ┆   ┆           ┆        ┆           ┆           │\n",
       "│ 81a-b7a8e8 ┆            ┆           ┆           ┆   ┆           ┆        ┆           ┆           │\n",
       "│ …          ┆            ┆           ┆           ┆   ┆           ┆        ┆           ┆           │\n",
       "│ f4d5ab44-0 ┆ Omidyar    ┆ organizat ┆ omidyar-n ┆ … ┆ null      ┆ null   ┆ investor  ┆ 62        │\n",
       "│ 58b-298b-e ┆ Network    ┆ ion       ┆ etwork    ┆   ┆           ┆        ┆           ┆           │\n",
       "│ a81-380e6e ┆            ┆           ┆           ┆   ┆           ┆        ┆           ┆           │\n",
       "│ …          ┆            ┆           ┆           ┆   ┆           ┆        ┆           ┆           │\n",
       "│ df662812-7 ┆ Meta       ┆ organizat ┆ facebook  ┆ … ┆ Facebook, ┆ FB     ┆ company   ┆ 1         │\n",
       "│ f97-0b43-9 ┆            ┆ ion       ┆           ┆   ┆ Inc.      ┆        ┆           ┆           │\n",
       "│ d3e-12f64f ┆            ┆           ┆           ┆   ┆           ┆        ┆           ┆           │\n",
       "│ …          ┆            ┆           ┆           ┆   ┆           ┆        ┆           ┆           │\n",
       "└────────────┴────────────┴───────────┴───────────┴───┴───────────┴────────┴───────────┴───────────┘"
      ]
     },
     "execution_count": 2,
     "metadata": {},
     "output_type": "execute_result"
    }
   ],
   "source": [
    "org_df = pl.read_csv(\"/kaggle/input/organizations-csv/organizations.csv\")\n",
    "org_df.head()"
   ]
  },
  {
   "cell_type": "code",
   "execution_count": 3,
   "id": "2d48a309",
   "metadata": {
    "execution": {
     "iopub.execute_input": "2025-08-17T09:42:07.745794Z",
     "iopub.status.busy": "2025-08-17T09:42:07.745000Z",
     "iopub.status.idle": "2025-08-17T09:42:16.157555Z",
     "shell.execute_reply": "2025-08-17T09:42:16.156664Z"
    },
    "papermill": {
     "duration": 8.419458,
     "end_time": "2025-08-17T09:42:16.158945",
     "exception": false,
     "start_time": "2025-08-17T09:42:07.739487",
     "status": "completed"
    },
    "tags": []
   },
   "outputs": [
    {
     "data": {
      "text/html": [
       "<div><style>\n",
       ".dataframe > thead > tr,\n",
       ".dataframe > tbody > tr {\n",
       "  text-align: right;\n",
       "  white-space: pre-wrap;\n",
       "}\n",
       "</style>\n",
       "<small>shape: (5, 9)</small><table border=\"1\" class=\"dataframe\"><thead><tr><th>uuid</th><th>name</th><th>type</th><th>permalink</th><th>cb_url</th><th>rank</th><th>created_at</th><th>updated_at</th><th>description</th></tr><tr><td>str</td><td>str</td><td>str</td><td>str</td><td>str</td><td>i64</td><td>str</td><td>str</td><td>str</td></tr></thead><tbody><tr><td>&quot;e1393508-30ea-8a36-3f96-dd3226…</td><td>&quot;Wetpaint&quot;</td><td>&quot;organization&quot;</td><td>&quot;wetpaint&quot;</td><td>&quot;https://www.crunchbase.com/org…</td><td>167617</td><td>&quot;2007-05-25 13:51:27&quot;</td><td>&quot;2023-08-01 00:01:37&quot;</td><td>&quot;Wetpaint is a technology platf…</td></tr><tr><td>&quot;bf4d7b0e-b34d-2fd8-d292-6049c4…</td><td>&quot;Zoho&quot;</td><td>&quot;organization&quot;</td><td>&quot;zoho&quot;</td><td>&quot;https://www.crunchbase.com/org…</td><td>168555</td><td>&quot;2007-05-26 02:30:28&quot;</td><td>&quot;2023-10-19 07:46:32&quot;</td><td>&quot;Zoho offers a suite of busines…</td></tr><tr><td>&quot;5f2b40b8-d1b3-d323-d81a-b7a8e8…</td><td>&quot;Digg&quot;</td><td>&quot;organization&quot;</td><td>&quot;digg&quot;</td><td>&quot;https://www.crunchbase.com/org…</td><td>25570</td><td>&quot;2007-05-26 03:03:23&quot;</td><td>&quot;2024-01-26 08:06:40&quot;</td><td>&quot;Digg Inc. operates a website t…</td></tr><tr><td>&quot;f4d5ab44-058b-298b-ea81-380e6e…</td><td>&quot;Omidyar Network&quot;</td><td>&quot;organization&quot;</td><td>&quot;omidyar-network&quot;</td><td>&quot;https://www.crunchbase.com/org…</td><td>30539</td><td>&quot;2007-05-26 03:21:34&quot;</td><td>&quot;2023-08-30 02:27:06&quot;</td><td>&quot;Pierre Omidyar, the founder of…</td></tr><tr><td>&quot;df662812-7f97-0b43-9d3e-12f64f…</td><td>&quot;Meta&quot;</td><td>&quot;organization&quot;</td><td>&quot;facebook&quot;</td><td>&quot;https://www.crunchbase.com/org…</td><td>119</td><td>&quot;2007-05-26 04:22:15&quot;</td><td>&quot;2023-11-27 12:05:27&quot;</td><td>&quot;Meta is a social technology co…</td></tr></tbody></table></div>"
      ],
      "text/plain": [
       "shape: (5, 9)\n",
       "┌────────────┬────────────┬───────────┬───────────┬───┬────────┬───────────┬───────────┬───────────┐\n",
       "│ uuid       ┆ name       ┆ type      ┆ permalink ┆ … ┆ rank   ┆ created_a ┆ updated_a ┆ descripti │\n",
       "│ ---        ┆ ---        ┆ ---       ┆ ---       ┆   ┆ ---    ┆ t         ┆ t         ┆ on        │\n",
       "│ str        ┆ str        ┆ str       ┆ str       ┆   ┆ i64    ┆ ---       ┆ ---       ┆ ---       │\n",
       "│            ┆            ┆           ┆           ┆   ┆        ┆ str       ┆ str       ┆ str       │\n",
       "╞════════════╪════════════╪═══════════╪═══════════╪═══╪════════╪═══════════╪═══════════╪═══════════╡\n",
       "│ e1393508-3 ┆ Wetpaint   ┆ organizat ┆ wetpaint  ┆ … ┆ 167617 ┆ 2007-05-2 ┆ 2023-08-0 ┆ Wetpaint  │\n",
       "│ 0ea-8a36-3 ┆            ┆ ion       ┆           ┆   ┆        ┆ 5         ┆ 1         ┆ is a tech │\n",
       "│ f96-dd3226 ┆            ┆           ┆           ┆   ┆        ┆ 13:51:27  ┆ 00:01:37  ┆ nology    │\n",
       "│ …          ┆            ┆           ┆           ┆   ┆        ┆           ┆           ┆ platf…    │\n",
       "│ bf4d7b0e-b ┆ Zoho       ┆ organizat ┆ zoho      ┆ … ┆ 168555 ┆ 2007-05-2 ┆ 2023-10-1 ┆ Zoho      │\n",
       "│ 34d-2fd8-d ┆            ┆ ion       ┆           ┆   ┆        ┆ 6         ┆ 9         ┆ offers a  │\n",
       "│ 292-6049c4 ┆            ┆           ┆           ┆   ┆        ┆ 02:30:28  ┆ 07:46:32  ┆ suite of  │\n",
       "│ …          ┆            ┆           ┆           ┆   ┆        ┆           ┆           ┆ busines…  │\n",
       "│ 5f2b40b8-d ┆ Digg       ┆ organizat ┆ digg      ┆ … ┆ 25570  ┆ 2007-05-2 ┆ 2024-01-2 ┆ Digg Inc. │\n",
       "│ 1b3-d323-d ┆            ┆ ion       ┆           ┆   ┆        ┆ 6         ┆ 6         ┆ operates  │\n",
       "│ 81a-b7a8e8 ┆            ┆           ┆           ┆   ┆        ┆ 03:03:23  ┆ 08:06:40  ┆ a website │\n",
       "│ …          ┆            ┆           ┆           ┆   ┆        ┆           ┆           ┆ t…        │\n",
       "│ f4d5ab44-0 ┆ Omidyar    ┆ organizat ┆ omidyar-n ┆ … ┆ 30539  ┆ 2007-05-2 ┆ 2023-08-3 ┆ Pierre    │\n",
       "│ 58b-298b-e ┆ Network    ┆ ion       ┆ etwork    ┆   ┆        ┆ 6         ┆ 0         ┆ Omidyar,  │\n",
       "│ a81-380e6e ┆            ┆           ┆           ┆   ┆        ┆ 03:21:34  ┆ 02:27:06  ┆ the       │\n",
       "│ …          ┆            ┆           ┆           ┆   ┆        ┆           ┆           ┆ founder   │\n",
       "│            ┆            ┆           ┆           ┆   ┆        ┆           ┆           ┆ of…       │\n",
       "│ df662812-7 ┆ Meta       ┆ organizat ┆ facebook  ┆ … ┆ 119    ┆ 2007-05-2 ┆ 2023-11-2 ┆ Meta is a │\n",
       "│ f97-0b43-9 ┆            ┆ ion       ┆           ┆   ┆        ┆ 6         ┆ 7         ┆ social    │\n",
       "│ d3e-12f64f ┆            ┆           ┆           ┆   ┆        ┆ 04:22:15  ┆ 12:05:27  ┆ technolog │\n",
       "│ …          ┆            ┆           ┆           ┆   ┆        ┆           ┆           ┆ y co…     │\n",
       "└────────────┴────────────┴───────────┴───────────┴───┴────────┴───────────┴───────────┴───────────┘"
      ]
     },
     "execution_count": 3,
     "metadata": {},
     "output_type": "execute_result"
    }
   ],
   "source": [
    "desc_df = pl.read_csv(\"/kaggle/input/organizations-csv/organization_descriptions.csv\")\n",
    "desc_df.head()"
   ]
  },
  {
   "cell_type": "code",
   "execution_count": 4,
   "id": "4544a5e8",
   "metadata": {
    "execution": {
     "iopub.execute_input": "2025-08-17T09:42:16.168897Z",
     "iopub.status.busy": "2025-08-17T09:42:16.168238Z",
     "iopub.status.idle": "2025-08-17T09:42:17.198256Z",
     "shell.execute_reply": "2025-08-17T09:42:17.197087Z"
    },
    "papermill": {
     "duration": 1.036928,
     "end_time": "2025-08-17T09:42:17.200031",
     "exception": false,
     "start_time": "2025-08-17T09:42:16.163103",
     "status": "completed"
    },
    "tags": []
   },
   "outputs": [],
   "source": [
    "# Joining descritions column with organizations\n",
    "merged = org_df.join(\n",
    "    desc_df.select([\"uuid\", \"description\"]),\n",
    "    on=\"uuid\",\n",
    "    how=\"left\"\n",
    ")"
   ]
  },
  {
   "cell_type": "code",
   "execution_count": 5,
   "id": "e7408821",
   "metadata": {
    "execution": {
     "iopub.execute_input": "2025-08-17T09:42:17.209473Z",
     "iopub.status.busy": "2025-08-17T09:42:17.209153Z",
     "iopub.status.idle": "2025-08-17T09:42:17.217688Z",
     "shell.execute_reply": "2025-08-17T09:42:17.216867Z"
    },
    "papermill": {
     "duration": 0.014949,
     "end_time": "2025-08-17T09:42:17.219156",
     "exception": false,
     "start_time": "2025-08-17T09:42:17.204207",
     "status": "completed"
    },
    "tags": []
   },
   "outputs": [
    {
     "data": {
      "text/html": [
       "<div><style>\n",
       ".dataframe > thead > tr,\n",
       ".dataframe > tbody > tr {\n",
       "  text-align: right;\n",
       "  white-space: pre-wrap;\n",
       "}\n",
       "</style>\n",
       "<small>shape: (5, 42)</small><table border=\"1\" class=\"dataframe\"><thead><tr><th>uuid</th><th>name</th><th>type</th><th>permalink</th><th>cb_url</th><th>rank</th><th>created_at</th><th>updated_at</th><th>legal_name</th><th>roles</th><th>domain</th><th>homepage_url</th><th>country_code</th><th>state_code</th><th>region</th><th>city</th><th>address</th><th>postal_code</th><th>status</th><th>short_description</th><th>category_list</th><th>category_groups_list</th><th>num_funding_rounds</th><th>total_funding_usd</th><th>total_funding</th><th>total_funding_currency_code</th><th>founded_on</th><th>last_funding_on</th><th>closed_on</th><th>employee_count</th><th>email</th><th>phone</th><th>facebook_url</th><th>linkedin_url</th><th>twitter_url</th><th>logo_url</th><th>alias1</th><th>alias2</th><th>alias3</th><th>primary_role</th><th>num_exits</th><th>description</th></tr><tr><td>str</td><td>str</td><td>str</td><td>str</td><td>str</td><td>i64</td><td>str</td><td>str</td><td>str</td><td>str</td><td>str</td><td>str</td><td>str</td><td>str</td><td>str</td><td>str</td><td>str</td><td>str</td><td>str</td><td>str</td><td>str</td><td>str</td><td>i64</td><td>i64</td><td>i64</td><td>str</td><td>str</td><td>str</td><td>str</td><td>str</td><td>str</td><td>str</td><td>str</td><td>str</td><td>str</td><td>str</td><td>str</td><td>str</td><td>str</td><td>str</td><td>i64</td><td>str</td></tr></thead><tbody><tr><td>&quot;e1393508-30ea-8a36-3f96-dd3226…</td><td>&quot;Wetpaint&quot;</td><td>&quot;organization&quot;</td><td>&quot;wetpaint&quot;</td><td>&quot;https://www.crunchbase.com/org…</td><td>167617</td><td>&quot;2007-05-25 13:51:27&quot;</td><td>&quot;2023-08-01 00:01:37&quot;</td><td>null</td><td>&quot;company&quot;</td><td>&quot;wetpaint.com&quot;</td><td>&quot;http://www.wetpaint.com/&quot;</td><td>&quot;USA&quot;</td><td>&quot;NY&quot;</td><td>&quot;New York&quot;</td><td>&quot;New York&quot;</td><td>&quot;902 Broadway 11th Floor New&quot;</td><td>&quot;10010&quot;</td><td>&quot;acquired&quot;</td><td>&quot;Wetpaint offers an online soci…</td><td>&quot;Publishing,Social Media,Social…</td><td>&quot;Content and Publishing,Interne…</td><td>3</td><td>39750000</td><td>39750000</td><td>&quot;USD&quot;</td><td>&quot;2005-06-01&quot;</td><td>&quot;2008-05-19&quot;</td><td>null</td><td>&quot;51-100&quot;</td><td>&quot;info@wetpaint.com&quot;</td><td>&quot;206-859-6300&quot;</td><td>&quot;https://www.facebook.com/Wetpa…</td><td>&quot;https://www.linkedin.com/compa…</td><td>&quot;https://twitter.com/wetpainttv&quot;</td><td>&quot;https://images.crunchbase.com/…</td><td>null</td><td>null</td><td>null</td><td>&quot;company&quot;</td><td>null</td><td>&quot;Wetpaint is a technology platf…</td></tr><tr><td>&quot;bf4d7b0e-b34d-2fd8-d292-6049c4…</td><td>&quot;Zoho&quot;</td><td>&quot;organization&quot;</td><td>&quot;zoho&quot;</td><td>&quot;https://www.crunchbase.com/org…</td><td>168555</td><td>&quot;2007-05-26 02:30:28&quot;</td><td>&quot;2023-10-19 07:46:32&quot;</td><td>&quot;Zoho Corporation Pvt. Ltd.&quot;</td><td>&quot;investor,company&quot;</td><td>&quot;zoho.com&quot;</td><td>&quot;https://www.zoho.com&quot;</td><td>&quot;USA&quot;</td><td>&quot;CA&quot;</td><td>&quot;California&quot;</td><td>&quot;Pleasanton&quot;</td><td>&quot;4141 Hacienda Dr&quot;</td><td>&quot;94588&quot;</td><td>&quot;operating&quot;</td><td>&quot;Zoho offers a suite of busines…</td><td>&quot;Cloud Computing,Collaboration,…</td><td>&quot;Administrative Services,Apps,I…</td><td>null</td><td>null</td><td>null</td><td>null</td><td>&quot;1996-03-17&quot;</td><td>null</td><td>null</td><td>&quot;10000+&quot;</td><td>&quot;sales@zohocorp.com&quot;</td><td>&quot;1800 103 1123 /1800 572 3535&quot;</td><td>&quot;http://www.facebook.com/zoho&quot;</td><td>&quot;https://www.linkedin.com/compa…</td><td>&quot;http://twitter.com/zoho&quot;</td><td>&quot;https://images.crunchbase.com/…</td><td>null</td><td>null</td><td>null</td><td>&quot;company&quot;</td><td>2</td><td>&quot;Zoho offers a suite of busines…</td></tr><tr><td>&quot;5f2b40b8-d1b3-d323-d81a-b7a8e8…</td><td>&quot;Digg&quot;</td><td>&quot;organization&quot;</td><td>&quot;digg&quot;</td><td>&quot;https://www.crunchbase.com/org…</td><td>25570</td><td>&quot;2007-05-26 03:03:23&quot;</td><td>&quot;2024-01-26 08:06:40&quot;</td><td>&quot;Digg Holdings, LLC&quot;</td><td>&quot;company&quot;</td><td>&quot;digg.com&quot;</td><td>&quot;http://www.digg.com&quot;</td><td>&quot;USA&quot;</td><td>&quot;NY&quot;</td><td>&quot;New York&quot;</td><td>&quot;New York&quot;</td><td>null</td><td>null</td><td>&quot;acquired&quot;</td><td>&quot;Digg Inc. operates a website t…</td><td>&quot;Internet,Social Media,Social N…</td><td>&quot;Internet Services,Media and En…</td><td>6</td><td>49000000</td><td>49000000</td><td>&quot;USD&quot;</td><td>&quot;2004-10-11&quot;</td><td>&quot;2016-09-13&quot;</td><td>null</td><td>&quot;51-100&quot;</td><td>&quot;feedback@digg.com&quot;</td><td>null</td><td>&quot;http://www.facebook.com/digg&quot;</td><td>&quot;http://www.linkedin.com/compan…</td><td>&quot;http://twitter.com/digg&quot;</td><td>&quot;https://images.crunchbase.com/…</td><td>null</td><td>null</td><td>null</td><td>&quot;company&quot;</td><td>null</td><td>&quot;Digg Inc. operates a website t…</td></tr><tr><td>&quot;f4d5ab44-058b-298b-ea81-380e6e…</td><td>&quot;Omidyar Network&quot;</td><td>&quot;organization&quot;</td><td>&quot;omidyar-network&quot;</td><td>&quot;https://www.crunchbase.com/org…</td><td>30539</td><td>&quot;2007-05-26 03:21:34&quot;</td><td>&quot;2023-08-30 02:27:06&quot;</td><td>null</td><td>&quot;investor,company&quot;</td><td>&quot;omidyar.com&quot;</td><td>&quot;http://www.omidyar.com&quot;</td><td>&quot;USA&quot;</td><td>&quot;CA&quot;</td><td>&quot;California&quot;</td><td>&quot;Redwood City&quot;</td><td>&quot;1991 Broadway Suite 200&quot;</td><td>&quot;94063&quot;</td><td>&quot;operating&quot;</td><td>&quot;Omidyar Network is an investme…</td><td>&quot;Enterprise Software,Financial …</td><td>&quot;Financial Services,Lending and…</td><td>null</td><td>null</td><td>null</td><td>null</td><td>&quot;2004-01-01&quot;</td><td>null</td><td>null</td><td>&quot;101-250&quot;</td><td>&quot;info@omidyar.com&quot;</td><td>&quot;650.482.2500&quot;</td><td>&quot;http://www.facebook.com/Omidya…</td><td>&quot;http://www.linkedin.com/compan…</td><td>&quot;http://twitter.com/OmidyarNetw…</td><td>&quot;https://images.crunchbase.com/…</td><td>null</td><td>null</td><td>null</td><td>&quot;investor&quot;</td><td>62</td><td>&quot;Pierre Omidyar, the founder of…</td></tr><tr><td>&quot;df662812-7f97-0b43-9d3e-12f64f…</td><td>&quot;Meta&quot;</td><td>&quot;organization&quot;</td><td>&quot;facebook&quot;</td><td>&quot;https://www.crunchbase.com/org…</td><td>119</td><td>&quot;2007-05-26 04:22:15&quot;</td><td>&quot;2023-11-27 12:05:27&quot;</td><td>&quot;Meta Platforms, Inc.&quot;</td><td>&quot;investor,company&quot;</td><td>&quot;meta.com&quot;</td><td>&quot;https://meta.com&quot;</td><td>&quot;USA&quot;</td><td>&quot;CA&quot;</td><td>&quot;California&quot;</td><td>&quot;Menlo Park&quot;</td><td>&quot;1 Hacker Way&quot;</td><td>&quot;94025&quot;</td><td>&quot;ipo&quot;</td><td>&quot;Meta is a social technology co…</td><td>&quot;Augmented Reality,Metaverse,Mo…</td><td>&quot;Hardware,Internet Services,Med…</td><td>14</td><td>24607817488</td><td>24607817488</td><td>&quot;USD&quot;</td><td>&quot;2004-02-04&quot;</td><td>&quot;2022-08-04&quot;</td><td>null</td><td>&quot;10000+&quot;</td><td>null</td><td>null</td><td>&quot;https://www.facebook.com/Meta&quot;</td><td>&quot;https://www.linkedin.com/compa…</td><td>&quot;https://www.twitter.com/Meta&quot;</td><td>&quot;https://images.crunchbase.com/…</td><td>&quot;Facebook&quot;</td><td>&quot;Facebook, Inc.&quot;</td><td>&quot;FB&quot;</td><td>&quot;company&quot;</td><td>1</td><td>&quot;Meta is a social technology co…</td></tr></tbody></table></div>"
      ],
      "text/plain": [
       "shape: (5, 42)\n",
       "┌────────────┬────────────┬───────────┬───────────┬───┬────────┬───────────┬───────────┬───────────┐\n",
       "│ uuid       ┆ name       ┆ type      ┆ permalink ┆ … ┆ alias3 ┆ primary_r ┆ num_exits ┆ descripti │\n",
       "│ ---        ┆ ---        ┆ ---       ┆ ---       ┆   ┆ ---    ┆ ole       ┆ ---       ┆ on        │\n",
       "│ str        ┆ str        ┆ str       ┆ str       ┆   ┆ str    ┆ ---       ┆ i64       ┆ ---       │\n",
       "│            ┆            ┆           ┆           ┆   ┆        ┆ str       ┆           ┆ str       │\n",
       "╞════════════╪════════════╪═══════════╪═══════════╪═══╪════════╪═══════════╪═══════════╪═══════════╡\n",
       "│ e1393508-3 ┆ Wetpaint   ┆ organizat ┆ wetpaint  ┆ … ┆ null   ┆ company   ┆ null      ┆ Wetpaint  │\n",
       "│ 0ea-8a36-3 ┆            ┆ ion       ┆           ┆   ┆        ┆           ┆           ┆ is a tech │\n",
       "│ f96-dd3226 ┆            ┆           ┆           ┆   ┆        ┆           ┆           ┆ nology    │\n",
       "│ …          ┆            ┆           ┆           ┆   ┆        ┆           ┆           ┆ platf…    │\n",
       "│ bf4d7b0e-b ┆ Zoho       ┆ organizat ┆ zoho      ┆ … ┆ null   ┆ company   ┆ 2         ┆ Zoho      │\n",
       "│ 34d-2fd8-d ┆            ┆ ion       ┆           ┆   ┆        ┆           ┆           ┆ offers a  │\n",
       "│ 292-6049c4 ┆            ┆           ┆           ┆   ┆        ┆           ┆           ┆ suite of  │\n",
       "│ …          ┆            ┆           ┆           ┆   ┆        ┆           ┆           ┆ busines…  │\n",
       "│ 5f2b40b8-d ┆ Digg       ┆ organizat ┆ digg      ┆ … ┆ null   ┆ company   ┆ null      ┆ Digg Inc. │\n",
       "│ 1b3-d323-d ┆            ┆ ion       ┆           ┆   ┆        ┆           ┆           ┆ operates  │\n",
       "│ 81a-b7a8e8 ┆            ┆           ┆           ┆   ┆        ┆           ┆           ┆ a website │\n",
       "│ …          ┆            ┆           ┆           ┆   ┆        ┆           ┆           ┆ t…        │\n",
       "│ f4d5ab44-0 ┆ Omidyar    ┆ organizat ┆ omidyar-n ┆ … ┆ null   ┆ investor  ┆ 62        ┆ Pierre    │\n",
       "│ 58b-298b-e ┆ Network    ┆ ion       ┆ etwork    ┆   ┆        ┆           ┆           ┆ Omidyar,  │\n",
       "│ a81-380e6e ┆            ┆           ┆           ┆   ┆        ┆           ┆           ┆ the       │\n",
       "│ …          ┆            ┆           ┆           ┆   ┆        ┆           ┆           ┆ founder   │\n",
       "│            ┆            ┆           ┆           ┆   ┆        ┆           ┆           ┆ of…       │\n",
       "│ df662812-7 ┆ Meta       ┆ organizat ┆ facebook  ┆ … ┆ FB     ┆ company   ┆ 1         ┆ Meta is a │\n",
       "│ f97-0b43-9 ┆            ┆ ion       ┆           ┆   ┆        ┆           ┆           ┆ social    │\n",
       "│ d3e-12f64f ┆            ┆           ┆           ┆   ┆        ┆           ┆           ┆ technolog │\n",
       "│ …          ┆            ┆           ┆           ┆   ┆        ┆           ┆           ┆ y co…     │\n",
       "└────────────┴────────────┴───────────┴───────────┴───┴────────┴───────────┴───────────┴───────────┘"
      ]
     },
     "execution_count": 5,
     "metadata": {},
     "output_type": "execute_result"
    }
   ],
   "source": [
    "merged.head()"
   ]
  },
  {
   "cell_type": "code",
   "execution_count": 6,
   "id": "f6e25216",
   "metadata": {
    "execution": {
     "iopub.execute_input": "2025-08-17T09:42:17.229199Z",
     "iopub.status.busy": "2025-08-17T09:42:17.228898Z",
     "iopub.status.idle": "2025-08-17T09:42:17.234392Z",
     "shell.execute_reply": "2025-08-17T09:42:17.233549Z"
    },
    "papermill": {
     "duration": 0.012453,
     "end_time": "2025-08-17T09:42:17.236170",
     "exception": false,
     "start_time": "2025-08-17T09:42:17.223717",
     "status": "completed"
    },
    "tags": []
   },
   "outputs": [
    {
     "data": {
      "text/plain": [
       "(3289728, 41)"
      ]
     },
     "execution_count": 6,
     "metadata": {},
     "output_type": "execute_result"
    }
   ],
   "source": [
    "org_df.shape"
   ]
  },
  {
   "cell_type": "code",
   "execution_count": 7,
   "id": "08949fb6",
   "metadata": {
    "execution": {
     "iopub.execute_input": "2025-08-17T09:42:17.246234Z",
     "iopub.status.busy": "2025-08-17T09:42:17.245909Z",
     "iopub.status.idle": "2025-08-17T09:42:17.251577Z",
     "shell.execute_reply": "2025-08-17T09:42:17.250758Z"
    },
    "papermill": {
     "duration": 0.012275,
     "end_time": "2025-08-17T09:42:17.252928",
     "exception": false,
     "start_time": "2025-08-17T09:42:17.240653",
     "status": "completed"
    },
    "tags": []
   },
   "outputs": [
    {
     "data": {
      "text/plain": [
       "(3289728, 42)"
      ]
     },
     "execution_count": 7,
     "metadata": {},
     "output_type": "execute_result"
    }
   ],
   "source": [
    "merged.shape"
   ]
  },
  {
   "cell_type": "code",
   "execution_count": 8,
   "id": "bfcaa2ab",
   "metadata": {
    "execution": {
     "iopub.execute_input": "2025-08-17T09:42:17.262906Z",
     "iopub.status.busy": "2025-08-17T09:42:17.262574Z",
     "iopub.status.idle": "2025-08-17T09:42:17.267668Z",
     "shell.execute_reply": "2025-08-17T09:42:17.266684Z"
    },
    "papermill": {
     "duration": 0.011734,
     "end_time": "2025-08-17T09:42:17.269089",
     "exception": false,
     "start_time": "2025-08-17T09:42:17.257355",
     "status": "completed"
    },
    "tags": []
   },
   "outputs": [
    {
     "name": "stdout",
     "output_type": "stream",
     "text": [
      "Wetpaint is a technology platform company that uses its proprietary state-of-the-art technology and expertise in social media to build and monetize audiences for digital publishers. Wetpaint’s own online property, Wetpaint Entertainment, an entertainment news site that attracts more than 12 million unique visitors monthly and has over 2 million Facebook fans, is a proof point to the company’s success in building and engaging audiences. Media companies can license Wetpaint’s platform which includes a dynamic playbook tailored to their individual needs and comprehensive training. Founded by Internet pioneer Ben Elowitz, and with offices in New York and Seattle, Wetpaint is backed by Accel Partners, the investors behind Facebook.\n"
     ]
    }
   ],
   "source": [
    "print(merged[\"description\"][0])  # single full string"
   ]
  },
  {
   "cell_type": "code",
   "execution_count": 9,
   "id": "92e02823",
   "metadata": {
    "execution": {
     "iopub.execute_input": "2025-08-17T09:42:17.281054Z",
     "iopub.status.busy": "2025-08-17T09:42:17.280357Z",
     "iopub.status.idle": "2025-08-17T09:42:17.287273Z",
     "shell.execute_reply": "2025-08-17T09:42:17.286328Z"
    },
    "papermill": {
     "duration": 0.013754,
     "end_time": "2025-08-17T09:42:17.288664",
     "exception": false,
     "start_time": "2025-08-17T09:42:17.274910",
     "status": "completed"
    },
    "tags": []
   },
   "outputs": [
    {
     "name": "stdout",
     "output_type": "stream",
     "text": [
      "shape: (1, 42)\n",
      "┌──────┬──────┬──────┬───────────┬───┬─────────┬──────────────┬───────────┬─────────────┐\n",
      "│ uuid ┆ name ┆ type ┆ permalink ┆ … ┆ alias3  ┆ primary_role ┆ num_exits ┆ description │\n",
      "│ ---  ┆ ---  ┆ ---  ┆ ---       ┆   ┆ ---     ┆ ---          ┆ ---       ┆ ---         │\n",
      "│ u32  ┆ u32  ┆ u32  ┆ u32       ┆   ┆ u32     ┆ u32          ┆ u32       ┆ u32         │\n",
      "╞══════╪══════╪══════╪═══════════╪═══╪═════════╪══════════════╪═══════════╪═════════════╡\n",
      "│ 0    ┆ 0    ┆ 0    ┆ 0         ┆ … ┆ 3263191 ┆ 0            ┆ 3260980   ┆ 1882813     │\n",
      "└──────┴──────┴──────┴───────────┴───┴─────────┴──────────────┴───────────┴─────────────┘\n"
     ]
    }
   ],
   "source": [
    "# Checking missing values\n",
    "print(merged.null_count())  "
   ]
  },
  {
   "cell_type": "code",
   "execution_count": 10,
   "id": "d0de71aa",
   "metadata": {
    "execution": {
     "iopub.execute_input": "2025-08-17T09:42:17.299339Z",
     "iopub.status.busy": "2025-08-17T09:42:17.299034Z",
     "iopub.status.idle": "2025-08-17T09:42:17.306324Z",
     "shell.execute_reply": "2025-08-17T09:42:17.304767Z"
    },
    "papermill": {
     "duration": 0.014473,
     "end_time": "2025-08-17T09:42:17.307710",
     "exception": false,
     "start_time": "2025-08-17T09:42:17.293237",
     "status": "completed"
    },
    "tags": []
   },
   "outputs": [
    {
     "name": "stdout",
     "output_type": "stream",
     "text": [
      "{'uuid': shape: (1,)\n",
      "Series: 'uuid' [u32]\n",
      "[\n",
      "\t0\n",
      "], 'name': shape: (1,)\n",
      "Series: 'name' [u32]\n",
      "[\n",
      "\t0\n",
      "], 'type': shape: (1,)\n",
      "Series: 'type' [u32]\n",
      "[\n",
      "\t0\n",
      "], 'permalink': shape: (1,)\n",
      "Series: 'permalink' [u32]\n",
      "[\n",
      "\t0\n",
      "], 'cb_url': shape: (1,)\n",
      "Series: 'cb_url' [u32]\n",
      "[\n",
      "\t0\n",
      "], 'rank': shape: (1,)\n",
      "Series: 'rank' [u32]\n",
      "[\n",
      "\t170\n",
      "], 'created_at': shape: (1,)\n",
      "Series: 'created_at' [u32]\n",
      "[\n",
      "\t0\n",
      "], 'updated_at': shape: (1,)\n",
      "Series: 'updated_at' [u32]\n",
      "[\n",
      "\t0\n",
      "], 'legal_name': shape: (1,)\n",
      "Series: 'legal_name' [u32]\n",
      "[\n",
      "\t1636494\n",
      "], 'roles': shape: (1,)\n",
      "Series: 'roles' [u32]\n",
      "[\n",
      "\t32563\n",
      "], 'domain': shape: (1,)\n",
      "Series: 'domain' [u32]\n",
      "[\n",
      "\t104885\n",
      "], 'homepage_url': shape: (1,)\n",
      "Series: 'homepage_url' [u32]\n",
      "[\n",
      "\t104885\n",
      "], 'country_code': shape: (1,)\n",
      "Series: 'country_code' [u32]\n",
      "[\n",
      "\t207966\n",
      "], 'state_code': shape: (1,)\n",
      "Series: 'state_code' [u32]\n",
      "[\n",
      "\t1861079\n",
      "], 'region': shape: (1,)\n",
      "Series: 'region' [u32]\n",
      "[\n",
      "\t207966\n",
      "], 'city': shape: (1,)\n",
      "Series: 'city' [u32]\n",
      "[\n",
      "\t207966\n",
      "], 'address': shape: (1,)\n",
      "Series: 'address' [u32]\n",
      "[\n",
      "\t1210047\n",
      "], 'postal_code': shape: (1,)\n",
      "Series: 'postal_code' [u32]\n",
      "[\n",
      "\t1281118\n",
      "], 'status': shape: (1,)\n",
      "Series: 'status' [u32]\n",
      "[\n",
      "\t0\n",
      "], 'short_description': shape: (1,)\n",
      "Series: 'short_description' [u32]\n",
      "[\n",
      "\t8\n",
      "], 'category_list': shape: (1,)\n",
      "Series: 'category_list' [u32]\n",
      "[\n",
      "\t179387\n",
      "], 'category_groups_list': shape: (1,)\n",
      "Series: 'category_groups_list' [u32]\n",
      "[\n",
      "\t179387\n",
      "], 'num_funding_rounds': shape: (1,)\n",
      "Series: 'num_funding_rounds' [u32]\n",
      "[\n",
      "\t2972641\n",
      "], 'total_funding_usd': shape: (1,)\n",
      "Series: 'total_funding_usd' [u32]\n",
      "[\n",
      "\t2972796\n",
      "], 'total_funding': shape: (1,)\n",
      "Series: 'total_funding' [u32]\n",
      "[\n",
      "\t2972796\n",
      "], 'total_funding_currency_code': shape: (1,)\n",
      "Series: 'total_funding_currency_code' [u32]\n",
      "[\n",
      "\t2972796\n",
      "], 'founded_on': shape: (1,)\n",
      "Series: 'founded_on' [u32]\n",
      "[\n",
      "\t610034\n",
      "], 'last_funding_on': shape: (1,)\n",
      "Series: 'last_funding_on' [u32]\n",
      "[\n",
      "\t2972793\n",
      "], 'closed_on': shape: (1,)\n",
      "Series: 'closed_on' [u32]\n",
      "[\n",
      "\t3251055\n",
      "], 'employee_count': shape: (1,)\n",
      "Series: 'employee_count' [u32]\n",
      "[\n",
      "\t0\n",
      "], 'email': shape: (1,)\n",
      "Series: 'email' [u32]\n",
      "[\n",
      "\t898440\n",
      "], 'phone': shape: (1,)\n",
      "Series: 'phone' [u32]\n",
      "[\n",
      "\t742374\n",
      "], 'facebook_url': shape: (1,)\n",
      "Series: 'facebook_url' [u32]\n",
      "[\n",
      "\t1334614\n",
      "], 'linkedin_url': shape: (1,)\n",
      "Series: 'linkedin_url' [u32]\n",
      "[\n",
      "\t810036\n",
      "], 'twitter_url': shape: (1,)\n",
      "Series: 'twitter_url' [u32]\n",
      "[\n",
      "\t1883121\n",
      "], 'logo_url': shape: (1,)\n",
      "Series: 'logo_url' [u32]\n",
      "[\n",
      "\t211364\n",
      "], 'alias1': shape: (1,)\n",
      "Series: 'alias1' [u32]\n",
      "[\n",
      "\t2734735\n",
      "], 'alias2': shape: (1,)\n",
      "Series: 'alias2' [u32]\n",
      "[\n",
      "\t3219295\n",
      "], 'alias3': shape: (1,)\n",
      "Series: 'alias3' [u32]\n",
      "[\n",
      "\t3263191\n",
      "], 'primary_role': shape: (1,)\n",
      "Series: 'primary_role' [u32]\n",
      "[\n",
      "\t0\n",
      "], 'num_exits': shape: (1,)\n",
      "Series: 'num_exits' [u32]\n",
      "[\n",
      "\t3260980\n",
      "], 'description': shape: (1,)\n",
      "Series: 'description' [u32]\n",
      "[\n",
      "\t1882813\n",
      "]}\n"
     ]
    }
   ],
   "source": [
    "print(merged.null_count().to_dict())"
   ]
  },
  {
   "cell_type": "code",
   "execution_count": 11,
   "id": "6b23d502",
   "metadata": {
    "execution": {
     "iopub.execute_input": "2025-08-17T09:42:17.318667Z",
     "iopub.status.busy": "2025-08-17T09:42:17.318008Z",
     "iopub.status.idle": "2025-08-17T09:42:20.302915Z",
     "shell.execute_reply": "2025-08-17T09:42:20.302092Z"
    },
    "papermill": {
     "duration": 2.992091,
     "end_time": "2025-08-17T09:42:20.304574",
     "exception": false,
     "start_time": "2025-08-17T09:42:17.312483",
     "status": "completed"
    },
    "tags": []
   },
   "outputs": [],
   "source": [
    "# Handling missing values priority-wise for columns\n",
    "merged = merged.with_columns(\n",
    "    # Text\n",
    "    pl.col(\"description\").fill_null(\"NO_DESCRIPTION\"),\n",
    "    \n",
    "    # Numeric\n",
    "    pl.col(\"total_funding_usd\").fill_null(0),\n",
    "    \n",
    "    # Categorical\n",
    "    pl.col(\"country_code\").fill_null(\"UNKNOWN\"),\n",
    "    pl.col(\"status\").fill_null(\"UNKNOWN\")\n",
    ")"
   ]
  },
  {
   "cell_type": "code",
   "execution_count": 12,
   "id": "0e13a903",
   "metadata": {
    "execution": {
     "iopub.execute_input": "2025-08-17T09:42:20.315221Z",
     "iopub.status.busy": "2025-08-17T09:42:20.314924Z",
     "iopub.status.idle": "2025-08-17T09:42:20.320773Z",
     "shell.execute_reply": "2025-08-17T09:42:20.319363Z"
    },
    "papermill": {
     "duration": 0.012613,
     "end_time": "2025-08-17T09:42:20.322212",
     "exception": false,
     "start_time": "2025-08-17T09:42:20.309599",
     "status": "completed"
    },
    "tags": []
   },
   "outputs": [
    {
     "name": "stdout",
     "output_type": "stream",
     "text": [
      "{'uuid': shape: (1,)\n",
      "Series: 'uuid' [u32]\n",
      "[\n",
      "\t0\n",
      "], 'name': shape: (1,)\n",
      "Series: 'name' [u32]\n",
      "[\n",
      "\t0\n",
      "], 'type': shape: (1,)\n",
      "Series: 'type' [u32]\n",
      "[\n",
      "\t0\n",
      "], 'permalink': shape: (1,)\n",
      "Series: 'permalink' [u32]\n",
      "[\n",
      "\t0\n",
      "], 'cb_url': shape: (1,)\n",
      "Series: 'cb_url' [u32]\n",
      "[\n",
      "\t0\n",
      "], 'rank': shape: (1,)\n",
      "Series: 'rank' [u32]\n",
      "[\n",
      "\t170\n",
      "], 'created_at': shape: (1,)\n",
      "Series: 'created_at' [u32]\n",
      "[\n",
      "\t0\n",
      "], 'updated_at': shape: (1,)\n",
      "Series: 'updated_at' [u32]\n",
      "[\n",
      "\t0\n",
      "], 'legal_name': shape: (1,)\n",
      "Series: 'legal_name' [u32]\n",
      "[\n",
      "\t1636494\n",
      "], 'roles': shape: (1,)\n",
      "Series: 'roles' [u32]\n",
      "[\n",
      "\t32563\n",
      "], 'domain': shape: (1,)\n",
      "Series: 'domain' [u32]\n",
      "[\n",
      "\t104885\n",
      "], 'homepage_url': shape: (1,)\n",
      "Series: 'homepage_url' [u32]\n",
      "[\n",
      "\t104885\n",
      "], 'country_code': shape: (1,)\n",
      "Series: 'country_code' [u32]\n",
      "[\n",
      "\t0\n",
      "], 'state_code': shape: (1,)\n",
      "Series: 'state_code' [u32]\n",
      "[\n",
      "\t1861079\n",
      "], 'region': shape: (1,)\n",
      "Series: 'region' [u32]\n",
      "[\n",
      "\t207966\n",
      "], 'city': shape: (1,)\n",
      "Series: 'city' [u32]\n",
      "[\n",
      "\t207966\n",
      "], 'address': shape: (1,)\n",
      "Series: 'address' [u32]\n",
      "[\n",
      "\t1210047\n",
      "], 'postal_code': shape: (1,)\n",
      "Series: 'postal_code' [u32]\n",
      "[\n",
      "\t1281118\n",
      "], 'status': shape: (1,)\n",
      "Series: 'status' [u32]\n",
      "[\n",
      "\t0\n",
      "], 'short_description': shape: (1,)\n",
      "Series: 'short_description' [u32]\n",
      "[\n",
      "\t8\n",
      "], 'category_list': shape: (1,)\n",
      "Series: 'category_list' [u32]\n",
      "[\n",
      "\t179387\n",
      "], 'category_groups_list': shape: (1,)\n",
      "Series: 'category_groups_list' [u32]\n",
      "[\n",
      "\t179387\n",
      "], 'num_funding_rounds': shape: (1,)\n",
      "Series: 'num_funding_rounds' [u32]\n",
      "[\n",
      "\t2972641\n",
      "], 'total_funding_usd': shape: (1,)\n",
      "Series: 'total_funding_usd' [u32]\n",
      "[\n",
      "\t0\n",
      "], 'total_funding': shape: (1,)\n",
      "Series: 'total_funding' [u32]\n",
      "[\n",
      "\t2972796\n",
      "], 'total_funding_currency_code': shape: (1,)\n",
      "Series: 'total_funding_currency_code' [u32]\n",
      "[\n",
      "\t2972796\n",
      "], 'founded_on': shape: (1,)\n",
      "Series: 'founded_on' [u32]\n",
      "[\n",
      "\t610034\n",
      "], 'last_funding_on': shape: (1,)\n",
      "Series: 'last_funding_on' [u32]\n",
      "[\n",
      "\t2972793\n",
      "], 'closed_on': shape: (1,)\n",
      "Series: 'closed_on' [u32]\n",
      "[\n",
      "\t3251055\n",
      "], 'employee_count': shape: (1,)\n",
      "Series: 'employee_count' [u32]\n",
      "[\n",
      "\t0\n",
      "], 'email': shape: (1,)\n",
      "Series: 'email' [u32]\n",
      "[\n",
      "\t898440\n",
      "], 'phone': shape: (1,)\n",
      "Series: 'phone' [u32]\n",
      "[\n",
      "\t742374\n",
      "], 'facebook_url': shape: (1,)\n",
      "Series: 'facebook_url' [u32]\n",
      "[\n",
      "\t1334614\n",
      "], 'linkedin_url': shape: (1,)\n",
      "Series: 'linkedin_url' [u32]\n",
      "[\n",
      "\t810036\n",
      "], 'twitter_url': shape: (1,)\n",
      "Series: 'twitter_url' [u32]\n",
      "[\n",
      "\t1883121\n",
      "], 'logo_url': shape: (1,)\n",
      "Series: 'logo_url' [u32]\n",
      "[\n",
      "\t211364\n",
      "], 'alias1': shape: (1,)\n",
      "Series: 'alias1' [u32]\n",
      "[\n",
      "\t2734735\n",
      "], 'alias2': shape: (1,)\n",
      "Series: 'alias2' [u32]\n",
      "[\n",
      "\t3219295\n",
      "], 'alias3': shape: (1,)\n",
      "Series: 'alias3' [u32]\n",
      "[\n",
      "\t3263191\n",
      "], 'primary_role': shape: (1,)\n",
      "Series: 'primary_role' [u32]\n",
      "[\n",
      "\t0\n",
      "], 'num_exits': shape: (1,)\n",
      "Series: 'num_exits' [u32]\n",
      "[\n",
      "\t3260980\n",
      "], 'description': shape: (1,)\n",
      "Series: 'description' [u32]\n",
      "[\n",
      "\t0\n",
      "]}\n"
     ]
    }
   ],
   "source": [
    "print(merged.null_count().to_dict())"
   ]
  },
  {
   "cell_type": "code",
   "execution_count": 13,
   "id": "5c4284af",
   "metadata": {
    "execution": {
     "iopub.execute_input": "2025-08-17T09:42:20.332956Z",
     "iopub.status.busy": "2025-08-17T09:42:20.332632Z",
     "iopub.status.idle": "2025-08-17T09:42:36.394044Z",
     "shell.execute_reply": "2025-08-17T09:42:36.393012Z"
    },
    "papermill": {
     "duration": 16.068921,
     "end_time": "2025-08-17T09:42:36.396052",
     "exception": false,
     "start_time": "2025-08-17T09:42:20.327131",
     "status": "completed"
    },
    "tags": []
   },
   "outputs": [],
   "source": [
    "# Text Preprocessing in descritions column\n",
    "merged = merged.with_columns(\n",
    "    pl.col(\"description\")\n",
    "    .str.to_lowercase()\n",
    "    .str.replace_all(r\"[^\\w\\s]\", \"\")  # Remove punctuation\n",
    "    .str.replace_all(r\"\\s+\", \" \")     # Collapse whitespace\n",
    "    .alias(\"clean_description\")\n",
    ")"
   ]
  },
  {
   "cell_type": "code",
   "execution_count": 14,
   "id": "55affcc9",
   "metadata": {
    "execution": {
     "iopub.execute_input": "2025-08-17T09:42:36.407648Z",
     "iopub.status.busy": "2025-08-17T09:42:36.406671Z",
     "iopub.status.idle": "2025-08-17T09:42:36.416195Z",
     "shell.execute_reply": "2025-08-17T09:42:36.415219Z"
    },
    "papermill": {
     "duration": 0.016673,
     "end_time": "2025-08-17T09:42:36.417780",
     "exception": false,
     "start_time": "2025-08-17T09:42:36.401107",
     "status": "completed"
    },
    "tags": []
   },
   "outputs": [
    {
     "data": {
      "text/html": [
       "<div><style>\n",
       ".dataframe > thead > tr,\n",
       ".dataframe > tbody > tr {\n",
       "  text-align: right;\n",
       "  white-space: pre-wrap;\n",
       "}\n",
       "</style>\n",
       "<small>shape: (5, 43)</small><table border=\"1\" class=\"dataframe\"><thead><tr><th>uuid</th><th>name</th><th>type</th><th>permalink</th><th>cb_url</th><th>rank</th><th>created_at</th><th>updated_at</th><th>legal_name</th><th>roles</th><th>domain</th><th>homepage_url</th><th>country_code</th><th>state_code</th><th>region</th><th>city</th><th>address</th><th>postal_code</th><th>status</th><th>short_description</th><th>category_list</th><th>category_groups_list</th><th>num_funding_rounds</th><th>total_funding_usd</th><th>total_funding</th><th>total_funding_currency_code</th><th>founded_on</th><th>last_funding_on</th><th>closed_on</th><th>employee_count</th><th>email</th><th>phone</th><th>facebook_url</th><th>linkedin_url</th><th>twitter_url</th><th>logo_url</th><th>alias1</th><th>alias2</th><th>alias3</th><th>primary_role</th><th>num_exits</th><th>description</th><th>clean_description</th></tr><tr><td>str</td><td>str</td><td>str</td><td>str</td><td>str</td><td>i64</td><td>str</td><td>str</td><td>str</td><td>str</td><td>str</td><td>str</td><td>str</td><td>str</td><td>str</td><td>str</td><td>str</td><td>str</td><td>str</td><td>str</td><td>str</td><td>str</td><td>i64</td><td>i64</td><td>i64</td><td>str</td><td>str</td><td>str</td><td>str</td><td>str</td><td>str</td><td>str</td><td>str</td><td>str</td><td>str</td><td>str</td><td>str</td><td>str</td><td>str</td><td>str</td><td>i64</td><td>str</td><td>str</td></tr></thead><tbody><tr><td>&quot;e1393508-30ea-8a36-3f96-dd3226…</td><td>&quot;Wetpaint&quot;</td><td>&quot;organization&quot;</td><td>&quot;wetpaint&quot;</td><td>&quot;https://www.crunchbase.com/org…</td><td>167617</td><td>&quot;2007-05-25 13:51:27&quot;</td><td>&quot;2023-08-01 00:01:37&quot;</td><td>null</td><td>&quot;company&quot;</td><td>&quot;wetpaint.com&quot;</td><td>&quot;http://www.wetpaint.com/&quot;</td><td>&quot;USA&quot;</td><td>&quot;NY&quot;</td><td>&quot;New York&quot;</td><td>&quot;New York&quot;</td><td>&quot;902 Broadway 11th Floor New&quot;</td><td>&quot;10010&quot;</td><td>&quot;acquired&quot;</td><td>&quot;Wetpaint offers an online soci…</td><td>&quot;Publishing,Social Media,Social…</td><td>&quot;Content and Publishing,Interne…</td><td>3</td><td>39750000</td><td>39750000</td><td>&quot;USD&quot;</td><td>&quot;2005-06-01&quot;</td><td>&quot;2008-05-19&quot;</td><td>null</td><td>&quot;51-100&quot;</td><td>&quot;info@wetpaint.com&quot;</td><td>&quot;206-859-6300&quot;</td><td>&quot;https://www.facebook.com/Wetpa…</td><td>&quot;https://www.linkedin.com/compa…</td><td>&quot;https://twitter.com/wetpainttv&quot;</td><td>&quot;https://images.crunchbase.com/…</td><td>null</td><td>null</td><td>null</td><td>&quot;company&quot;</td><td>null</td><td>&quot;Wetpaint is a technology platf…</td><td>&quot;wetpaint is a technology platf…</td></tr><tr><td>&quot;bf4d7b0e-b34d-2fd8-d292-6049c4…</td><td>&quot;Zoho&quot;</td><td>&quot;organization&quot;</td><td>&quot;zoho&quot;</td><td>&quot;https://www.crunchbase.com/org…</td><td>168555</td><td>&quot;2007-05-26 02:30:28&quot;</td><td>&quot;2023-10-19 07:46:32&quot;</td><td>&quot;Zoho Corporation Pvt. Ltd.&quot;</td><td>&quot;investor,company&quot;</td><td>&quot;zoho.com&quot;</td><td>&quot;https://www.zoho.com&quot;</td><td>&quot;USA&quot;</td><td>&quot;CA&quot;</td><td>&quot;California&quot;</td><td>&quot;Pleasanton&quot;</td><td>&quot;4141 Hacienda Dr&quot;</td><td>&quot;94588&quot;</td><td>&quot;operating&quot;</td><td>&quot;Zoho offers a suite of busines…</td><td>&quot;Cloud Computing,Collaboration,…</td><td>&quot;Administrative Services,Apps,I…</td><td>null</td><td>0</td><td>null</td><td>null</td><td>&quot;1996-03-17&quot;</td><td>null</td><td>null</td><td>&quot;10000+&quot;</td><td>&quot;sales@zohocorp.com&quot;</td><td>&quot;1800 103 1123 /1800 572 3535&quot;</td><td>&quot;http://www.facebook.com/zoho&quot;</td><td>&quot;https://www.linkedin.com/compa…</td><td>&quot;http://twitter.com/zoho&quot;</td><td>&quot;https://images.crunchbase.com/…</td><td>null</td><td>null</td><td>null</td><td>&quot;company&quot;</td><td>2</td><td>&quot;Zoho offers a suite of busines…</td><td>&quot;zoho offers a suite of busines…</td></tr><tr><td>&quot;5f2b40b8-d1b3-d323-d81a-b7a8e8…</td><td>&quot;Digg&quot;</td><td>&quot;organization&quot;</td><td>&quot;digg&quot;</td><td>&quot;https://www.crunchbase.com/org…</td><td>25570</td><td>&quot;2007-05-26 03:03:23&quot;</td><td>&quot;2024-01-26 08:06:40&quot;</td><td>&quot;Digg Holdings, LLC&quot;</td><td>&quot;company&quot;</td><td>&quot;digg.com&quot;</td><td>&quot;http://www.digg.com&quot;</td><td>&quot;USA&quot;</td><td>&quot;NY&quot;</td><td>&quot;New York&quot;</td><td>&quot;New York&quot;</td><td>null</td><td>null</td><td>&quot;acquired&quot;</td><td>&quot;Digg Inc. operates a website t…</td><td>&quot;Internet,Social Media,Social N…</td><td>&quot;Internet Services,Media and En…</td><td>6</td><td>49000000</td><td>49000000</td><td>&quot;USD&quot;</td><td>&quot;2004-10-11&quot;</td><td>&quot;2016-09-13&quot;</td><td>null</td><td>&quot;51-100&quot;</td><td>&quot;feedback@digg.com&quot;</td><td>null</td><td>&quot;http://www.facebook.com/digg&quot;</td><td>&quot;http://www.linkedin.com/compan…</td><td>&quot;http://twitter.com/digg&quot;</td><td>&quot;https://images.crunchbase.com/…</td><td>null</td><td>null</td><td>null</td><td>&quot;company&quot;</td><td>null</td><td>&quot;Digg Inc. operates a website t…</td><td>&quot;digg inc operates a website th…</td></tr><tr><td>&quot;f4d5ab44-058b-298b-ea81-380e6e…</td><td>&quot;Omidyar Network&quot;</td><td>&quot;organization&quot;</td><td>&quot;omidyar-network&quot;</td><td>&quot;https://www.crunchbase.com/org…</td><td>30539</td><td>&quot;2007-05-26 03:21:34&quot;</td><td>&quot;2023-08-30 02:27:06&quot;</td><td>null</td><td>&quot;investor,company&quot;</td><td>&quot;omidyar.com&quot;</td><td>&quot;http://www.omidyar.com&quot;</td><td>&quot;USA&quot;</td><td>&quot;CA&quot;</td><td>&quot;California&quot;</td><td>&quot;Redwood City&quot;</td><td>&quot;1991 Broadway Suite 200&quot;</td><td>&quot;94063&quot;</td><td>&quot;operating&quot;</td><td>&quot;Omidyar Network is an investme…</td><td>&quot;Enterprise Software,Financial …</td><td>&quot;Financial Services,Lending and…</td><td>null</td><td>0</td><td>null</td><td>null</td><td>&quot;2004-01-01&quot;</td><td>null</td><td>null</td><td>&quot;101-250&quot;</td><td>&quot;info@omidyar.com&quot;</td><td>&quot;650.482.2500&quot;</td><td>&quot;http://www.facebook.com/Omidya…</td><td>&quot;http://www.linkedin.com/compan…</td><td>&quot;http://twitter.com/OmidyarNetw…</td><td>&quot;https://images.crunchbase.com/…</td><td>null</td><td>null</td><td>null</td><td>&quot;investor&quot;</td><td>62</td><td>&quot;Pierre Omidyar, the founder of…</td><td>&quot;pierre omidyar the founder of …</td></tr><tr><td>&quot;df662812-7f97-0b43-9d3e-12f64f…</td><td>&quot;Meta&quot;</td><td>&quot;organization&quot;</td><td>&quot;facebook&quot;</td><td>&quot;https://www.crunchbase.com/org…</td><td>119</td><td>&quot;2007-05-26 04:22:15&quot;</td><td>&quot;2023-11-27 12:05:27&quot;</td><td>&quot;Meta Platforms, Inc.&quot;</td><td>&quot;investor,company&quot;</td><td>&quot;meta.com&quot;</td><td>&quot;https://meta.com&quot;</td><td>&quot;USA&quot;</td><td>&quot;CA&quot;</td><td>&quot;California&quot;</td><td>&quot;Menlo Park&quot;</td><td>&quot;1 Hacker Way&quot;</td><td>&quot;94025&quot;</td><td>&quot;ipo&quot;</td><td>&quot;Meta is a social technology co…</td><td>&quot;Augmented Reality,Metaverse,Mo…</td><td>&quot;Hardware,Internet Services,Med…</td><td>14</td><td>24607817488</td><td>24607817488</td><td>&quot;USD&quot;</td><td>&quot;2004-02-04&quot;</td><td>&quot;2022-08-04&quot;</td><td>null</td><td>&quot;10000+&quot;</td><td>null</td><td>null</td><td>&quot;https://www.facebook.com/Meta&quot;</td><td>&quot;https://www.linkedin.com/compa…</td><td>&quot;https://www.twitter.com/Meta&quot;</td><td>&quot;https://images.crunchbase.com/…</td><td>&quot;Facebook&quot;</td><td>&quot;Facebook, Inc.&quot;</td><td>&quot;FB&quot;</td><td>&quot;company&quot;</td><td>1</td><td>&quot;Meta is a social technology co…</td><td>&quot;meta is a social technology co…</td></tr></tbody></table></div>"
      ],
      "text/plain": [
       "shape: (5, 43)\n",
       "┌───────────┬───────────┬───────────┬───────────┬───┬───────────┬───────────┬───────────┬──────────┐\n",
       "│ uuid      ┆ name      ┆ type      ┆ permalink ┆ … ┆ primary_r ┆ num_exits ┆ descripti ┆ clean_de │\n",
       "│ ---       ┆ ---       ┆ ---       ┆ ---       ┆   ┆ ole       ┆ ---       ┆ on        ┆ scriptio │\n",
       "│ str       ┆ str       ┆ str       ┆ str       ┆   ┆ ---       ┆ i64       ┆ ---       ┆ n        │\n",
       "│           ┆           ┆           ┆           ┆   ┆ str       ┆           ┆ str       ┆ ---      │\n",
       "│           ┆           ┆           ┆           ┆   ┆           ┆           ┆           ┆ str      │\n",
       "╞═══════════╪═══════════╪═══════════╪═══════════╪═══╪═══════════╪═══════════╪═══════════╪══════════╡\n",
       "│ e1393508- ┆ Wetpaint  ┆ organizat ┆ wetpaint  ┆ … ┆ company   ┆ null      ┆ Wetpaint  ┆ wetpaint │\n",
       "│ 30ea-8a36 ┆           ┆ ion       ┆           ┆   ┆           ┆           ┆ is a tech ┆ is a tec │\n",
       "│ -3f96-dd3 ┆           ┆           ┆           ┆   ┆           ┆           ┆ nology    ┆ hnology  │\n",
       "│ 226…      ┆           ┆           ┆           ┆   ┆           ┆           ┆ platf…    ┆ platf…   │\n",
       "│ bf4d7b0e- ┆ Zoho      ┆ organizat ┆ zoho      ┆ … ┆ company   ┆ 2         ┆ Zoho      ┆ zoho     │\n",
       "│ b34d-2fd8 ┆           ┆ ion       ┆           ┆   ┆           ┆           ┆ offers a  ┆ offers a │\n",
       "│ -d292-604 ┆           ┆           ┆           ┆   ┆           ┆           ┆ suite of  ┆ suite of │\n",
       "│ 9c4…      ┆           ┆           ┆           ┆   ┆           ┆           ┆ busines…  ┆ busines… │\n",
       "│ 5f2b40b8- ┆ Digg      ┆ organizat ┆ digg      ┆ … ┆ company   ┆ null      ┆ Digg Inc. ┆ digg inc │\n",
       "│ d1b3-d323 ┆           ┆ ion       ┆           ┆   ┆           ┆           ┆ operates  ┆ operates │\n",
       "│ -d81a-b7a ┆           ┆           ┆           ┆   ┆           ┆           ┆ a website ┆ a        │\n",
       "│ 8e8…      ┆           ┆           ┆           ┆   ┆           ┆           ┆ t…        ┆ website  │\n",
       "│           ┆           ┆           ┆           ┆   ┆           ┆           ┆           ┆ th…      │\n",
       "│ f4d5ab44- ┆ Omidyar   ┆ organizat ┆ omidyar-n ┆ … ┆ investor  ┆ 62        ┆ Pierre    ┆ pierre   │\n",
       "│ 058b-298b ┆ Network   ┆ ion       ┆ etwork    ┆   ┆           ┆           ┆ Omidyar,  ┆ omidyar  │\n",
       "│ -ea81-380 ┆           ┆           ┆           ┆   ┆           ┆           ┆ the       ┆ the      │\n",
       "│ e6e…      ┆           ┆           ┆           ┆   ┆           ┆           ┆ founder   ┆ founder  │\n",
       "│           ┆           ┆           ┆           ┆   ┆           ┆           ┆ of…       ┆ of …     │\n",
       "│ df662812- ┆ Meta      ┆ organizat ┆ facebook  ┆ … ┆ company   ┆ 1         ┆ Meta is a ┆ meta is  │\n",
       "│ 7f97-0b43 ┆           ┆ ion       ┆           ┆   ┆           ┆           ┆ social    ┆ a social │\n",
       "│ -9d3e-12f ┆           ┆           ┆           ┆   ┆           ┆           ┆ technolog ┆ technolo │\n",
       "│ 64f…      ┆           ┆           ┆           ┆   ┆           ┆           ┆ y co…     ┆ gy co…   │\n",
       "└───────────┴───────────┴───────────┴───────────┴───┴───────────┴───────────┴───────────┴──────────┘"
      ]
     },
     "execution_count": 14,
     "metadata": {},
     "output_type": "execute_result"
    }
   ],
   "source": [
    "merged.head()"
   ]
  },
  {
   "cell_type": "code",
   "execution_count": 15,
   "id": "a0fc1cf3",
   "metadata": {
    "execution": {
     "iopub.execute_input": "2025-08-17T09:42:36.429620Z",
     "iopub.status.busy": "2025-08-17T09:42:36.429244Z",
     "iopub.status.idle": "2025-08-17T09:42:36.922084Z",
     "shell.execute_reply": "2025-08-17T09:42:36.921277Z"
    },
    "papermill": {
     "duration": 0.500429,
     "end_time": "2025-08-17T09:42:36.923644",
     "exception": false,
     "start_time": "2025-08-17T09:42:36.423215",
     "status": "completed"
    },
    "tags": []
   },
   "outputs": [],
   "source": [
    "# Handling missing values of other high impact columns aswell\n",
    "merged = merged.with_columns(\n",
    "    # Funding data\n",
    "    pl.col(\"total_funding_usd\").fill_null(0).cast(pl.Int64),\n",
    "    pl.col(\"num_funding_rounds\").fill_null(0).cast(pl.Int16),\n",
    "    \n",
    "    # Categoricals\n",
    "    pl.col(\"category_list\").fill_null(\"uncategorized\"),\n",
    "    pl.col(\"employee_count\").fill_null(\"size_unknown\"),\n",
    "    \n",
    "    # URLs (empty strings better than null)\n",
    "    pl.col(\"homepage_url\").fill_null(\"\"),\n",
    "    pl.col(\"logo_url\").fill_null(\"\"),\n",
    "    \n",
    "    # Dates (extreme values for analysis)\n",
    "    pl.col(\"founded_on\").fill_null(pl.date(1900, 1, 1)),\n",
    "    pl.col(\"last_funding_on\").fill_null(pl.date(1970, 1, 1))\n",
    ")"
   ]
  },
  {
   "cell_type": "code",
   "execution_count": 16,
   "id": "30699642",
   "metadata": {
    "execution": {
     "iopub.execute_input": "2025-08-17T09:42:36.935427Z",
     "iopub.status.busy": "2025-08-17T09:42:36.935132Z",
     "iopub.status.idle": "2025-08-17T09:42:36.940138Z",
     "shell.execute_reply": "2025-08-17T09:42:36.939249Z"
    },
    "papermill": {
     "duration": 0.012731,
     "end_time": "2025-08-17T09:42:36.941662",
     "exception": false,
     "start_time": "2025-08-17T09:42:36.928931",
     "status": "completed"
    },
    "tags": []
   },
   "outputs": [
    {
     "name": "stdout",
     "output_type": "stream",
     "text": [
      "{'uuid': shape: (1,)\n",
      "Series: 'uuid' [u32]\n",
      "[\n",
      "\t0\n",
      "], 'name': shape: (1,)\n",
      "Series: 'name' [u32]\n",
      "[\n",
      "\t0\n",
      "], 'type': shape: (1,)\n",
      "Series: 'type' [u32]\n",
      "[\n",
      "\t0\n",
      "], 'permalink': shape: (1,)\n",
      "Series: 'permalink' [u32]\n",
      "[\n",
      "\t0\n",
      "], 'cb_url': shape: (1,)\n",
      "Series: 'cb_url' [u32]\n",
      "[\n",
      "\t0\n",
      "], 'rank': shape: (1,)\n",
      "Series: 'rank' [u32]\n",
      "[\n",
      "\t170\n",
      "], 'created_at': shape: (1,)\n",
      "Series: 'created_at' [u32]\n",
      "[\n",
      "\t0\n",
      "], 'updated_at': shape: (1,)\n",
      "Series: 'updated_at' [u32]\n",
      "[\n",
      "\t0\n",
      "], 'legal_name': shape: (1,)\n",
      "Series: 'legal_name' [u32]\n",
      "[\n",
      "\t1636494\n",
      "], 'roles': shape: (1,)\n",
      "Series: 'roles' [u32]\n",
      "[\n",
      "\t32563\n",
      "], 'domain': shape: (1,)\n",
      "Series: 'domain' [u32]\n",
      "[\n",
      "\t104885\n",
      "], 'homepage_url': shape: (1,)\n",
      "Series: 'homepage_url' [u32]\n",
      "[\n",
      "\t0\n",
      "], 'country_code': shape: (1,)\n",
      "Series: 'country_code' [u32]\n",
      "[\n",
      "\t0\n",
      "], 'state_code': shape: (1,)\n",
      "Series: 'state_code' [u32]\n",
      "[\n",
      "\t1861079\n",
      "], 'region': shape: (1,)\n",
      "Series: 'region' [u32]\n",
      "[\n",
      "\t207966\n",
      "], 'city': shape: (1,)\n",
      "Series: 'city' [u32]\n",
      "[\n",
      "\t207966\n",
      "], 'address': shape: (1,)\n",
      "Series: 'address' [u32]\n",
      "[\n",
      "\t1210047\n",
      "], 'postal_code': shape: (1,)\n",
      "Series: 'postal_code' [u32]\n",
      "[\n",
      "\t1281118\n",
      "], 'status': shape: (1,)\n",
      "Series: 'status' [u32]\n",
      "[\n",
      "\t0\n",
      "], 'short_description': shape: (1,)\n",
      "Series: 'short_description' [u32]\n",
      "[\n",
      "\t8\n",
      "], 'category_list': shape: (1,)\n",
      "Series: 'category_list' [u32]\n",
      "[\n",
      "\t0\n",
      "], 'category_groups_list': shape: (1,)\n",
      "Series: 'category_groups_list' [u32]\n",
      "[\n",
      "\t179387\n",
      "], 'num_funding_rounds': shape: (1,)\n",
      "Series: 'num_funding_rounds' [u32]\n",
      "[\n",
      "\t0\n",
      "], 'total_funding_usd': shape: (1,)\n",
      "Series: 'total_funding_usd' [u32]\n",
      "[\n",
      "\t0\n",
      "], 'total_funding': shape: (1,)\n",
      "Series: 'total_funding' [u32]\n",
      "[\n",
      "\t2972796\n",
      "], 'total_funding_currency_code': shape: (1,)\n",
      "Series: 'total_funding_currency_code' [u32]\n",
      "[\n",
      "\t2972796\n",
      "], 'founded_on': shape: (1,)\n",
      "Series: 'founded_on' [u32]\n",
      "[\n",
      "\t0\n",
      "], 'last_funding_on': shape: (1,)\n",
      "Series: 'last_funding_on' [u32]\n",
      "[\n",
      "\t0\n",
      "], 'closed_on': shape: (1,)\n",
      "Series: 'closed_on' [u32]\n",
      "[\n",
      "\t3251055\n",
      "], 'employee_count': shape: (1,)\n",
      "Series: 'employee_count' [u32]\n",
      "[\n",
      "\t0\n",
      "], 'email': shape: (1,)\n",
      "Series: 'email' [u32]\n",
      "[\n",
      "\t898440\n",
      "], 'phone': shape: (1,)\n",
      "Series: 'phone' [u32]\n",
      "[\n",
      "\t742374\n",
      "], 'facebook_url': shape: (1,)\n",
      "Series: 'facebook_url' [u32]\n",
      "[\n",
      "\t1334614\n",
      "], 'linkedin_url': shape: (1,)\n",
      "Series: 'linkedin_url' [u32]\n",
      "[\n",
      "\t810036\n",
      "], 'twitter_url': shape: (1,)\n",
      "Series: 'twitter_url' [u32]\n",
      "[\n",
      "\t1883121\n",
      "], 'logo_url': shape: (1,)\n",
      "Series: 'logo_url' [u32]\n",
      "[\n",
      "\t0\n",
      "], 'alias1': shape: (1,)\n",
      "Series: 'alias1' [u32]\n",
      "[\n",
      "\t2734735\n",
      "], 'alias2': shape: (1,)\n",
      "Series: 'alias2' [u32]\n",
      "[\n",
      "\t3219295\n",
      "], 'alias3': shape: (1,)\n",
      "Series: 'alias3' [u32]\n",
      "[\n",
      "\t3263191\n",
      "], 'primary_role': shape: (1,)\n",
      "Series: 'primary_role' [u32]\n",
      "[\n",
      "\t0\n",
      "], 'num_exits': shape: (1,)\n",
      "Series: 'num_exits' [u32]\n",
      "[\n",
      "\t3260980\n",
      "], 'description': shape: (1,)\n",
      "Series: 'description' [u32]\n",
      "[\n",
      "\t0\n",
      "], 'clean_description': shape: (1,)\n",
      "Series: 'clean_description' [u32]\n",
      "[\n",
      "\t0\n",
      "]}\n"
     ]
    }
   ],
   "source": [
    "print(merged.null_count().to_dict())"
   ]
  },
  {
   "cell_type": "markdown",
   "id": "c433e8b7",
   "metadata": {
    "papermill": {
     "duration": 0.004953,
     "end_time": "2025-08-17T09:42:36.952083",
     "exception": false,
     "start_time": "2025-08-17T09:42:36.947130",
     "status": "completed"
    },
    "tags": []
   },
   "source": [
    "* Other High Null Count columns can be dropped for further cleaning, for now we will leave them as it is as we are mainly going to be working with descriptions columns for now."
   ]
  },
  {
   "cell_type": "code",
   "execution_count": 17,
   "id": "ab1b2932",
   "metadata": {
    "execution": {
     "iopub.execute_input": "2025-08-17T09:42:36.963686Z",
     "iopub.status.busy": "2025-08-17T09:42:36.963324Z",
     "iopub.status.idle": "2025-08-17T09:42:46.072674Z",
     "shell.execute_reply": "2025-08-17T09:42:46.071780Z"
    },
    "papermill": {
     "duration": 9.117139,
     "end_time": "2025-08-17T09:42:46.074439",
     "exception": false,
     "start_time": "2025-08-17T09:42:36.957300",
     "status": "completed"
    },
    "tags": []
   },
   "outputs": [],
   "source": [
    "merged.write_csv(\"crunchbase_merged.csv\")  # Saves in current working directory"
   ]
  },
  {
   "cell_type": "code",
   "execution_count": 18,
   "id": "14c11484",
   "metadata": {
    "execution": {
     "iopub.execute_input": "2025-08-17T09:42:46.124834Z",
     "iopub.status.busy": "2025-08-17T09:42:46.124158Z",
     "iopub.status.idle": "2025-08-17T09:45:35.801157Z",
     "shell.execute_reply": "2025-08-17T09:45:35.799946Z"
    },
    "papermill": {
     "duration": 169.722549,
     "end_time": "2025-08-17T09:45:35.802916",
     "exception": false,
     "start_time": "2025-08-17T09:42:46.080367",
     "status": "completed"
    },
    "tags": []
   },
   "outputs": [
    {
     "name": "stdout",
     "output_type": "stream",
     "text": [
      "  adding: kaggle/working/crunchbase_merged.csv (deflated 72%)\r\n"
     ]
    }
   ],
   "source": [
    "!zip -r /kaggle/working/my_output.zip /kaggle/working/crunchbase_merged.csv\n"
   ]
  }
 ],
 "metadata": {
  "kaggle": {
   "accelerator": "none",
   "dataSources": [
    {
     "datasetId": 7960065,
     "sourceId": 12602955,
     "sourceType": "datasetVersion"
    }
   ],
   "dockerImageVersionId": 31089,
   "isGpuEnabled": false,
   "isInternetEnabled": true,
   "language": "python",
   "sourceType": "notebook"
  },
  "kernelspec": {
   "display_name": "Python 3",
   "language": "python",
   "name": "python3"
  },
  "language_info": {
   "codemirror_mode": {
    "name": "ipython",
    "version": 3
   },
   "file_extension": ".py",
   "mimetype": "text/x-python",
   "name": "python",
   "nbconvert_exporter": "python",
   "pygments_lexer": "ipython3",
   "version": "3.11.13"
  },
  "papermill": {
   "default_parameters": {},
   "duration": 246.381236,
   "end_time": "2025-08-17T09:45:37.633305",
   "environment_variables": {},
   "exception": null,
   "input_path": "__notebook__.ipynb",
   "output_path": "__notebook__.ipynb",
   "parameters": {},
   "start_time": "2025-08-17T09:41:31.252069",
   "version": "2.6.0"
  }
 },
 "nbformat": 4,
 "nbformat_minor": 5
}
