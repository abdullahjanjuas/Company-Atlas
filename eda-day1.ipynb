{
 "cells": [
  {
   "cell_type": "code",
   "execution_count": 1,
   "id": "7fc10348",
   "metadata": {
    "execution": {
     "iopub.execute_input": "2025-07-28T16:40:26.208080Z",
     "iopub.status.busy": "2025-07-28T16:40:26.207694Z",
     "iopub.status.idle": "2025-07-28T16:40:28.290427Z",
     "shell.execute_reply": "2025-07-28T16:40:28.289428Z"
    },
    "papermill": {
     "duration": 2.089648,
     "end_time": "2025-07-28T16:40:28.292266",
     "exception": false,
     "start_time": "2025-07-28T16:40:26.202618",
     "status": "completed"
    },
    "tags": []
   },
   "outputs": [],
   "source": [
    "import pandas as pd\n",
    "import matplotlib.pyplot as plt"
   ]
  },
  {
   "cell_type": "code",
   "execution_count": 2,
   "id": "88be2b1b",
   "metadata": {
    "execution": {
     "iopub.execute_input": "2025-07-28T16:40:28.300429Z",
     "iopub.status.busy": "2025-07-28T16:40:28.299953Z",
     "iopub.status.idle": "2025-07-28T16:42:17.666051Z",
     "shell.execute_reply": "2025-07-28T16:42:17.664994Z"
    },
    "papermill": {
     "duration": 109.371996,
     "end_time": "2025-07-28T16:42:17.667908",
     "exception": false,
     "start_time": "2025-07-28T16:40:28.295912",
     "status": "completed"
    },
    "tags": []
   },
   "outputs": [],
   "source": [
    "file_path = '/kaggle/input/organizations-csv/organizations.csv' # file path\n",
    "df = pd.read_csv(file_path)  # Loads entire file\n",
    "\n",
    "# read only the first 100K rows\n",
    "df = pd.read_csv(file_path, nrows=100000)"
   ]
  },
  {
   "cell_type": "code",
   "execution_count": 3,
   "id": "f17e7c44",
   "metadata": {
    "execution": {
     "iopub.execute_input": "2025-07-28T16:42:17.676408Z",
     "iopub.status.busy": "2025-07-28T16:42:17.675502Z",
     "iopub.status.idle": "2025-07-28T16:42:17.718490Z",
     "shell.execute_reply": "2025-07-28T16:42:17.717374Z"
    },
    "papermill": {
     "duration": 0.04853,
     "end_time": "2025-07-28T16:42:17.719936",
     "exception": false,
     "start_time": "2025-07-28T16:42:17.671406",
     "status": "completed"
    },
    "tags": []
   },
   "outputs": [
    {
     "name": "stderr",
     "output_type": "stream",
     "text": [
      "/usr/local/lib/python3.11/dist-packages/pandas/io/formats/format.py:1458: RuntimeWarning: invalid value encountered in greater\n",
      "  has_large_values = (abs_vals > 1e6).any()\n",
      "/usr/local/lib/python3.11/dist-packages/pandas/io/formats/format.py:1459: RuntimeWarning: invalid value encountered in less\n",
      "  has_small_values = ((abs_vals < 10 ** (-self.digits)) & (abs_vals > 0)).any()\n",
      "/usr/local/lib/python3.11/dist-packages/pandas/io/formats/format.py:1459: RuntimeWarning: invalid value encountered in greater\n",
      "  has_small_values = ((abs_vals < 10 ** (-self.digits)) & (abs_vals > 0)).any()\n",
      "/usr/local/lib/python3.11/dist-packages/pandas/io/formats/format.py:1458: RuntimeWarning: invalid value encountered in greater\n",
      "  has_large_values = (abs_vals > 1e6).any()\n",
      "/usr/local/lib/python3.11/dist-packages/pandas/io/formats/format.py:1459: RuntimeWarning: invalid value encountered in less\n",
      "  has_small_values = ((abs_vals < 10 ** (-self.digits)) & (abs_vals > 0)).any()\n",
      "/usr/local/lib/python3.11/dist-packages/pandas/io/formats/format.py:1459: RuntimeWarning: invalid value encountered in greater\n",
      "  has_small_values = ((abs_vals < 10 ** (-self.digits)) & (abs_vals > 0)).any()\n"
     ]
    },
    {
     "data": {
      "text/html": [
       "<div>\n",
       "<style scoped>\n",
       "    .dataframe tbody tr th:only-of-type {\n",
       "        vertical-align: middle;\n",
       "    }\n",
       "\n",
       "    .dataframe tbody tr th {\n",
       "        vertical-align: top;\n",
       "    }\n",
       "\n",
       "    .dataframe thead th {\n",
       "        text-align: right;\n",
       "    }\n",
       "</style>\n",
       "<table border=\"1\" class=\"dataframe\">\n",
       "  <thead>\n",
       "    <tr style=\"text-align: right;\">\n",
       "      <th></th>\n",
       "      <th>uuid</th>\n",
       "      <th>name</th>\n",
       "      <th>type</th>\n",
       "      <th>permalink</th>\n",
       "      <th>cb_url</th>\n",
       "      <th>rank</th>\n",
       "      <th>created_at</th>\n",
       "      <th>updated_at</th>\n",
       "      <th>legal_name</th>\n",
       "      <th>roles</th>\n",
       "      <th>...</th>\n",
       "      <th>phone</th>\n",
       "      <th>facebook_url</th>\n",
       "      <th>linkedin_url</th>\n",
       "      <th>twitter_url</th>\n",
       "      <th>logo_url</th>\n",
       "      <th>alias1</th>\n",
       "      <th>alias2</th>\n",
       "      <th>alias3</th>\n",
       "      <th>primary_role</th>\n",
       "      <th>num_exits</th>\n",
       "    </tr>\n",
       "  </thead>\n",
       "  <tbody>\n",
       "    <tr>\n",
       "      <th>0</th>\n",
       "      <td>e1393508-30ea-8a36-3f96-dd3226033abd</td>\n",
       "      <td>Wetpaint</td>\n",
       "      <td>organization</td>\n",
       "      <td>wetpaint</td>\n",
       "      <td>https://www.crunchbase.com/organization/wetpaint</td>\n",
       "      <td>167617</td>\n",
       "      <td>2007-05-25 13:51:27</td>\n",
       "      <td>2023-08-01 00:01:37</td>\n",
       "      <td>NaN</td>\n",
       "      <td>company</td>\n",
       "      <td>...</td>\n",
       "      <td>206-859-6300</td>\n",
       "      <td>https://www.facebook.com/Wetpaint</td>\n",
       "      <td>https://www.linkedin.com/company/recruitment-c...</td>\n",
       "      <td>https://twitter.com/wetpainttv</td>\n",
       "      <td>https://images.crunchbase.com/image/upload/t_c...</td>\n",
       "      <td>NaN</td>\n",
       "      <td>NaN</td>\n",
       "      <td>NaN</td>\n",
       "      <td>company</td>\n",
       "      <td>NaN</td>\n",
       "    </tr>\n",
       "    <tr>\n",
       "      <th>1</th>\n",
       "      <td>bf4d7b0e-b34d-2fd8-d292-6049c4f7efc7</td>\n",
       "      <td>Zoho</td>\n",
       "      <td>organization</td>\n",
       "      <td>zoho</td>\n",
       "      <td>https://www.crunchbase.com/organization/zoho</td>\n",
       "      <td>168555</td>\n",
       "      <td>2007-05-26 02:30:28</td>\n",
       "      <td>2023-10-19 07:46:32</td>\n",
       "      <td>Zoho Corporation Pvt. Ltd.</td>\n",
       "      <td>investor,company</td>\n",
       "      <td>...</td>\n",
       "      <td>1800 103 1123 /1800 572 3535</td>\n",
       "      <td>http://www.facebook.com/zoho</td>\n",
       "      <td>https://www.linkedin.com/company/zoho</td>\n",
       "      <td>http://twitter.com/zoho</td>\n",
       "      <td>https://images.crunchbase.com/image/upload/t_c...</td>\n",
       "      <td>NaN</td>\n",
       "      <td>NaN</td>\n",
       "      <td>NaN</td>\n",
       "      <td>company</td>\n",
       "      <td>2.0</td>\n",
       "    </tr>\n",
       "    <tr>\n",
       "      <th>2</th>\n",
       "      <td>5f2b40b8-d1b3-d323-d81a-b7a8e89553d0</td>\n",
       "      <td>Digg</td>\n",
       "      <td>organization</td>\n",
       "      <td>digg</td>\n",
       "      <td>https://www.crunchbase.com/organization/digg</td>\n",
       "      <td>25570</td>\n",
       "      <td>2007-05-26 03:03:23</td>\n",
       "      <td>2024-01-26 08:06:40</td>\n",
       "      <td>Digg Holdings, LLC</td>\n",
       "      <td>company</td>\n",
       "      <td>...</td>\n",
       "      <td>NaN</td>\n",
       "      <td>http://www.facebook.com/digg</td>\n",
       "      <td>http://www.linkedin.com/company/digg</td>\n",
       "      <td>http://twitter.com/digg</td>\n",
       "      <td>https://images.crunchbase.com/image/upload/t_c...</td>\n",
       "      <td>NaN</td>\n",
       "      <td>NaN</td>\n",
       "      <td>NaN</td>\n",
       "      <td>company</td>\n",
       "      <td>NaN</td>\n",
       "    </tr>\n",
       "    <tr>\n",
       "      <th>3</th>\n",
       "      <td>f4d5ab44-058b-298b-ea81-380e6e9a8eec</td>\n",
       "      <td>Omidyar Network</td>\n",
       "      <td>organization</td>\n",
       "      <td>omidyar-network</td>\n",
       "      <td>https://www.crunchbase.com/organization/omidya...</td>\n",
       "      <td>30539</td>\n",
       "      <td>2007-05-26 03:21:34</td>\n",
       "      <td>2023-08-30 02:27:06</td>\n",
       "      <td>NaN</td>\n",
       "      <td>investor,company</td>\n",
       "      <td>...</td>\n",
       "      <td>650.482.2500</td>\n",
       "      <td>http://www.facebook.com/OmidyarNetwork</td>\n",
       "      <td>http://www.linkedin.com/company/22806</td>\n",
       "      <td>http://twitter.com/OmidyarNetwork</td>\n",
       "      <td>https://images.crunchbase.com/image/upload/t_c...</td>\n",
       "      <td>NaN</td>\n",
       "      <td>NaN</td>\n",
       "      <td>NaN</td>\n",
       "      <td>investor</td>\n",
       "      <td>62.0</td>\n",
       "    </tr>\n",
       "    <tr>\n",
       "      <th>4</th>\n",
       "      <td>df662812-7f97-0b43-9d3e-12f64f504fbb</td>\n",
       "      <td>Meta</td>\n",
       "      <td>organization</td>\n",
       "      <td>facebook</td>\n",
       "      <td>https://www.crunchbase.com/organization/facebook</td>\n",
       "      <td>119</td>\n",
       "      <td>2007-05-26 04:22:15</td>\n",
       "      <td>2023-11-27 12:05:27</td>\n",
       "      <td>Meta Platforms, Inc.</td>\n",
       "      <td>investor,company</td>\n",
       "      <td>...</td>\n",
       "      <td>NaN</td>\n",
       "      <td>https://www.facebook.com/Meta</td>\n",
       "      <td>https://www.linkedin.com/company/meta</td>\n",
       "      <td>https://www.twitter.com/Meta</td>\n",
       "      <td>https://images.crunchbase.com/image/upload/t_c...</td>\n",
       "      <td>Facebook</td>\n",
       "      <td>Facebook, Inc.</td>\n",
       "      <td>FB</td>\n",
       "      <td>company</td>\n",
       "      <td>1.0</td>\n",
       "    </tr>\n",
       "  </tbody>\n",
       "</table>\n",
       "<p>5 rows × 41 columns</p>\n",
       "</div>"
      ],
      "text/plain": [
       "                                   uuid             name          type  \\\n",
       "0  e1393508-30ea-8a36-3f96-dd3226033abd         Wetpaint  organization   \n",
       "1  bf4d7b0e-b34d-2fd8-d292-6049c4f7efc7             Zoho  organization   \n",
       "2  5f2b40b8-d1b3-d323-d81a-b7a8e89553d0             Digg  organization   \n",
       "3  f4d5ab44-058b-298b-ea81-380e6e9a8eec  Omidyar Network  organization   \n",
       "4  df662812-7f97-0b43-9d3e-12f64f504fbb             Meta  organization   \n",
       "\n",
       "         permalink                                             cb_url    rank  \\\n",
       "0         wetpaint   https://www.crunchbase.com/organization/wetpaint  167617   \n",
       "1             zoho       https://www.crunchbase.com/organization/zoho  168555   \n",
       "2             digg       https://www.crunchbase.com/organization/digg   25570   \n",
       "3  omidyar-network  https://www.crunchbase.com/organization/omidya...   30539   \n",
       "4         facebook   https://www.crunchbase.com/organization/facebook     119   \n",
       "\n",
       "            created_at           updated_at                  legal_name  \\\n",
       "0  2007-05-25 13:51:27  2023-08-01 00:01:37                         NaN   \n",
       "1  2007-05-26 02:30:28  2023-10-19 07:46:32  Zoho Corporation Pvt. Ltd.   \n",
       "2  2007-05-26 03:03:23  2024-01-26 08:06:40          Digg Holdings, LLC   \n",
       "3  2007-05-26 03:21:34  2023-08-30 02:27:06                         NaN   \n",
       "4  2007-05-26 04:22:15  2023-11-27 12:05:27        Meta Platforms, Inc.   \n",
       "\n",
       "              roles  ...                         phone  \\\n",
       "0           company  ...                  206-859-6300   \n",
       "1  investor,company  ...  1800 103 1123 /1800 572 3535   \n",
       "2           company  ...                           NaN   \n",
       "3  investor,company  ...                  650.482.2500   \n",
       "4  investor,company  ...                           NaN   \n",
       "\n",
       "                             facebook_url  \\\n",
       "0       https://www.facebook.com/Wetpaint   \n",
       "1            http://www.facebook.com/zoho   \n",
       "2            http://www.facebook.com/digg   \n",
       "3  http://www.facebook.com/OmidyarNetwork   \n",
       "4           https://www.facebook.com/Meta   \n",
       "\n",
       "                                        linkedin_url  \\\n",
       "0  https://www.linkedin.com/company/recruitment-c...   \n",
       "1              https://www.linkedin.com/company/zoho   \n",
       "2               http://www.linkedin.com/company/digg   \n",
       "3              http://www.linkedin.com/company/22806   \n",
       "4              https://www.linkedin.com/company/meta   \n",
       "\n",
       "                         twitter_url  \\\n",
       "0     https://twitter.com/wetpainttv   \n",
       "1            http://twitter.com/zoho   \n",
       "2            http://twitter.com/digg   \n",
       "3  http://twitter.com/OmidyarNetwork   \n",
       "4       https://www.twitter.com/Meta   \n",
       "\n",
       "                                            logo_url    alias1  \\\n",
       "0  https://images.crunchbase.com/image/upload/t_c...       NaN   \n",
       "1  https://images.crunchbase.com/image/upload/t_c...       NaN   \n",
       "2  https://images.crunchbase.com/image/upload/t_c...       NaN   \n",
       "3  https://images.crunchbase.com/image/upload/t_c...       NaN   \n",
       "4  https://images.crunchbase.com/image/upload/t_c...  Facebook   \n",
       "\n",
       "           alias2 alias3 primary_role num_exits  \n",
       "0             NaN    NaN      company       NaN  \n",
       "1             NaN    NaN      company       2.0  \n",
       "2             NaN    NaN      company       NaN  \n",
       "3             NaN    NaN     investor      62.0  \n",
       "4  Facebook, Inc.     FB      company       1.0  \n",
       "\n",
       "[5 rows x 41 columns]"
      ]
     },
     "execution_count": 3,
     "metadata": {},
     "output_type": "execute_result"
    }
   ],
   "source": [
    "df.head()"
   ]
  },
  {
   "cell_type": "code",
   "execution_count": 4,
   "id": "195df047",
   "metadata": {
    "execution": {
     "iopub.execute_input": "2025-07-28T16:42:17.728267Z",
     "iopub.status.busy": "2025-07-28T16:42:17.727924Z",
     "iopub.status.idle": "2025-07-28T16:42:17.735491Z",
     "shell.execute_reply": "2025-07-28T16:42:17.734416Z"
    },
    "papermill": {
     "duration": 0.013533,
     "end_time": "2025-07-28T16:42:17.737035",
     "exception": false,
     "start_time": "2025-07-28T16:42:17.723502",
     "status": "completed"
    },
    "tags": []
   },
   "outputs": [
    {
     "name": "stdout",
     "output_type": "stream",
     "text": [
      "Columns of dataset: Index(['uuid', 'name', 'type', 'permalink', 'cb_url', 'rank', 'created_at',\n",
      "       'updated_at', 'legal_name', 'roles', 'domain', 'homepage_url',\n",
      "       'country_code', 'state_code', 'region', 'city', 'address',\n",
      "       'postal_code', 'status', 'short_description', 'category_list',\n",
      "       'category_groups_list', 'num_funding_rounds', 'total_funding_usd',\n",
      "       'total_funding', 'total_funding_currency_code', 'founded_on',\n",
      "       'last_funding_on', 'closed_on', 'employee_count', 'email', 'phone',\n",
      "       'facebook_url', 'linkedin_url', 'twitter_url', 'logo_url', 'alias1',\n",
      "       'alias2', 'alias3', 'primary_role', 'num_exits'],\n",
      "      dtype='object')\n",
      "No of Columns: 41\n"
     ]
    }
   ],
   "source": [
    "# Checking columns \n",
    "print(f\"Columns of dataset:\",df.columns)\n",
    "num_col = df.shape[1]\n",
    "print(f\"No of Columns:\",num_col)"
   ]
  },
  {
   "cell_type": "code",
   "execution_count": 5,
   "id": "6f95e801",
   "metadata": {
    "execution": {
     "iopub.execute_input": "2025-07-28T16:42:17.745862Z",
     "iopub.status.busy": "2025-07-28T16:42:17.745445Z",
     "iopub.status.idle": "2025-07-28T16:42:17.762059Z",
     "shell.execute_reply": "2025-07-28T16:42:17.761197Z"
    },
    "papermill": {
     "duration": 0.023849,
     "end_time": "2025-07-28T16:42:17.764597",
     "exception": false,
     "start_time": "2025-07-28T16:42:17.740748",
     "status": "completed"
    },
    "tags": []
   },
   "outputs": [
    {
     "name": "stdout",
     "output_type": "stream",
     "text": [
      "                                   uuid             name          type  \\\n",
      "0  e1393508-30ea-8a36-3f96-dd3226033abd         Wetpaint  organization   \n",
      "1  bf4d7b0e-b34d-2fd8-d292-6049c4f7efc7             Zoho  organization   \n",
      "2  5f2b40b8-d1b3-d323-d81a-b7a8e89553d0             Digg  organization   \n",
      "3  f4d5ab44-058b-298b-ea81-380e6e9a8eec  Omidyar Network  organization   \n",
      "4  df662812-7f97-0b43-9d3e-12f64f504fbb             Meta  organization   \n",
      "\n",
      "         permalink                                             cb_url    rank  \\\n",
      "0         wetpaint   https://www.crunchbase.com/organization/wetpaint  167617   \n",
      "1             zoho       https://www.crunchbase.com/organization/zoho  168555   \n",
      "2             digg       https://www.crunchbase.com/organization/digg   25570   \n",
      "3  omidyar-network  https://www.crunchbase.com/organization/omidya...   30539   \n",
      "4         facebook   https://www.crunchbase.com/organization/facebook     119   \n",
      "\n",
      "            created_at           updated_at                  legal_name  \\\n",
      "0  2007-05-25 13:51:27  2023-08-01 00:01:37                         NaN   \n",
      "1  2007-05-26 02:30:28  2023-10-19 07:46:32  Zoho Corporation Pvt. Ltd.   \n",
      "2  2007-05-26 03:03:23  2024-01-26 08:06:40          Digg Holdings, LLC   \n",
      "3  2007-05-26 03:21:34  2023-08-30 02:27:06                         NaN   \n",
      "4  2007-05-26 04:22:15  2023-11-27 12:05:27        Meta Platforms, Inc.   \n",
      "\n",
      "              roles        domain              homepage_url country_code  \\\n",
      "0           company  wetpaint.com  http://www.wetpaint.com/          USA   \n",
      "1  investor,company      zoho.com      https://www.zoho.com          USA   \n",
      "2           company      digg.com       http://www.digg.com          USA   \n",
      "3  investor,company   omidyar.com    http://www.omidyar.com          USA   \n",
      "4  investor,company      meta.com          https://meta.com          USA   \n",
      "\n",
      "  state_code      region          city                      address  \\\n",
      "0         NY    New York      New York  902 Broadway 11th Floor New   \n",
      "1         CA  California    Pleasanton             4141 Hacienda Dr   \n",
      "2         NY    New York      New York                          NaN   \n",
      "3         CA  California  Redwood City      1991 Broadway Suite 200   \n",
      "4         CA  California    Menlo Park                 1 Hacker Way   \n",
      "\n",
      "  postal_code     status                                  short_description  \\\n",
      "0       10010   acquired  Wetpaint offers an online social publishing pl...   \n",
      "1       94588  operating  Zoho offers a suite of business, collaboration...   \n",
      "2         NaN   acquired  Digg Inc. operates a website that enables its ...   \n",
      "3       94063  operating             Omidyar Network is an investment firm.   \n",
      "4       94025        ipo  Meta is a social technology company that enabl...   \n",
      "\n",
      "                                       category_list  \\\n",
      "0    Publishing,Social Media,Social Media Management   \n",
      "1  Cloud Computing,Collaboration,Developer Tools,...   \n",
      "2               Internet,Social Media,Social Network   \n",
      "3  Enterprise Software,Financial Services,Venture...   \n",
      "4  Augmented Reality,Metaverse,Mortgage,Social Me...   \n",
      "\n",
      "                                category_groups_list  num_funding_rounds  \\\n",
      "0  Content and Publishing,Internet Services,Media...                 3.0   \n",
      "1  Administrative Services,Apps,Information Techn...                 NaN   \n",
      "2          Internet Services,Media and Entertainment                 6.0   \n",
      "3  Financial Services,Lending and Investments,Sof...                 NaN   \n",
      "4  Hardware,Internet Services,Media and Entertain...                14.0   \n",
      "\n",
      "   total_funding_usd  total_funding total_funding_currency_code  founded_on  \\\n",
      "0       3.975000e+07   3.975000e+07                         USD  2005-06-01   \n",
      "1                NaN            NaN                         NaN  1996-03-17   \n",
      "2       4.900000e+07   4.900000e+07                         USD  2004-10-11   \n",
      "3                NaN            NaN                         NaN  2004-01-01   \n",
      "4       2.460782e+10   2.460782e+10                         USD  2004-02-04   \n",
      "\n",
      "  last_funding_on closed_on employee_count               email  \\\n",
      "0      2008-05-19       NaN         51-100   info@wetpaint.com   \n",
      "1             NaN       NaN         10000+  sales@zohocorp.com   \n",
      "2      2016-09-13       NaN         51-100   feedback@digg.com   \n",
      "3             NaN       NaN        101-250    info@omidyar.com   \n",
      "4      2022-08-04       NaN         10000+                 NaN   \n",
      "\n",
      "                          phone                            facebook_url  \\\n",
      "0                  206-859-6300       https://www.facebook.com/Wetpaint   \n",
      "1  1800 103 1123 /1800 572 3535            http://www.facebook.com/zoho   \n",
      "2                           NaN            http://www.facebook.com/digg   \n",
      "3                  650.482.2500  http://www.facebook.com/OmidyarNetwork   \n",
      "4                           NaN           https://www.facebook.com/Meta   \n",
      "\n",
      "                                        linkedin_url  \\\n",
      "0  https://www.linkedin.com/company/recruitment-c...   \n",
      "1              https://www.linkedin.com/company/zoho   \n",
      "2               http://www.linkedin.com/company/digg   \n",
      "3              http://www.linkedin.com/company/22806   \n",
      "4              https://www.linkedin.com/company/meta   \n",
      "\n",
      "                         twitter_url  \\\n",
      "0     https://twitter.com/wetpainttv   \n",
      "1            http://twitter.com/zoho   \n",
      "2            http://twitter.com/digg   \n",
      "3  http://twitter.com/OmidyarNetwork   \n",
      "4       https://www.twitter.com/Meta   \n",
      "\n",
      "                                            logo_url    alias1  \\\n",
      "0  https://images.crunchbase.com/image/upload/t_c...       NaN   \n",
      "1  https://images.crunchbase.com/image/upload/t_c...       NaN   \n",
      "2  https://images.crunchbase.com/image/upload/t_c...       NaN   \n",
      "3  https://images.crunchbase.com/image/upload/t_c...       NaN   \n",
      "4  https://images.crunchbase.com/image/upload/t_c...  Facebook   \n",
      "\n",
      "           alias2 alias3 primary_role  num_exits  \n",
      "0             NaN    NaN      company        NaN  \n",
      "1             NaN    NaN      company        2.0  \n",
      "2             NaN    NaN      company        NaN  \n",
      "3             NaN    NaN     investor       62.0  \n",
      "4  Facebook, Inc.     FB      company        1.0  \n"
     ]
    },
    {
     "name": "stderr",
     "output_type": "stream",
     "text": [
      "/usr/local/lib/python3.11/dist-packages/pandas/io/formats/format.py:1458: RuntimeWarning: invalid value encountered in greater\n",
      "  has_large_values = (abs_vals > 1e6).any()\n",
      "/usr/local/lib/python3.11/dist-packages/pandas/io/formats/format.py:1459: RuntimeWarning: invalid value encountered in less\n",
      "  has_small_values = ((abs_vals < 10 ** (-self.digits)) & (abs_vals > 0)).any()\n",
      "/usr/local/lib/python3.11/dist-packages/pandas/io/formats/format.py:1459: RuntimeWarning: invalid value encountered in greater\n",
      "  has_small_values = ((abs_vals < 10 ** (-self.digits)) & (abs_vals > 0)).any()\n"
     ]
    }
   ],
   "source": [
    "# Having overview of all 41 columns now\n",
    "pd.set_option('display.max_columns', None) \n",
    "print(df.head())"
   ]
  },
  {
   "cell_type": "code",
   "execution_count": 6,
   "id": "f2937c7f",
   "metadata": {
    "execution": {
     "iopub.execute_input": "2025-07-28T16:42:17.773979Z",
     "iopub.status.busy": "2025-07-28T16:42:17.773698Z",
     "iopub.status.idle": "2025-07-28T16:42:17.986992Z",
     "shell.execute_reply": "2025-07-28T16:42:17.985983Z"
    },
    "papermill": {
     "duration": 0.220202,
     "end_time": "2025-07-28T16:42:17.989043",
     "exception": false,
     "start_time": "2025-07-28T16:42:17.768841",
     "status": "completed"
    },
    "tags": []
   },
   "outputs": [
    {
     "name": "stdout",
     "output_type": "stream",
     "text": [
      "<class 'pandas.core.frame.DataFrame'>\n",
      "RangeIndex: 100000 entries, 0 to 99999\n",
      "Data columns (total 41 columns):\n",
      " #   Column                       Non-Null Count   Dtype  \n",
      "---  ------                       --------------   -----  \n",
      " 0   uuid                         100000 non-null  object \n",
      " 1   name                         100000 non-null  object \n",
      " 2   type                         100000 non-null  object \n",
      " 3   permalink                    100000 non-null  object \n",
      " 4   cb_url                       100000 non-null  object \n",
      " 5   rank                         100000 non-null  int64  \n",
      " 6   created_at                   100000 non-null  object \n",
      " 7   updated_at                   100000 non-null  object \n",
      " 8   legal_name                   13831 non-null   object \n",
      " 9   roles                        100000 non-null  object \n",
      " 10  domain                       96175 non-null   object \n",
      " 11  homepage_url                 96175 non-null   object \n",
      " 12  country_code                 91314 non-null   object \n",
      " 13  state_code                   57405 non-null   object \n",
      " 14  region                       91314 non-null   object \n",
      " 15  city                         91314 non-null   object \n",
      " 16  address                      74476 non-null   object \n",
      " 17  postal_code                  73048 non-null   object \n",
      " 18  status                       100000 non-null  object \n",
      " 19  short_description            99992 non-null   object \n",
      " 20  category_list                96283 non-null   object \n",
      " 21  category_groups_list         96283 non-null   object \n",
      " 22  num_funding_rounds           29684 non-null   float64\n",
      " 23  total_funding_usd            29672 non-null   float64\n",
      " 24  total_funding                29672 non-null   float64\n",
      " 25  total_funding_currency_code  29672 non-null   object \n",
      " 26  founded_on                   89914 non-null   object \n",
      " 27  last_funding_on              29672 non-null   object \n",
      " 28  closed_on                    8891 non-null    object \n",
      " 29  employee_count               100000 non-null  object \n",
      " 30  email                        78516 non-null   object \n",
      " 31  phone                        68268 non-null   object \n",
      " 32  facebook_url                 49829 non-null   object \n",
      " 33  linkedin_url                 55296 non-null   object \n",
      " 34  twitter_url                  66159 non-null   object \n",
      " 35  logo_url                     90339 non-null   object \n",
      " 36  alias1                       9774 non-null    object \n",
      " 37  alias2                       1785 non-null    object \n",
      " 38  alias3                       614 non-null     object \n",
      " 39  primary_role                 100000 non-null  object \n",
      " 40  num_exits                    6560 non-null    float64\n",
      "dtypes: float64(4), int64(1), object(36)\n",
      "memory usage: 31.3+ MB\n"
     ]
    }
   ],
   "source": [
    "df.info()"
   ]
  },
  {
   "cell_type": "code",
   "execution_count": 7,
   "id": "df75f653",
   "metadata": {
    "execution": {
     "iopub.execute_input": "2025-07-28T16:42:18.003761Z",
     "iopub.status.busy": "2025-07-28T16:42:18.003410Z",
     "iopub.status.idle": "2025-07-28T16:42:18.060771Z",
     "shell.execute_reply": "2025-07-28T16:42:18.059719Z"
    },
    "papermill": {
     "duration": 0.066509,
     "end_time": "2025-07-28T16:42:18.063030",
     "exception": false,
     "start_time": "2025-07-28T16:42:17.996521",
     "status": "completed"
    },
    "tags": []
   },
   "outputs": [
    {
     "data": {
      "text/html": [
       "<div>\n",
       "<style scoped>\n",
       "    .dataframe tbody tr th:only-of-type {\n",
       "        vertical-align: middle;\n",
       "    }\n",
       "\n",
       "    .dataframe tbody tr th {\n",
       "        vertical-align: top;\n",
       "    }\n",
       "\n",
       "    .dataframe thead th {\n",
       "        text-align: right;\n",
       "    }\n",
       "</style>\n",
       "<table border=\"1\" class=\"dataframe\">\n",
       "  <thead>\n",
       "    <tr style=\"text-align: right;\">\n",
       "      <th></th>\n",
       "      <th>rank</th>\n",
       "      <th>num_funding_rounds</th>\n",
       "      <th>total_funding_usd</th>\n",
       "      <th>total_funding</th>\n",
       "      <th>num_exits</th>\n",
       "    </tr>\n",
       "  </thead>\n",
       "  <tbody>\n",
       "    <tr>\n",
       "      <th>count</th>\n",
       "      <td>1.000000e+05</td>\n",
       "      <td>29684.000000</td>\n",
       "      <td>2.967200e+04</td>\n",
       "      <td>2.967200e+04</td>\n",
       "      <td>6560.000000</td>\n",
       "    </tr>\n",
       "    <tr>\n",
       "      <th>mean</th>\n",
       "      <td>1.436004e+06</td>\n",
       "      <td>2.813233</td>\n",
       "      <td>7.693004e+07</td>\n",
       "      <td>1.119228e+08</td>\n",
       "      <td>10.560518</td>\n",
       "    </tr>\n",
       "    <tr>\n",
       "      <th>std</th>\n",
       "      <td>1.110184e+06</td>\n",
       "      <td>2.676550</td>\n",
       "      <td>8.412733e+08</td>\n",
       "      <td>2.500944e+09</td>\n",
       "      <td>26.761042</td>\n",
       "    </tr>\n",
       "    <tr>\n",
       "      <th>min</th>\n",
       "      <td>1.000000e+00</td>\n",
       "      <td>0.000000</td>\n",
       "      <td>0.000000e+00</td>\n",
       "      <td>0.000000e+00</td>\n",
       "      <td>0.000000</td>\n",
       "    </tr>\n",
       "    <tr>\n",
       "      <th>25%</th>\n",
       "      <td>3.583010e+05</td>\n",
       "      <td>1.000000</td>\n",
       "      <td>2.173750e+05</td>\n",
       "      <td>2.000000e+05</td>\n",
       "      <td>1.000000</td>\n",
       "    </tr>\n",
       "    <tr>\n",
       "      <th>50%</th>\n",
       "      <td>1.220466e+06</td>\n",
       "      <td>2.000000</td>\n",
       "      <td>3.500000e+06</td>\n",
       "      <td>3.500000e+06</td>\n",
       "      <td>3.000000</td>\n",
       "    </tr>\n",
       "    <tr>\n",
       "      <th>75%</th>\n",
       "      <td>2.521205e+06</td>\n",
       "      <td>4.000000</td>\n",
       "      <td>2.314870e+07</td>\n",
       "      <td>2.380000e+07</td>\n",
       "      <td>9.000000</td>\n",
       "    </tr>\n",
       "    <tr>\n",
       "      <th>max</th>\n",
       "      <td>3.290643e+06</td>\n",
       "      <td>38.000000</td>\n",
       "      <td>1.000000e+11</td>\n",
       "      <td>2.900000e+11</td>\n",
       "      <td>587.000000</td>\n",
       "    </tr>\n",
       "  </tbody>\n",
       "</table>\n",
       "</div>"
      ],
      "text/plain": [
       "               rank  num_funding_rounds  total_funding_usd  total_funding  \\\n",
       "count  1.000000e+05        29684.000000       2.967200e+04   2.967200e+04   \n",
       "mean   1.436004e+06            2.813233       7.693004e+07   1.119228e+08   \n",
       "std    1.110184e+06            2.676550       8.412733e+08   2.500944e+09   \n",
       "min    1.000000e+00            0.000000       0.000000e+00   0.000000e+00   \n",
       "25%    3.583010e+05            1.000000       2.173750e+05   2.000000e+05   \n",
       "50%    1.220466e+06            2.000000       3.500000e+06   3.500000e+06   \n",
       "75%    2.521205e+06            4.000000       2.314870e+07   2.380000e+07   \n",
       "max    3.290643e+06           38.000000       1.000000e+11   2.900000e+11   \n",
       "\n",
       "         num_exits  \n",
       "count  6560.000000  \n",
       "mean     10.560518  \n",
       "std      26.761042  \n",
       "min       0.000000  \n",
       "25%       1.000000  \n",
       "50%       3.000000  \n",
       "75%       9.000000  \n",
       "max     587.000000  "
      ]
     },
     "execution_count": 7,
     "metadata": {},
     "output_type": "execute_result"
    }
   ],
   "source": [
    "df.describe()"
   ]
  },
  {
   "cell_type": "code",
   "execution_count": 8,
   "id": "b8791985",
   "metadata": {
    "execution": {
     "iopub.execute_input": "2025-07-28T16:42:18.077163Z",
     "iopub.status.busy": "2025-07-28T16:42:18.076676Z",
     "iopub.status.idle": "2025-07-28T16:42:18.306307Z",
     "shell.execute_reply": "2025-07-28T16:42:18.304943Z"
    },
    "papermill": {
     "duration": 0.238456,
     "end_time": "2025-07-28T16:42:18.308323",
     "exception": false,
     "start_time": "2025-07-28T16:42:18.069867",
     "status": "completed"
    },
    "tags": []
   },
   "outputs": [
    {
     "name": "stdout",
     "output_type": "stream",
     "text": [
      "alias3                         99.386\n",
      "alias2                         98.215\n",
      "num_exits                      93.440\n",
      "closed_on                      91.109\n",
      "alias1                         90.226\n",
      "legal_name                     86.169\n",
      "total_funding                  70.328\n",
      "total_funding_usd              70.328\n",
      "last_funding_on                70.328\n",
      "total_funding_currency_code    70.328\n",
      "num_funding_rounds             70.316\n",
      "facebook_url                   50.171\n",
      "linkedin_url                   44.704\n",
      "state_code                     42.595\n",
      "twitter_url                    33.841\n",
      "dtype: float64\n"
     ]
    }
   ],
   "source": [
    "# Calculating missing values\n",
    "\n",
    "# Percentage of missing values\n",
    "missing_percentage = (df.isnull().sum() / len(df)) * 100\n",
    "\n",
    "# Sort descending\n",
    "missing_percentage = missing_percentage.sort_values(ascending=False)\n",
    "\n",
    "# Display top 15 columns\n",
    "print(missing_percentage.head(15))"
   ]
  },
  {
   "cell_type": "code",
   "execution_count": 9,
   "id": "6d61375e",
   "metadata": {
    "execution": {
     "iopub.execute_input": "2025-07-28T16:42:18.318917Z",
     "iopub.status.busy": "2025-07-28T16:42:18.318623Z",
     "iopub.status.idle": "2025-07-28T16:42:18.766999Z",
     "shell.execute_reply": "2025-07-28T16:42:18.765850Z"
    },
    "papermill": {
     "duration": 0.455547,
     "end_time": "2025-07-28T16:42:18.769010",
     "exception": false,
     "start_time": "2025-07-28T16:42:18.313463",
     "status": "completed"
    },
    "tags": []
   },
   "outputs": [
    {
     "data": {
      "image/png": "[encoded data removed]",
      "text/plain": [
       "<Figure size 1000x600 with 1 Axes>"
      ]
     },
     "metadata": {},
     "output_type": "display_data"
    }
   ],
   "source": [
    "# Plot\n",
    "plt.figure(figsize=(10,6))\n",
    "missing_percentage.head(15).plot(kind='bar', color='skyblue')\n",
    "plt.title(\"Top 15 Columns with Most Missing Values (%)\")\n",
    "plt.ylabel(\"Percentage Missing\")\n",
    "plt.xticks(rotation=45, ha='right')\n",
    "plt.show()\n"
   ]
  },
  {
   "cell_type": "code",
   "execution_count": 10,
   "id": "65644702",
   "metadata": {
    "execution": {
     "iopub.execute_input": "2025-07-28T16:42:18.783327Z",
     "iopub.status.busy": "2025-07-28T16:42:18.782955Z",
     "iopub.status.idle": "2025-07-28T16:42:18.817581Z",
     "shell.execute_reply": "2025-07-28T16:42:18.816687Z"
    },
    "papermill": {
     "duration": 0.043866,
     "end_time": "2025-07-28T16:42:18.819325",
     "exception": false,
     "start_time": "2025-07-28T16:42:18.775459",
     "status": "completed"
    },
    "tags": []
   },
   "outputs": [],
   "source": [
    "# Convert founded_on column to datetime\n",
    "df['founded_on'] = pd.to_datetime(df['founded_on'], errors='coerce')\n",
    "\n",
    "# Extract year\n",
    "df['founded_year'] = df['founded_on'].dt.year\n"
   ]
  },
  {
   "cell_type": "code",
   "execution_count": 11,
   "id": "6786a384",
   "metadata": {
    "execution": {
     "iopub.execute_input": "2025-07-28T16:42:18.831733Z",
     "iopub.status.busy": "2025-07-28T16:42:18.831375Z",
     "iopub.status.idle": "2025-07-28T16:42:19.138164Z",
     "shell.execute_reply": "2025-07-28T16:42:19.137073Z"
    },
    "papermill": {
     "duration": 0.31534,
     "end_time": "2025-07-28T16:42:19.140028",
     "exception": false,
     "start_time": "2025-07-28T16:42:18.824688",
     "status": "completed"
    },
    "tags": []
   },
   "outputs": [
    {
     "data": {
      "image/png": "[encoded data removed]",
      "text/plain": [
       "<Figure size 800x500 with 1 Axes>"
      ]
     },
     "metadata": {},
     "output_type": "display_data"
    }
   ],
   "source": [
    "plt.figure(figsize=(8,5))\n",
    "df['founded_year'].dropna().plot(kind='hist', bins=30, color='green', edgecolor='black')\n",
    "plt.title(\"Distribution of Founded Years\")\n",
    "plt.xlabel(\"Year\")\n",
    "plt.ylabel(\"Frequency\")\n",
    "plt.show()\n"
   ]
  },
  {
   "cell_type": "code",
   "execution_count": 12,
   "id": "14f12515",
   "metadata": {
    "execution": {
     "iopub.execute_input": "2025-07-28T16:42:19.155910Z",
     "iopub.status.busy": "2025-07-28T16:42:19.155390Z",
     "iopub.status.idle": "2025-07-28T16:42:19.492252Z",
     "shell.execute_reply": "2025-07-28T16:42:19.491109Z"
    },
    "papermill": {
     "duration": 0.346251,
     "end_time": "2025-07-28T16:42:19.494108",
     "exception": false,
     "start_time": "2025-07-28T16:42:19.147857",
     "status": "completed"
    },
    "tags": []
   },
   "outputs": [
    {
     "name": "stderr",
     "output_type": "stream",
     "text": [
      "/usr/local/lib/python3.11/dist-packages/pandas/core/computation/expressions.py:73: RuntimeWarning: invalid value encountered in greater_equal\n",
      "  return op(a, b)\n",
      "/usr/local/lib/python3.11/dist-packages/pandas/core/computation/expressions.py:73: RuntimeWarning: invalid value encountered in less_equal\n",
      "  return op(a, b)\n"
     ]
    },
    {
     "data": {
      "image/png": "[encoded data removed]",
      "text/plain": [
       "<Figure size 800x500 with 1 Axes>"
      ]
     },
     "metadata": {},
     "output_type": "display_data"
    }
   ],
   "source": [
    "# Filtering data to see the frequency in saturated years clearly\n",
    "filtered_df = df[(df['founded_year'] >= 1920) & (df['founded_year'] <= 2025)]\n",
    "\n",
    "# Plotting histogram\n",
    "plt.figure(figsize=(8,5))\n",
    "filtered_df['founded_year'].plot(kind='hist', bins=30, color='green', edgecolor='black')\n",
    "plt.title(\"Distribution of Founded Years (1920–2025)\")\n",
    "plt.xlabel(\"Year\")\n",
    "plt.ylabel(\"Frequency\")\n",
    "plt.show()\n"
   ]
  },
  {
   "cell_type": "code",
   "execution_count": 13,
   "id": "e0131366",
   "metadata": {
    "execution": {
     "iopub.execute_input": "2025-07-28T16:42:19.510533Z",
     "iopub.status.busy": "2025-07-28T16:42:19.510132Z",
     "iopub.status.idle": "2025-07-28T16:42:20.155971Z",
     "shell.execute_reply": "2025-07-28T16:42:20.154988Z"
    },
    "papermill": {
     "duration": 0.656297,
     "end_time": "2025-07-28T16:42:20.158192",
     "exception": false,
     "start_time": "2025-07-28T16:42:19.501895",
     "status": "completed"
    },
    "tags": []
   },
   "outputs": [
    {
     "data": {
      "text/plain": [
       "0"
      ]
     },
     "execution_count": 13,
     "metadata": {},
     "output_type": "execute_result"
    }
   ],
   "source": [
    "# Cheking duplicates\n",
    "df.duplicated().sum()\n"
   ]
  },
  {
   "cell_type": "code",
   "execution_count": 14,
   "id": "efb369db",
   "metadata": {
    "execution": {
     "iopub.execute_input": "2025-07-28T16:42:20.175697Z",
     "iopub.status.busy": "2025-07-28T16:42:20.175395Z",
     "iopub.status.idle": "2025-07-28T16:42:20.300068Z",
     "shell.execute_reply": "2025-07-28T16:42:20.298942Z"
    },
    "papermill": {
     "duration": 0.136287,
     "end_time": "2025-07-28T16:42:20.301988",
     "exception": false,
     "start_time": "2025-07-28T16:42:20.165701",
     "status": "completed"
    },
    "tags": []
   },
   "outputs": [
    {
     "name": "stdout",
     "output_type": "stream",
     "text": [
      "Series([], Name: count, dtype: int64)\n"
     ]
    }
   ],
   "source": [
    "# Count duplicate values in 'uuid' as it should be unique for each company\n",
    "duplicate_counts = df['uuid'].value_counts()\n",
    "\n",
    "# Show only duplicates (count > 1)\n",
    "duplicates = duplicate_counts[duplicate_counts > 1]\n",
    "print(duplicates)"
   ]
  }
 ],
 "metadata": {
  "kaggle": {
   "accelerator": "none",
   "dataSources": [
    {
     "datasetId": 7960065,
     "sourceId": 12602283,
     "sourceType": "datasetVersion"
    }
   ],
   "dockerImageVersionId": 31089,
   "isGpuEnabled": false,
   "isInternetEnabled": false,
   "language": "python",
   "sourceType": "notebook"
  },
  "kernelspec": {
   "display_name": "Python 3",
   "language": "python",
   "name": "python3"
  },
  "language_info": {
   "codemirror_mode": {
    "name": "ipython",
    "version": 3
   },
   "file_extension": ".py",
   "mimetype": "text/x-python",
   "name": "python",
   "nbconvert_exporter": "python",
   "pygments_lexer": "ipython3",
   "version": "3.11.13"
  },
  "papermill": {
   "default_parameters": {},
   "duration": 120.460733,
   "end_time": "2025-07-28T16:42:21.539495",
   "environment_variables": {},
   "exception": null,
   "input_path": "__notebook__.ipynb",
   "output_path": "__notebook__.ipynb",
   "parameters": {},
   "start_time": "2025-07-28T16:40:21.078762",
   "version": "2.6.0"
  }
 },
 "nbformat": 4,
 "nbformat_minor": 5
}
