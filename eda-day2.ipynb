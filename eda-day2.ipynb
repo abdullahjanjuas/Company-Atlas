{
 "cells": [
  {
   "cell_type": "code",
   "execution_count": 1,
   "id": "c02eadbe",
   "metadata": {
    "execution": {
     "iopub.execute_input": "2025-07-29T16:15:33.308966Z",
     "iopub.status.busy": "2025-07-29T16:15:33.308651Z",
     "iopub.status.idle": "2025-07-29T16:15:35.675763Z",
     "shell.execute_reply": "2025-07-29T16:15:35.674758Z"
    },
    "papermill": {
     "duration": 2.37301,
     "end_time": "2025-07-29T16:15:35.677476",
     "exception": false,
     "start_time": "2025-07-29T16:15:33.304466",
     "status": "completed"
    },
    "tags": []
   },
   "outputs": [],
   "source": [
    "import pandas as pd\n",
    "import polars as pl\n",
    "import time"
   ]
  },
  {
   "cell_type": "code",
   "execution_count": 2,
   "id": "0ed1d206",
   "metadata": {
    "execution": {
     "iopub.execute_input": "2025-07-29T16:15:35.684093Z",
     "iopub.status.busy": "2025-07-29T16:15:35.683668Z",
     "iopub.status.idle": "2025-07-29T16:17:24.727226Z",
     "shell.execute_reply": "2025-07-29T16:17:24.726377Z"
    },
    "papermill": {
     "duration": 109.050335,
     "end_time": "2025-07-29T16:17:24.730731",
     "exception": false,
     "start_time": "2025-07-29T16:15:35.680396",
     "status": "completed"
    },
    "tags": []
   },
   "outputs": [
    {
     "name": "stdout",
     "output_type": "stream",
     "text": [
      "Pandas Load Time: 109.0386 seconds\n"
     ]
    }
   ],
   "source": [
    "# Checking the time taken by pandas to load csv\n",
    "start = time.time()\n",
    "pd_df = pd.read_csv(\"/kaggle/input/organizations-csv/organizations.csv\")\n",
    "end = time.time()\n",
    "\n",
    "print(f\"Pandas Load Time: {end - start:.4f} seconds\")"
   ]
  },
  {
   "cell_type": "code",
   "execution_count": 3,
   "id": "f1f8cc7c",
   "metadata": {
    "execution": {
     "iopub.execute_input": "2025-07-29T16:17:24.736955Z",
     "iopub.status.busy": "2025-07-29T16:17:24.736645Z",
     "iopub.status.idle": "2025-07-29T16:17:29.899667Z",
     "shell.execute_reply": "2025-07-29T16:17:29.898450Z"
    },
    "papermill": {
     "duration": 5.168309,
     "end_time": "2025-07-29T16:17:29.901721",
     "exception": false,
     "start_time": "2025-07-29T16:17:24.733412",
     "status": "completed"
    },
    "tags": []
   },
   "outputs": [
    {
     "name": "stdout",
     "output_type": "stream",
     "text": [
      "Polars Load Time: 5.1581 seconds\n"
     ]
    }
   ],
   "source": [
    "# Checking the time taken by polars to load csv\n",
    "start = time.time()\n",
    "pl_df1 = pl.read_csv(\"/kaggle/input/organizations-csv/organizations.csv\")\n",
    "end = time.time()\n",
    "\n",
    "print(f\"Polars Load Time: {end - start:.4f} seconds\")"
   ]
  },
  {
   "cell_type": "code",
   "execution_count": 4,
   "id": "81f17f6c",
   "metadata": {
    "execution": {
     "iopub.execute_input": "2025-07-29T16:17:29.909221Z",
     "iopub.status.busy": "2025-07-29T16:17:29.908865Z",
     "iopub.status.idle": "2025-07-29T16:17:39.531964Z",
     "shell.execute_reply": "2025-07-29T16:17:39.530887Z"
    },
    "papermill": {
     "duration": 9.62859,
     "end_time": "2025-07-29T16:17:39.533619",
     "exception": false,
     "start_time": "2025-07-29T16:17:29.905029",
     "status": "completed"
    },
    "tags": []
   },
   "outputs": [
    {
     "data": {
      "text/html": [
       "<div><style>\n",
       ".dataframe > thead > tr,\n",
       ".dataframe > tbody > tr {\n",
       "  text-align: right;\n",
       "  white-space: pre-wrap;\n",
       "}\n",
       "</style>\n",
       "<small>shape: (5, 9)</small><table border=\"1\" class=\"dataframe\"><thead><tr><th>uuid</th><th>name</th><th>type</th><th>permalink</th><th>cb_url</th><th>rank</th><th>created_at</th><th>updated_at</th><th>description</th></tr><tr><td>str</td><td>str</td><td>str</td><td>str</td><td>str</td><td>i64</td><td>str</td><td>str</td><td>str</td></tr></thead><tbody><tr><td>&quot;e1393508-30ea-8a36-3f96-dd3226…</td><td>&quot;Wetpaint&quot;</td><td>&quot;organization&quot;</td><td>&quot;wetpaint&quot;</td><td>&quot;https://www.crunchbase.com/org…</td><td>167617</td><td>&quot;2007-05-25 13:51:27&quot;</td><td>&quot;2023-08-01 00:01:37&quot;</td><td>&quot;Wetpaint is a technology platf…</td></tr><tr><td>&quot;bf4d7b0e-b34d-2fd8-d292-6049c4…</td><td>&quot;Zoho&quot;</td><td>&quot;organization&quot;</td><td>&quot;zoho&quot;</td><td>&quot;https://www.crunchbase.com/org…</td><td>168555</td><td>&quot;2007-05-26 02:30:28&quot;</td><td>&quot;2023-10-19 07:46:32&quot;</td><td>&quot;Zoho offers a suite of busines…</td></tr><tr><td>&quot;5f2b40b8-d1b3-d323-d81a-b7a8e8…</td><td>&quot;Digg&quot;</td><td>&quot;organization&quot;</td><td>&quot;digg&quot;</td><td>&quot;https://www.crunchbase.com/org…</td><td>25570</td><td>&quot;2007-05-26 03:03:23&quot;</td><td>&quot;2024-01-26 08:06:40&quot;</td><td>&quot;Digg Inc. operates a website t…</td></tr><tr><td>&quot;f4d5ab44-058b-298b-ea81-380e6e…</td><td>&quot;Omidyar Network&quot;</td><td>&quot;organization&quot;</td><td>&quot;omidyar-network&quot;</td><td>&quot;https://www.crunchbase.com/org…</td><td>30539</td><td>&quot;2007-05-26 03:21:34&quot;</td><td>&quot;2023-08-30 02:27:06&quot;</td><td>&quot;Pierre Omidyar, the founder of…</td></tr><tr><td>&quot;df662812-7f97-0b43-9d3e-12f64f…</td><td>&quot;Meta&quot;</td><td>&quot;organization&quot;</td><td>&quot;facebook&quot;</td><td>&quot;https://www.crunchbase.com/org…</td><td>119</td><td>&quot;2007-05-26 04:22:15&quot;</td><td>&quot;2023-11-27 12:05:27&quot;</td><td>&quot;Meta is a social technology co…</td></tr></tbody></table></div>"
      ],
      "text/plain": [
       "shape: (5, 9)\n",
       "┌────────────┬────────────┬───────────┬───────────┬───┬────────┬───────────┬───────────┬───────────┐\n",
       "│ uuid       ┆ name       ┆ type      ┆ permalink ┆ … ┆ rank   ┆ created_a ┆ updated_a ┆ descripti │\n",
       "│ ---        ┆ ---        ┆ ---       ┆ ---       ┆   ┆ ---    ┆ t         ┆ t         ┆ on        │\n",
       "│ str        ┆ str        ┆ str       ┆ str       ┆   ┆ i64    ┆ ---       ┆ ---       ┆ ---       │\n",
       "│            ┆            ┆           ┆           ┆   ┆        ┆ str       ┆ str       ┆ str       │\n",
       "╞════════════╪════════════╪═══════════╪═══════════╪═══╪════════╪═══════════╪═══════════╪═══════════╡\n",
       "│ e1393508-3 ┆ Wetpaint   ┆ organizat ┆ wetpaint  ┆ … ┆ 167617 ┆ 2007-05-2 ┆ 2023-08-0 ┆ Wetpaint  │\n",
       "│ 0ea-8a36-3 ┆            ┆ ion       ┆           ┆   ┆        ┆ 5         ┆ 1         ┆ is a tech │\n",
       "│ f96-dd3226 ┆            ┆           ┆           ┆   ┆        ┆ 13:51:27  ┆ 00:01:37  ┆ nology    │\n",
       "│ …          ┆            ┆           ┆           ┆   ┆        ┆           ┆           ┆ platf…    │\n",
       "│ bf4d7b0e-b ┆ Zoho       ┆ organizat ┆ zoho      ┆ … ┆ 168555 ┆ 2007-05-2 ┆ 2023-10-1 ┆ Zoho      │\n",
       "│ 34d-2fd8-d ┆            ┆ ion       ┆           ┆   ┆        ┆ 6         ┆ 9         ┆ offers a  │\n",
       "│ 292-6049c4 ┆            ┆           ┆           ┆   ┆        ┆ 02:30:28  ┆ 07:46:32  ┆ suite of  │\n",
       "│ …          ┆            ┆           ┆           ┆   ┆        ┆           ┆           ┆ busines…  │\n",
       "│ 5f2b40b8-d ┆ Digg       ┆ organizat ┆ digg      ┆ … ┆ 25570  ┆ 2007-05-2 ┆ 2024-01-2 ┆ Digg Inc. │\n",
       "│ 1b3-d323-d ┆            ┆ ion       ┆           ┆   ┆        ┆ 6         ┆ 6         ┆ operates  │\n",
       "│ 81a-b7a8e8 ┆            ┆           ┆           ┆   ┆        ┆ 03:03:23  ┆ 08:06:40  ┆ a website │\n",
       "│ …          ┆            ┆           ┆           ┆   ┆        ┆           ┆           ┆ t…        │\n",
       "│ f4d5ab44-0 ┆ Omidyar    ┆ organizat ┆ omidyar-n ┆ … ┆ 30539  ┆ 2007-05-2 ┆ 2023-08-3 ┆ Pierre    │\n",
       "│ 58b-298b-e ┆ Network    ┆ ion       ┆ etwork    ┆   ┆        ┆ 6         ┆ 0         ┆ Omidyar,  │\n",
       "│ a81-380e6e ┆            ┆           ┆           ┆   ┆        ┆ 03:21:34  ┆ 02:27:06  ┆ the       │\n",
       "│ …          ┆            ┆           ┆           ┆   ┆        ┆           ┆           ┆ founder   │\n",
       "│            ┆            ┆           ┆           ┆   ┆        ┆           ┆           ┆ of…       │\n",
       "│ df662812-7 ┆ Meta       ┆ organizat ┆ facebook  ┆ … ┆ 119    ┆ 2007-05-2 ┆ 2023-11-2 ┆ Meta is a │\n",
       "│ f97-0b43-9 ┆            ┆ ion       ┆           ┆   ┆        ┆ 6         ┆ 7         ┆ social    │\n",
       "│ d3e-12f64f ┆            ┆           ┆           ┆   ┆        ┆ 04:22:15  ┆ 12:05:27  ┆ technolog │\n",
       "│ …          ┆            ┆           ┆           ┆   ┆        ┆           ┆           ┆ y co…     │\n",
       "└────────────┴────────────┴───────────┴───────────┴───┴────────┴───────────┴───────────┴───────────┘"
      ]
     },
     "execution_count": 4,
     "metadata": {},
     "output_type": "execute_result"
    }
   ],
   "source": [
    "pl_df2 = pl.read_csv(\"/kaggle/input/organizations-csv/organization_descriptions.csv\")\n",
    "pl_df2.head()"
   ]
  },
  {
   "cell_type": "code",
   "execution_count": 5,
   "id": "d317d815",
   "metadata": {
    "execution": {
     "iopub.execute_input": "2025-07-29T16:17:39.541025Z",
     "iopub.status.busy": "2025-07-29T16:17:39.540708Z",
     "iopub.status.idle": "2025-07-29T16:17:39.549633Z",
     "shell.execute_reply": "2025-07-29T16:17:39.548752Z"
    },
    "papermill": {
     "duration": 0.014104,
     "end_time": "2025-07-29T16:17:39.551052",
     "exception": false,
     "start_time": "2025-07-29T16:17:39.536948",
     "status": "completed"
    },
    "tags": []
   },
   "outputs": [
    {
     "data": {
      "text/html": [
       "<div><style>\n",
       ".dataframe > thead > tr,\n",
       ".dataframe > tbody > tr {\n",
       "  text-align: right;\n",
       "  white-space: pre-wrap;\n",
       "}\n",
       "</style>\n",
       "<small>shape: (5, 41)</small><table border=\"1\" class=\"dataframe\"><thead><tr><th>uuid</th><th>name</th><th>type</th><th>permalink</th><th>cb_url</th><th>rank</th><th>created_at</th><th>updated_at</th><th>legal_name</th><th>roles</th><th>domain</th><th>homepage_url</th><th>country_code</th><th>state_code</th><th>region</th><th>city</th><th>address</th><th>postal_code</th><th>status</th><th>short_description</th><th>category_list</th><th>category_groups_list</th><th>num_funding_rounds</th><th>total_funding_usd</th><th>total_funding</th><th>total_funding_currency_code</th><th>founded_on</th><th>last_funding_on</th><th>closed_on</th><th>employee_count</th><th>email</th><th>phone</th><th>facebook_url</th><th>linkedin_url</th><th>twitter_url</th><th>logo_url</th><th>alias1</th><th>alias2</th><th>alias3</th><th>primary_role</th><th>num_exits</th></tr><tr><td>str</td><td>str</td><td>str</td><td>str</td><td>str</td><td>i64</td><td>str</td><td>str</td><td>str</td><td>str</td><td>str</td><td>str</td><td>str</td><td>str</td><td>str</td><td>str</td><td>str</td><td>str</td><td>str</td><td>str</td><td>str</td><td>str</td><td>i64</td><td>i64</td><td>i64</td><td>str</td><td>str</td><td>str</td><td>str</td><td>str</td><td>str</td><td>str</td><td>str</td><td>str</td><td>str</td><td>str</td><td>str</td><td>str</td><td>str</td><td>str</td><td>i64</td></tr></thead><tbody><tr><td>&quot;e1393508-30ea-8a36-3f96-dd3226…</td><td>&quot;Wetpaint&quot;</td><td>&quot;organization&quot;</td><td>&quot;wetpaint&quot;</td><td>&quot;https://www.crunchbase.com/org…</td><td>167617</td><td>&quot;2007-05-25 13:51:27&quot;</td><td>&quot;2023-08-01 00:01:37&quot;</td><td>null</td><td>&quot;company&quot;</td><td>&quot;wetpaint.com&quot;</td><td>&quot;http://www.wetpaint.com/&quot;</td><td>&quot;USA&quot;</td><td>&quot;NY&quot;</td><td>&quot;New York&quot;</td><td>&quot;New York&quot;</td><td>&quot;902 Broadway 11th Floor New&quot;</td><td>&quot;10010&quot;</td><td>&quot;acquired&quot;</td><td>&quot;Wetpaint offers an online soci…</td><td>&quot;Publishing,Social Media,Social…</td><td>&quot;Content and Publishing,Interne…</td><td>3</td><td>39750000</td><td>39750000</td><td>&quot;USD&quot;</td><td>&quot;2005-06-01&quot;</td><td>&quot;2008-05-19&quot;</td><td>null</td><td>&quot;51-100&quot;</td><td>&quot;info@wetpaint.com&quot;</td><td>&quot;206-859-6300&quot;</td><td>&quot;https://www.facebook.com/Wetpa…</td><td>&quot;https://www.linkedin.com/compa…</td><td>&quot;https://twitter.com/wetpainttv&quot;</td><td>&quot;https://images.crunchbase.com/…</td><td>null</td><td>null</td><td>null</td><td>&quot;company&quot;</td><td>null</td></tr><tr><td>&quot;bf4d7b0e-b34d-2fd8-d292-6049c4…</td><td>&quot;Zoho&quot;</td><td>&quot;organization&quot;</td><td>&quot;zoho&quot;</td><td>&quot;https://www.crunchbase.com/org…</td><td>168555</td><td>&quot;2007-05-26 02:30:28&quot;</td><td>&quot;2023-10-19 07:46:32&quot;</td><td>&quot;Zoho Corporation Pvt. Ltd.&quot;</td><td>&quot;investor,company&quot;</td><td>&quot;zoho.com&quot;</td><td>&quot;https://www.zoho.com&quot;</td><td>&quot;USA&quot;</td><td>&quot;CA&quot;</td><td>&quot;California&quot;</td><td>&quot;Pleasanton&quot;</td><td>&quot;4141 Hacienda Dr&quot;</td><td>&quot;94588&quot;</td><td>&quot;operating&quot;</td><td>&quot;Zoho offers a suite of busines…</td><td>&quot;Cloud Computing,Collaboration,…</td><td>&quot;Administrative Services,Apps,I…</td><td>null</td><td>null</td><td>null</td><td>null</td><td>&quot;1996-03-17&quot;</td><td>null</td><td>null</td><td>&quot;10000+&quot;</td><td>&quot;sales@zohocorp.com&quot;</td><td>&quot;1800 103 1123 /1800 572 3535&quot;</td><td>&quot;http://www.facebook.com/zoho&quot;</td><td>&quot;https://www.linkedin.com/compa…</td><td>&quot;http://twitter.com/zoho&quot;</td><td>&quot;https://images.crunchbase.com/…</td><td>null</td><td>null</td><td>null</td><td>&quot;company&quot;</td><td>2</td></tr><tr><td>&quot;5f2b40b8-d1b3-d323-d81a-b7a8e8…</td><td>&quot;Digg&quot;</td><td>&quot;organization&quot;</td><td>&quot;digg&quot;</td><td>&quot;https://www.crunchbase.com/org…</td><td>25570</td><td>&quot;2007-05-26 03:03:23&quot;</td><td>&quot;2024-01-26 08:06:40&quot;</td><td>&quot;Digg Holdings, LLC&quot;</td><td>&quot;company&quot;</td><td>&quot;digg.com&quot;</td><td>&quot;http://www.digg.com&quot;</td><td>&quot;USA&quot;</td><td>&quot;NY&quot;</td><td>&quot;New York&quot;</td><td>&quot;New York&quot;</td><td>null</td><td>null</td><td>&quot;acquired&quot;</td><td>&quot;Digg Inc. operates a website t…</td><td>&quot;Internet,Social Media,Social N…</td><td>&quot;Internet Services,Media and En…</td><td>6</td><td>49000000</td><td>49000000</td><td>&quot;USD&quot;</td><td>&quot;2004-10-11&quot;</td><td>&quot;2016-09-13&quot;</td><td>null</td><td>&quot;51-100&quot;</td><td>&quot;feedback@digg.com&quot;</td><td>null</td><td>&quot;http://www.facebook.com/digg&quot;</td><td>&quot;http://www.linkedin.com/compan…</td><td>&quot;http://twitter.com/digg&quot;</td><td>&quot;https://images.crunchbase.com/…</td><td>null</td><td>null</td><td>null</td><td>&quot;company&quot;</td><td>null</td></tr><tr><td>&quot;f4d5ab44-058b-298b-ea81-380e6e…</td><td>&quot;Omidyar Network&quot;</td><td>&quot;organization&quot;</td><td>&quot;omidyar-network&quot;</td><td>&quot;https://www.crunchbase.com/org…</td><td>30539</td><td>&quot;2007-05-26 03:21:34&quot;</td><td>&quot;2023-08-30 02:27:06&quot;</td><td>null</td><td>&quot;investor,company&quot;</td><td>&quot;omidyar.com&quot;</td><td>&quot;http://www.omidyar.com&quot;</td><td>&quot;USA&quot;</td><td>&quot;CA&quot;</td><td>&quot;California&quot;</td><td>&quot;Redwood City&quot;</td><td>&quot;1991 Broadway Suite 200&quot;</td><td>&quot;94063&quot;</td><td>&quot;operating&quot;</td><td>&quot;Omidyar Network is an investme…</td><td>&quot;Enterprise Software,Financial …</td><td>&quot;Financial Services,Lending and…</td><td>null</td><td>null</td><td>null</td><td>null</td><td>&quot;2004-01-01&quot;</td><td>null</td><td>null</td><td>&quot;101-250&quot;</td><td>&quot;info@omidyar.com&quot;</td><td>&quot;650.482.2500&quot;</td><td>&quot;http://www.facebook.com/Omidya…</td><td>&quot;http://www.linkedin.com/compan…</td><td>&quot;http://twitter.com/OmidyarNetw…</td><td>&quot;https://images.crunchbase.com/…</td><td>null</td><td>null</td><td>null</td><td>&quot;investor&quot;</td><td>62</td></tr><tr><td>&quot;df662812-7f97-0b43-9d3e-12f64f…</td><td>&quot;Meta&quot;</td><td>&quot;organization&quot;</td><td>&quot;facebook&quot;</td><td>&quot;https://www.crunchbase.com/org…</td><td>119</td><td>&quot;2007-05-26 04:22:15&quot;</td><td>&quot;2023-11-27 12:05:27&quot;</td><td>&quot;Meta Platforms, Inc.&quot;</td><td>&quot;investor,company&quot;</td><td>&quot;meta.com&quot;</td><td>&quot;https://meta.com&quot;</td><td>&quot;USA&quot;</td><td>&quot;CA&quot;</td><td>&quot;California&quot;</td><td>&quot;Menlo Park&quot;</td><td>&quot;1 Hacker Way&quot;</td><td>&quot;94025&quot;</td><td>&quot;ipo&quot;</td><td>&quot;Meta is a social technology co…</td><td>&quot;Augmented Reality,Metaverse,Mo…</td><td>&quot;Hardware,Internet Services,Med…</td><td>14</td><td>24607817488</td><td>24607817488</td><td>&quot;USD&quot;</td><td>&quot;2004-02-04&quot;</td><td>&quot;2022-08-04&quot;</td><td>null</td><td>&quot;10000+&quot;</td><td>null</td><td>null</td><td>&quot;https://www.facebook.com/Meta&quot;</td><td>&quot;https://www.linkedin.com/compa…</td><td>&quot;https://www.twitter.com/Meta&quot;</td><td>&quot;https://images.crunchbase.com/…</td><td>&quot;Facebook&quot;</td><td>&quot;Facebook, Inc.&quot;</td><td>&quot;FB&quot;</td><td>&quot;company&quot;</td><td>1</td></tr></tbody></table></div>"
      ],
      "text/plain": [
       "shape: (5, 41)\n",
       "┌────────────┬────────────┬───────────┬───────────┬───┬───────────┬────────┬───────────┬───────────┐\n",
       "│ uuid       ┆ name       ┆ type      ┆ permalink ┆ … ┆ alias2    ┆ alias3 ┆ primary_r ┆ num_exits │\n",
       "│ ---        ┆ ---        ┆ ---       ┆ ---       ┆   ┆ ---       ┆ ---    ┆ ole       ┆ ---       │\n",
       "│ str        ┆ str        ┆ str       ┆ str       ┆   ┆ str       ┆ str    ┆ ---       ┆ i64       │\n",
       "│            ┆            ┆           ┆           ┆   ┆           ┆        ┆ str       ┆           │\n",
       "╞════════════╪════════════╪═══════════╪═══════════╪═══╪═══════════╪════════╪═══════════╪═══════════╡\n",
       "│ e1393508-3 ┆ Wetpaint   ┆ organizat ┆ wetpaint  ┆ … ┆ null      ┆ null   ┆ company   ┆ null      │\n",
       "│ 0ea-8a36-3 ┆            ┆ ion       ┆           ┆   ┆           ┆        ┆           ┆           │\n",
       "│ f96-dd3226 ┆            ┆           ┆           ┆   ┆           ┆        ┆           ┆           │\n",
       "│ …          ┆            ┆           ┆           ┆   ┆           ┆        ┆           ┆           │\n",
       "│ bf4d7b0e-b ┆ Zoho       ┆ organizat ┆ zoho      ┆ … ┆ null      ┆ null   ┆ company   ┆ 2         │\n",
       "│ 34d-2fd8-d ┆            ┆ ion       ┆           ┆   ┆           ┆        ┆           ┆           │\n",
       "│ 292-6049c4 ┆            ┆           ┆           ┆   ┆           ┆        ┆           ┆           │\n",
       "│ …          ┆            ┆           ┆           ┆   ┆           ┆        ┆           ┆           │\n",
       "│ 5f2b40b8-d ┆ Digg       ┆ organizat ┆ digg      ┆ … ┆ null      ┆ null   ┆ company   ┆ null      │\n",
       "│ 1b3-d323-d ┆            ┆ ion       ┆           ┆   ┆           ┆        ┆           ┆           │\n",
       "│ 81a-b7a8e8 ┆            ┆           ┆           ┆   ┆           ┆        ┆           ┆           │\n",
       "│ …          ┆            ┆           ┆           ┆   ┆           ┆        ┆           ┆           │\n",
       "│ f4d5ab44-0 ┆ Omidyar    ┆ organizat ┆ omidyar-n ┆ … ┆ null      ┆ null   ┆ investor  ┆ 62        │\n",
       "│ 58b-298b-e ┆ Network    ┆ ion       ┆ etwork    ┆   ┆           ┆        ┆           ┆           │\n",
       "│ a81-380e6e ┆            ┆           ┆           ┆   ┆           ┆        ┆           ┆           │\n",
       "│ …          ┆            ┆           ┆           ┆   ┆           ┆        ┆           ┆           │\n",
       "│ df662812-7 ┆ Meta       ┆ organizat ┆ facebook  ┆ … ┆ Facebook, ┆ FB     ┆ company   ┆ 1         │\n",
       "│ f97-0b43-9 ┆            ┆ ion       ┆           ┆   ┆ Inc.      ┆        ┆           ┆           │\n",
       "│ d3e-12f64f ┆            ┆           ┆           ┆   ┆           ┆        ┆           ┆           │\n",
       "│ …          ┆            ┆           ┆           ┆   ┆           ┆        ┆           ┆           │\n",
       "└────────────┴────────────┴───────────┴───────────┴───┴───────────┴────────┴───────────┴───────────┘"
      ]
     },
     "execution_count": 5,
     "metadata": {},
     "output_type": "execute_result"
    }
   ],
   "source": [
    "pl_df1.head()"
   ]
  },
  {
   "cell_type": "code",
   "execution_count": 6,
   "id": "a118f378",
   "metadata": {
    "execution": {
     "iopub.execute_input": "2025-07-29T16:17:39.558764Z",
     "iopub.status.busy": "2025-07-29T16:17:39.557981Z",
     "iopub.status.idle": "2025-07-29T16:17:42.065133Z",
     "shell.execute_reply": "2025-07-29T16:17:42.064251Z"
    },
    "papermill": {
     "duration": 2.512356,
     "end_time": "2025-07-29T16:17:42.066559",
     "exception": false,
     "start_time": "2025-07-29T16:17:39.554203",
     "status": "completed"
    },
    "tags": []
   },
   "outputs": [
    {
     "data": {
      "text/html": [
       "<div><style>\n",
       ".dataframe > thead > tr,\n",
       ".dataframe > tbody > tr {\n",
       "  text-align: right;\n",
       "  white-space: pre-wrap;\n",
       "}\n",
       "</style>\n",
       "<small>shape: (5, 49)</small><table border=\"1\" class=\"dataframe\"><thead><tr><th>uuid</th><th>name</th><th>type</th><th>permalink</th><th>cb_url</th><th>rank</th><th>created_at</th><th>updated_at</th><th>legal_name</th><th>roles</th><th>domain</th><th>homepage_url</th><th>country_code</th><th>state_code</th><th>region</th><th>city</th><th>address</th><th>postal_code</th><th>status</th><th>short_description</th><th>category_list</th><th>category_groups_list</th><th>num_funding_rounds</th><th>total_funding_usd</th><th>total_funding</th><th>total_funding_currency_code</th><th>founded_on</th><th>last_funding_on</th><th>closed_on</th><th>employee_count</th><th>email</th><th>phone</th><th>facebook_url</th><th>linkedin_url</th><th>twitter_url</th><th>logo_url</th><th>alias1</th><th>alias2</th><th>alias3</th><th>primary_role</th><th>num_exits</th><th>name_right</th><th>type_right</th><th>permalink_right</th><th>cb_url_right</th><th>rank_right</th><th>created_at_right</th><th>updated_at_right</th><th>description</th></tr><tr><td>str</td><td>str</td><td>str</td><td>str</td><td>str</td><td>i64</td><td>str</td><td>str</td><td>str</td><td>str</td><td>str</td><td>str</td><td>str</td><td>str</td><td>str</td><td>str</td><td>str</td><td>str</td><td>str</td><td>str</td><td>str</td><td>str</td><td>i64</td><td>i64</td><td>i64</td><td>str</td><td>str</td><td>str</td><td>str</td><td>str</td><td>str</td><td>str</td><td>str</td><td>str</td><td>str</td><td>str</td><td>str</td><td>str</td><td>str</td><td>str</td><td>i64</td><td>str</td><td>str</td><td>str</td><td>str</td><td>i64</td><td>str</td><td>str</td><td>str</td></tr></thead><tbody><tr><td>&quot;e1393508-30ea-8a36-3f96-dd3226…</td><td>&quot;Wetpaint&quot;</td><td>&quot;organization&quot;</td><td>&quot;wetpaint&quot;</td><td>&quot;https://www.crunchbase.com/org…</td><td>167617</td><td>&quot;2007-05-25 13:51:27&quot;</td><td>&quot;2023-08-01 00:01:37&quot;</td><td>null</td><td>&quot;company&quot;</td><td>&quot;wetpaint.com&quot;</td><td>&quot;http://www.wetpaint.com/&quot;</td><td>&quot;USA&quot;</td><td>&quot;NY&quot;</td><td>&quot;New York&quot;</td><td>&quot;New York&quot;</td><td>&quot;902 Broadway 11th Floor New&quot;</td><td>&quot;10010&quot;</td><td>&quot;acquired&quot;</td><td>&quot;Wetpaint offers an online soci…</td><td>&quot;Publishing,Social Media,Social…</td><td>&quot;Content and Publishing,Interne…</td><td>3</td><td>39750000</td><td>39750000</td><td>&quot;USD&quot;</td><td>&quot;2005-06-01&quot;</td><td>&quot;2008-05-19&quot;</td><td>null</td><td>&quot;51-100&quot;</td><td>&quot;info@wetpaint.com&quot;</td><td>&quot;206-859-6300&quot;</td><td>&quot;https://www.facebook.com/Wetpa…</td><td>&quot;https://www.linkedin.com/compa…</td><td>&quot;https://twitter.com/wetpainttv&quot;</td><td>&quot;https://images.crunchbase.com/…</td><td>null</td><td>null</td><td>null</td><td>&quot;company&quot;</td><td>null</td><td>&quot;Wetpaint&quot;</td><td>&quot;organization&quot;</td><td>&quot;wetpaint&quot;</td><td>&quot;https://www.crunchbase.com/org…</td><td>167617</td><td>&quot;2007-05-25 13:51:27&quot;</td><td>&quot;2023-08-01 00:01:37&quot;</td><td>&quot;Wetpaint is a technology platf…</td></tr><tr><td>&quot;bf4d7b0e-b34d-2fd8-d292-6049c4…</td><td>&quot;Zoho&quot;</td><td>&quot;organization&quot;</td><td>&quot;zoho&quot;</td><td>&quot;https://www.crunchbase.com/org…</td><td>168555</td><td>&quot;2007-05-26 02:30:28&quot;</td><td>&quot;2023-10-19 07:46:32&quot;</td><td>&quot;Zoho Corporation Pvt. Ltd.&quot;</td><td>&quot;investor,company&quot;</td><td>&quot;zoho.com&quot;</td><td>&quot;https://www.zoho.com&quot;</td><td>&quot;USA&quot;</td><td>&quot;CA&quot;</td><td>&quot;California&quot;</td><td>&quot;Pleasanton&quot;</td><td>&quot;4141 Hacienda Dr&quot;</td><td>&quot;94588&quot;</td><td>&quot;operating&quot;</td><td>&quot;Zoho offers a suite of busines…</td><td>&quot;Cloud Computing,Collaboration,…</td><td>&quot;Administrative Services,Apps,I…</td><td>null</td><td>null</td><td>null</td><td>null</td><td>&quot;1996-03-17&quot;</td><td>null</td><td>null</td><td>&quot;10000+&quot;</td><td>&quot;sales@zohocorp.com&quot;</td><td>&quot;1800 103 1123 /1800 572 3535&quot;</td><td>&quot;http://www.facebook.com/zoho&quot;</td><td>&quot;https://www.linkedin.com/compa…</td><td>&quot;http://twitter.com/zoho&quot;</td><td>&quot;https://images.crunchbase.com/…</td><td>null</td><td>null</td><td>null</td><td>&quot;company&quot;</td><td>2</td><td>&quot;Zoho&quot;</td><td>&quot;organization&quot;</td><td>&quot;zoho&quot;</td><td>&quot;https://www.crunchbase.com/org…</td><td>168555</td><td>&quot;2007-05-26 02:30:28&quot;</td><td>&quot;2023-10-19 07:46:32&quot;</td><td>&quot;Zoho offers a suite of busines…</td></tr><tr><td>&quot;5f2b40b8-d1b3-d323-d81a-b7a8e8…</td><td>&quot;Digg&quot;</td><td>&quot;organization&quot;</td><td>&quot;digg&quot;</td><td>&quot;https://www.crunchbase.com/org…</td><td>25570</td><td>&quot;2007-05-26 03:03:23&quot;</td><td>&quot;2024-01-26 08:06:40&quot;</td><td>&quot;Digg Holdings, LLC&quot;</td><td>&quot;company&quot;</td><td>&quot;digg.com&quot;</td><td>&quot;http://www.digg.com&quot;</td><td>&quot;USA&quot;</td><td>&quot;NY&quot;</td><td>&quot;New York&quot;</td><td>&quot;New York&quot;</td><td>null</td><td>null</td><td>&quot;acquired&quot;</td><td>&quot;Digg Inc. operates a website t…</td><td>&quot;Internet,Social Media,Social N…</td><td>&quot;Internet Services,Media and En…</td><td>6</td><td>49000000</td><td>49000000</td><td>&quot;USD&quot;</td><td>&quot;2004-10-11&quot;</td><td>&quot;2016-09-13&quot;</td><td>null</td><td>&quot;51-100&quot;</td><td>&quot;feedback@digg.com&quot;</td><td>null</td><td>&quot;http://www.facebook.com/digg&quot;</td><td>&quot;http://www.linkedin.com/compan…</td><td>&quot;http://twitter.com/digg&quot;</td><td>&quot;https://images.crunchbase.com/…</td><td>null</td><td>null</td><td>null</td><td>&quot;company&quot;</td><td>null</td><td>&quot;Digg&quot;</td><td>&quot;organization&quot;</td><td>&quot;digg&quot;</td><td>&quot;https://www.crunchbase.com/org…</td><td>25570</td><td>&quot;2007-05-26 03:03:23&quot;</td><td>&quot;2024-01-26 08:06:40&quot;</td><td>&quot;Digg Inc. operates a website t…</td></tr><tr><td>&quot;f4d5ab44-058b-298b-ea81-380e6e…</td><td>&quot;Omidyar Network&quot;</td><td>&quot;organization&quot;</td><td>&quot;omidyar-network&quot;</td><td>&quot;https://www.crunchbase.com/org…</td><td>30539</td><td>&quot;2007-05-26 03:21:34&quot;</td><td>&quot;2023-08-30 02:27:06&quot;</td><td>null</td><td>&quot;investor,company&quot;</td><td>&quot;omidyar.com&quot;</td><td>&quot;http://www.omidyar.com&quot;</td><td>&quot;USA&quot;</td><td>&quot;CA&quot;</td><td>&quot;California&quot;</td><td>&quot;Redwood City&quot;</td><td>&quot;1991 Broadway Suite 200&quot;</td><td>&quot;94063&quot;</td><td>&quot;operating&quot;</td><td>&quot;Omidyar Network is an investme…</td><td>&quot;Enterprise Software,Financial …</td><td>&quot;Financial Services,Lending and…</td><td>null</td><td>null</td><td>null</td><td>null</td><td>&quot;2004-01-01&quot;</td><td>null</td><td>null</td><td>&quot;101-250&quot;</td><td>&quot;info@omidyar.com&quot;</td><td>&quot;650.482.2500&quot;</td><td>&quot;http://www.facebook.com/Omidya…</td><td>&quot;http://www.linkedin.com/compan…</td><td>&quot;http://twitter.com/OmidyarNetw…</td><td>&quot;https://images.crunchbase.com/…</td><td>null</td><td>null</td><td>null</td><td>&quot;investor&quot;</td><td>62</td><td>&quot;Omidyar Network&quot;</td><td>&quot;organization&quot;</td><td>&quot;omidyar-network&quot;</td><td>&quot;https://www.crunchbase.com/org…</td><td>30539</td><td>&quot;2007-05-26 03:21:34&quot;</td><td>&quot;2023-08-30 02:27:06&quot;</td><td>&quot;Pierre Omidyar, the founder of…</td></tr><tr><td>&quot;df662812-7f97-0b43-9d3e-12f64f…</td><td>&quot;Meta&quot;</td><td>&quot;organization&quot;</td><td>&quot;facebook&quot;</td><td>&quot;https://www.crunchbase.com/org…</td><td>119</td><td>&quot;2007-05-26 04:22:15&quot;</td><td>&quot;2023-11-27 12:05:27&quot;</td><td>&quot;Meta Platforms, Inc.&quot;</td><td>&quot;investor,company&quot;</td><td>&quot;meta.com&quot;</td><td>&quot;https://meta.com&quot;</td><td>&quot;USA&quot;</td><td>&quot;CA&quot;</td><td>&quot;California&quot;</td><td>&quot;Menlo Park&quot;</td><td>&quot;1 Hacker Way&quot;</td><td>&quot;94025&quot;</td><td>&quot;ipo&quot;</td><td>&quot;Meta is a social technology co…</td><td>&quot;Augmented Reality,Metaverse,Mo…</td><td>&quot;Hardware,Internet Services,Med…</td><td>14</td><td>24607817488</td><td>24607817488</td><td>&quot;USD&quot;</td><td>&quot;2004-02-04&quot;</td><td>&quot;2022-08-04&quot;</td><td>null</td><td>&quot;10000+&quot;</td><td>null</td><td>null</td><td>&quot;https://www.facebook.com/Meta&quot;</td><td>&quot;https://www.linkedin.com/compa…</td><td>&quot;https://www.twitter.com/Meta&quot;</td><td>&quot;https://images.crunchbase.com/…</td><td>&quot;Facebook&quot;</td><td>&quot;Facebook, Inc.&quot;</td><td>&quot;FB&quot;</td><td>&quot;company&quot;</td><td>1</td><td>&quot;Meta&quot;</td><td>&quot;organization&quot;</td><td>&quot;facebook&quot;</td><td>&quot;https://www.crunchbase.com/org…</td><td>119</td><td>&quot;2007-05-26 04:22:15&quot;</td><td>&quot;2023-11-27 12:05:27&quot;</td><td>&quot;Meta is a social technology co…</td></tr></tbody></table></div>"
      ],
      "text/plain": [
       "shape: (5, 49)\n",
       "┌───────────┬───────────┬───────────┬───────────┬───┬───────────┬───────────┬───────────┬──────────┐\n",
       "│ uuid      ┆ name      ┆ type      ┆ permalink ┆ … ┆ rank_righ ┆ created_a ┆ updated_a ┆ descript │\n",
       "│ ---       ┆ ---       ┆ ---       ┆ ---       ┆   ┆ t         ┆ t_right   ┆ t_right   ┆ ion      │\n",
       "│ str       ┆ str       ┆ str       ┆ str       ┆   ┆ ---       ┆ ---       ┆ ---       ┆ ---      │\n",
       "│           ┆           ┆           ┆           ┆   ┆ i64       ┆ str       ┆ str       ┆ str      │\n",
       "╞═══════════╪═══════════╪═══════════╪═══════════╪═══╪═══════════╪═══════════╪═══════════╪══════════╡\n",
       "│ e1393508- ┆ Wetpaint  ┆ organizat ┆ wetpaint  ┆ … ┆ 167617    ┆ 2007-05-2 ┆ 2023-08-0 ┆ Wetpaint │\n",
       "│ 30ea-8a36 ┆           ┆ ion       ┆           ┆   ┆           ┆ 5         ┆ 1         ┆ is a tec │\n",
       "│ -3f96-dd3 ┆           ┆           ┆           ┆   ┆           ┆ 13:51:27  ┆ 00:01:37  ┆ hnology  │\n",
       "│ 226…      ┆           ┆           ┆           ┆   ┆           ┆           ┆           ┆ platf…   │\n",
       "│ bf4d7b0e- ┆ Zoho      ┆ organizat ┆ zoho      ┆ … ┆ 168555    ┆ 2007-05-2 ┆ 2023-10-1 ┆ Zoho     │\n",
       "│ b34d-2fd8 ┆           ┆ ion       ┆           ┆   ┆           ┆ 6         ┆ 9         ┆ offers a │\n",
       "│ -d292-604 ┆           ┆           ┆           ┆   ┆           ┆ 02:30:28  ┆ 07:46:32  ┆ suite of │\n",
       "│ 9c4…      ┆           ┆           ┆           ┆   ┆           ┆           ┆           ┆ busines… │\n",
       "│ 5f2b40b8- ┆ Digg      ┆ organizat ┆ digg      ┆ … ┆ 25570     ┆ 2007-05-2 ┆ 2024-01-2 ┆ Digg     │\n",
       "│ d1b3-d323 ┆           ┆ ion       ┆           ┆   ┆           ┆ 6         ┆ 6         ┆ Inc.     │\n",
       "│ -d81a-b7a ┆           ┆           ┆           ┆   ┆           ┆ 03:03:23  ┆ 08:06:40  ┆ operates │\n",
       "│ 8e8…      ┆           ┆           ┆           ┆   ┆           ┆           ┆           ┆ a        │\n",
       "│           ┆           ┆           ┆           ┆   ┆           ┆           ┆           ┆ website  │\n",
       "│           ┆           ┆           ┆           ┆   ┆           ┆           ┆           ┆ t…       │\n",
       "│ f4d5ab44- ┆ Omidyar   ┆ organizat ┆ omidyar-n ┆ … ┆ 30539     ┆ 2007-05-2 ┆ 2023-08-3 ┆ Pierre   │\n",
       "│ 058b-298b ┆ Network   ┆ ion       ┆ etwork    ┆   ┆           ┆ 6         ┆ 0         ┆ Omidyar, │\n",
       "│ -ea81-380 ┆           ┆           ┆           ┆   ┆           ┆ 03:21:34  ┆ 02:27:06  ┆ the      │\n",
       "│ e6e…      ┆           ┆           ┆           ┆   ┆           ┆           ┆           ┆ founder  │\n",
       "│           ┆           ┆           ┆           ┆   ┆           ┆           ┆           ┆ of…      │\n",
       "│ df662812- ┆ Meta      ┆ organizat ┆ facebook  ┆ … ┆ 119       ┆ 2007-05-2 ┆ 2023-11-2 ┆ Meta is  │\n",
       "│ 7f97-0b43 ┆           ┆ ion       ┆           ┆   ┆           ┆ 6         ┆ 7         ┆ a social │\n",
       "│ -9d3e-12f ┆           ┆           ┆           ┆   ┆           ┆ 04:22:15  ┆ 12:05:27  ┆ technolo │\n",
       "│ 64f…      ┆           ┆           ┆           ┆   ┆           ┆           ┆           ┆ gy co…   │\n",
       "└───────────┴───────────┴───────────┴───────────┴───┴───────────┴───────────┴───────────┴──────────┘"
      ]
     },
     "execution_count": 6,
     "metadata": {},
     "output_type": "execute_result"
    }
   ],
   "source": [
    "# Joining both tables through left join\n",
    "\n",
    "merged = pl_df1.join(pl_df2, on = 'uuid',how = 'left')\n",
    "merged.head()"
   ]
  },
  {
   "cell_type": "code",
   "execution_count": 7,
   "id": "d0b34313",
   "metadata": {
    "execution": {
     "iopub.execute_input": "2025-07-29T16:17:42.074925Z",
     "iopub.status.busy": "2025-07-29T16:17:42.074509Z",
     "iopub.status.idle": "2025-07-29T16:17:42.099287Z",
     "shell.execute_reply": "2025-07-29T16:17:42.098115Z"
    },
    "papermill": {
     "duration": 0.030755,
     "end_time": "2025-07-29T16:17:42.100959",
     "exception": false,
     "start_time": "2025-07-29T16:17:42.070204",
     "status": "completed"
    },
    "tags": []
   },
   "outputs": [
    {
     "name": "stdout",
     "output_type": "stream",
     "text": [
      "Organizations with descriptions: 1406915\n"
     ]
    }
   ],
   "source": [
    "# Checking companies with non-null descriptions\n",
    "org_with_desc = merged.select(pl.col(\"description\").is_not_null().sum()).item()\n",
    "print(f\"Organizations with descriptions: {org_with_desc}\")"
   ]
  },
  {
   "cell_type": "code",
   "execution_count": 8,
   "id": "05a8d9fe",
   "metadata": {
    "execution": {
     "iopub.execute_input": "2025-07-29T16:17:42.109611Z",
     "iopub.status.busy": "2025-07-29T16:17:42.108650Z",
     "iopub.status.idle": "2025-07-29T16:17:42.129532Z",
     "shell.execute_reply": "2025-07-29T16:17:42.128604Z"
    },
    "papermill": {
     "duration": 0.02669,
     "end_time": "2025-07-29T16:17:42.131140",
     "exception": false,
     "start_time": "2025-07-29T16:17:42.104450",
     "status": "completed"
    },
    "tags": []
   },
   "outputs": [
    {
     "data": {
      "text/html": [
       "<div><style>\n",
       ".dataframe > thead > tr,\n",
       ".dataframe > tbody > tr {\n",
       "  text-align: right;\n",
       "  white-space: pre-wrap;\n",
       "}\n",
       "</style>\n",
       "<small>shape: (1, 49)</small><table border=\"1\" class=\"dataframe\"><thead><tr><th>uuid</th><th>name</th><th>type</th><th>permalink</th><th>cb_url</th><th>rank</th><th>created_at</th><th>updated_at</th><th>legal_name</th><th>roles</th><th>domain</th><th>homepage_url</th><th>country_code</th><th>state_code</th><th>region</th><th>city</th><th>address</th><th>postal_code</th><th>status</th><th>short_description</th><th>category_list</th><th>category_groups_list</th><th>num_funding_rounds</th><th>total_funding_usd</th><th>total_funding</th><th>total_funding_currency_code</th><th>founded_on</th><th>last_funding_on</th><th>closed_on</th><th>employee_count</th><th>email</th><th>phone</th><th>facebook_url</th><th>linkedin_url</th><th>twitter_url</th><th>logo_url</th><th>alias1</th><th>alias2</th><th>alias3</th><th>primary_role</th><th>num_exits</th><th>name_right</th><th>type_right</th><th>permalink_right</th><th>cb_url_right</th><th>rank_right</th><th>created_at_right</th><th>updated_at_right</th><th>description</th></tr><tr><td>f64</td><td>f64</td><td>f64</td><td>f64</td><td>f64</td><td>f64</td><td>f64</td><td>f64</td><td>f64</td><td>f64</td><td>f64</td><td>f64</td><td>f64</td><td>f64</td><td>f64</td><td>f64</td><td>f64</td><td>f64</td><td>f64</td><td>f64</td><td>f64</td><td>f64</td><td>f64</td><td>f64</td><td>f64</td><td>f64</td><td>f64</td><td>f64</td><td>f64</td><td>f64</td><td>f64</td><td>f64</td><td>f64</td><td>f64</td><td>f64</td><td>f64</td><td>f64</td><td>f64</td><td>f64</td><td>f64</td><td>f64</td><td>f64</td><td>f64</td><td>f64</td><td>f64</td><td>f64</td><td>f64</td><td>f64</td><td>f64</td></tr></thead><tbody><tr><td>0.0</td><td>0.0</td><td>0.0</td><td>0.0</td><td>0.0</td><td>0.000052</td><td>0.0</td><td>0.0</td><td>0.497456</td><td>0.009898</td><td>0.031883</td><td>0.031883</td><td>0.063217</td><td>0.565724</td><td>0.063217</td><td>0.063217</td><td>0.367826</td><td>0.38943</td><td>0.0</td><td>0.000002</td><td>0.054529</td><td>0.054529</td><td>0.903613</td><td>0.90366</td><td>0.90366</td><td>0.90366</td><td>0.185436</td><td>0.903659</td><td>0.988244</td><td>0.0</td><td>0.273105</td><td>0.225664</td><td>0.405691</td><td>0.246232</td><td>0.572425</td><td>0.06425</td><td>0.831295</td><td>0.97859</td><td>0.991933</td><td>0.0</td><td>0.991261</td><td>0.572331</td><td>0.572331</td><td>0.572331</td><td>0.572331</td><td>0.572354</td><td>0.572331</td><td>0.572331</td><td>0.572331</td></tr></tbody></table></div>"
      ],
      "text/plain": [
       "shape: (1, 49)\n",
       "┌──────┬──────┬──────┬───────────┬───┬────────────┬─────────────────┬────────────────┬─────────────┐\n",
       "│ uuid ┆ name ┆ type ┆ permalink ┆ … ┆ rank_right ┆ created_at_righ ┆ updated_at_rig ┆ description │\n",
       "│ ---  ┆ ---  ┆ ---  ┆ ---       ┆   ┆ ---        ┆ t               ┆ ht             ┆ ---         │\n",
       "│ f64  ┆ f64  ┆ f64  ┆ f64       ┆   ┆ f64        ┆ ---             ┆ ---            ┆ f64         │\n",
       "│      ┆      ┆      ┆           ┆   ┆            ┆ f64             ┆ f64            ┆             │\n",
       "╞══════╪══════╪══════╪═══════════╪═══╪════════════╪═════════════════╪════════════════╪═════════════╡\n",
       "│ 0.0  ┆ 0.0  ┆ 0.0  ┆ 0.0       ┆ … ┆ 0.572354   ┆ 0.572331        ┆ 0.572331       ┆ 0.572331    │\n",
       "└──────┴──────┴──────┴───────────┴───┴────────────┴─────────────────┴────────────────┴─────────────┘"
      ]
     },
     "execution_count": 8,
     "metadata": {},
     "output_type": "execute_result"
    }
   ],
   "source": [
    "# Evaluatig the expression based syntax of polars\n",
    "merged.select(pl.all().is_null().mean())\n"
   ]
  },
  {
   "cell_type": "code",
   "execution_count": 9,
   "id": "9ecb0415",
   "metadata": {
    "execution": {
     "iopub.execute_input": "2025-07-29T16:17:42.139433Z",
     "iopub.status.busy": "2025-07-29T16:17:42.139126Z",
     "iopub.status.idle": "2025-07-29T16:17:43.709921Z",
     "shell.execute_reply": "2025-07-29T16:17:43.709163Z"
    },
    "papermill": {
     "duration": 1.576779,
     "end_time": "2025-07-29T16:17:43.711597",
     "exception": false,
     "start_time": "2025-07-29T16:17:42.134818",
     "status": "completed"
    },
    "tags": []
   },
   "outputs": [
    {
     "data": {
      "text/html": [
       "<div><style>\n",
       ".dataframe > thead > tr,\n",
       ".dataframe > tbody > tr {\n",
       "  text-align: right;\n",
       "  white-space: pre-wrap;\n",
       "}\n",
       "</style>\n",
       "<small>shape: (9, 50)</small><table border=\"1\" class=\"dataframe\"><thead><tr><th>statistic</th><th>uuid</th><th>name</th><th>type</th><th>permalink</th><th>cb_url</th><th>rank</th><th>created_at</th><th>updated_at</th><th>legal_name</th><th>roles</th><th>domain</th><th>homepage_url</th><th>country_code</th><th>state_code</th><th>region</th><th>city</th><th>address</th><th>postal_code</th><th>status</th><th>short_description</th><th>category_list</th><th>category_groups_list</th><th>num_funding_rounds</th><th>total_funding_usd</th><th>total_funding</th><th>total_funding_currency_code</th><th>founded_on</th><th>last_funding_on</th><th>closed_on</th><th>employee_count</th><th>email</th><th>phone</th><th>facebook_url</th><th>linkedin_url</th><th>twitter_url</th><th>logo_url</th><th>alias1</th><th>alias2</th><th>alias3</th><th>primary_role</th><th>num_exits</th><th>name_right</th><th>type_right</th><th>permalink_right</th><th>cb_url_right</th><th>rank_right</th><th>created_at_right</th><th>updated_at_right</th><th>description</th></tr><tr><td>str</td><td>str</td><td>str</td><td>str</td><td>str</td><td>str</td><td>f64</td><td>str</td><td>str</td><td>str</td><td>str</td><td>str</td><td>str</td><td>str</td><td>str</td><td>str</td><td>str</td><td>str</td><td>str</td><td>str</td><td>str</td><td>str</td><td>str</td><td>f64</td><td>f64</td><td>f64</td><td>str</td><td>str</td><td>str</td><td>str</td><td>str</td><td>str</td><td>str</td><td>str</td><td>str</td><td>str</td><td>str</td><td>str</td><td>str</td><td>str</td><td>str</td><td>f64</td><td>str</td><td>str</td><td>str</td><td>str</td><td>f64</td><td>str</td><td>str</td><td>str</td></tr></thead><tbody><tr><td>&quot;count&quot;</td><td>&quot;3289728&quot;</td><td>&quot;3289728&quot;</td><td>&quot;3289728&quot;</td><td>&quot;3289728&quot;</td><td>&quot;3289728&quot;</td><td>3.289558e6</td><td>&quot;3289728&quot;</td><td>&quot;3289728&quot;</td><td>&quot;1653234&quot;</td><td>&quot;3257165&quot;</td><td>&quot;3184843&quot;</td><td>&quot;3184843&quot;</td><td>&quot;3081762&quot;</td><td>&quot;1428649&quot;</td><td>&quot;3081762&quot;</td><td>&quot;3081762&quot;</td><td>&quot;2079681&quot;</td><td>&quot;2008610&quot;</td><td>&quot;3289728&quot;</td><td>&quot;3289720&quot;</td><td>&quot;3110341&quot;</td><td>&quot;3110341&quot;</td><td>317087.0</td><td>316932.0</td><td>316932.0</td><td>&quot;316932&quot;</td><td>&quot;2679694&quot;</td><td>&quot;316935&quot;</td><td>&quot;38673&quot;</td><td>&quot;3289728&quot;</td><td>&quot;2391288&quot;</td><td>&quot;2547354&quot;</td><td>&quot;1955114&quot;</td><td>&quot;2479692&quot;</td><td>&quot;1406607&quot;</td><td>&quot;3078364&quot;</td><td>&quot;554993&quot;</td><td>&quot;70433&quot;</td><td>&quot;26537&quot;</td><td>&quot;3289728&quot;</td><td>28748.0</td><td>&quot;1406915&quot;</td><td>&quot;1406915&quot;</td><td>&quot;1406915&quot;</td><td>&quot;1406915&quot;</td><td>1.406838e6</td><td>&quot;1406915&quot;</td><td>&quot;1406915&quot;</td><td>&quot;1406915&quot;</td></tr><tr><td>&quot;null_count&quot;</td><td>&quot;0&quot;</td><td>&quot;0&quot;</td><td>&quot;0&quot;</td><td>&quot;0&quot;</td><td>&quot;0&quot;</td><td>170.0</td><td>&quot;0&quot;</td><td>&quot;0&quot;</td><td>&quot;1636494&quot;</td><td>&quot;32563&quot;</td><td>&quot;104885&quot;</td><td>&quot;104885&quot;</td><td>&quot;207966&quot;</td><td>&quot;1861079&quot;</td><td>&quot;207966&quot;</td><td>&quot;207966&quot;</td><td>&quot;1210047&quot;</td><td>&quot;1281118&quot;</td><td>&quot;0&quot;</td><td>&quot;8&quot;</td><td>&quot;179387&quot;</td><td>&quot;179387&quot;</td><td>2.972641e6</td><td>2.972796e6</td><td>2.972796e6</td><td>&quot;2972796&quot;</td><td>&quot;610034&quot;</td><td>&quot;2972793&quot;</td><td>&quot;3251055&quot;</td><td>&quot;0&quot;</td><td>&quot;898440&quot;</td><td>&quot;742374&quot;</td><td>&quot;1334614&quot;</td><td>&quot;810036&quot;</td><td>&quot;1883121&quot;</td><td>&quot;211364&quot;</td><td>&quot;2734735&quot;</td><td>&quot;3219295&quot;</td><td>&quot;3263191&quot;</td><td>&quot;0&quot;</td><td>3.26098e6</td><td>&quot;1882813&quot;</td><td>&quot;1882813&quot;</td><td>&quot;1882813&quot;</td><td>&quot;1882813&quot;</td><td>1.88289e6</td><td>&quot;1882813&quot;</td><td>&quot;1882813&quot;</td><td>&quot;1882813&quot;</td></tr><tr><td>&quot;mean&quot;</td><td>null</td><td>null</td><td>null</td><td>null</td><td>null</td><td>1.6451e6</td><td>null</td><td>null</td><td>null</td><td>null</td><td>null</td><td>null</td><td>null</td><td>null</td><td>null</td><td>null</td><td>null</td><td>null</td><td>null</td><td>null</td><td>null</td><td>null</td><td>1.961805</td><td>2.9001e7</td><td>8.5352e8</td><td>null</td><td>null</td><td>null</td><td>null</td><td>null</td><td>null</td><td>null</td><td>null</td><td>null</td><td>null</td><td>null</td><td>null</td><td>null</td><td>null</td><td>null</td><td>4.798908</td><td>null</td><td>null</td><td>null</td><td>null</td><td>1.4329e6</td><td>null</td><td>null</td><td>null</td></tr><tr><td>&quot;std&quot;</td><td>null</td><td>null</td><td>null</td><td>null</td><td>null</td><td>949808.941065</td><td>null</td><td>null</td><td>null</td><td>null</td><td>null</td><td>null</td><td>null</td><td>null</td><td>null</td><td>null</td><td>null</td><td>null</td><td>null</td><td>null</td><td>null</td><td>null</td><td>1.784694</td><td>3.6495e8</td><td>1.7849e11</td><td>null</td><td>null</td><td>null</td><td>null</td><td>null</td><td>null</td><td>null</td><td>null</td><td>null</td><td>null</td><td>null</td><td>null</td><td>null</td><td>null</td><td>null</td><td>15.053791</td><td>null</td><td>null</td><td>null</td><td>null</td><td>1.0276e6</td><td>null</td><td>null</td><td>null</td></tr><tr><td>&quot;min&quot;</td><td>&quot;00000841-73a4-4c44-b713-34a26b…</td><td>&quot;!Bewust sociaal op web&quot;</td><td>&quot;organization&quot;</td><td>&quot;-2p--twopix-technologies&quot;</td><td>&quot;https://www.crunchbase.com/org…</td><td>1.0</td><td>&quot;2007-05-25 13:51:27&quot;</td><td>&quot;2018-02-12 22:08:08&quot;</td><td>&quot;!Important Safety Technologies…</td><td>&quot;company&quot;</td><td>&quot;%20www.ylgkdn.com&quot;</td><td>&quot;HTTP://WWW.ECGIT.COM&quot;</td><td>&quot;ABW&quot;</td><td>&quot;AA&quot;</td><td>&quot;Aargau&quot;</td><td>&quot;&#x27;s-graveland&quot;</td><td>&quot;\u000310 Wanless Drive Suite 201&quot;</td><td>&quot;0 8040&quot;</td><td>&quot;acquired&quot;</td><td>&quot;! DealsDirect brings you over …</td><td>&quot;3D Printing&quot;</td><td>&quot;Administrative Services&quot;</td><td>0.0</td><td>0.0</td><td>0.0</td><td>&quot;AED&quot;</td><td>&quot;1000-01-01&quot;</td><td>&quot;1901-01-31&quot;</td><td>&quot;1700-01-01&quot;</td><td>&quot;1-10&quot;</td><td>&quot;\u0003contact@upperonegames.com&quot;</td><td>&quot;%20(404)%20839-2300&quot;</td><td>&quot;Https://facebook.com/agilestac…</td><td>&quot;http:// www.linkedin.com/rythm…</td><td>&quot;Http://Twitter.com/scbypeter&quot;</td><td>&quot;https://images.crunchbase.com/…</td><td>&quot;!inch customer Service&quot;</td><td>&quot;&quot; China Vision Valley&quot; &quot;Indust…</td><td>&quot;&quot;My Loss Runs&quot;&quot;</td><td>&quot;company&quot;</td><td>0.0</td><td>&quot;!FEST&quot;</td><td>&quot;organization&quot;</td><td>&quot;-5-magazine&quot;</td><td>&quot;https://www.crunchbase.com/org…</td><td>1.0</td><td>&quot;2007-05-25 13:51:27&quot;</td><td>&quot;2018-02-12 22:08:18&quot;</td><td>&quot;\u0003They design and build digital…</td></tr><tr><td>&quot;25%&quot;</td><td>null</td><td>null</td><td>null</td><td>null</td><td>null</td><td>822560.0</td><td>null</td><td>null</td><td>null</td><td>null</td><td>null</td><td>null</td><td>null</td><td>null</td><td>null</td><td>null</td><td>null</td><td>null</td><td>null</td><td>null</td><td>null</td><td>null</td><td>1.0</td><td>0.0</td><td>0.0</td><td>null</td><td>null</td><td>null</td><td>null</td><td>null</td><td>null</td><td>null</td><td>null</td><td>null</td><td>null</td><td>null</td><td>null</td><td>null</td><td>null</td><td>null</td><td>1.0</td><td>null</td><td>null</td><td>null</td><td>null</td><td>460735.0</td><td>null</td><td>null</td><td>null</td></tr><tr><td>&quot;50%&quot;</td><td>null</td><td>null</td><td>null</td><td>null</td><td>null</td><td>1.64505e6</td><td>null</td><td>null</td><td>null</td><td>null</td><td>null</td><td>null</td><td>null</td><td>null</td><td>null</td><td>null</td><td>null</td><td>null</td><td>null</td><td>null</td><td>null</td><td>null</td><td>1.0</td><td>480000.0</td><td>550000.0</td><td>null</td><td>null</td><td>null</td><td>null</td><td>null</td><td>null</td><td>null</td><td>null</td><td>null</td><td>null</td><td>null</td><td>null</td><td>null</td><td>null</td><td>null</td><td>1.0</td><td>null</td><td>null</td><td>null</td><td>null</td><td>1.308237e6</td><td>null</td><td>null</td><td>null</td></tr><tr><td>&quot;75%&quot;</td><td>null</td><td>null</td><td>null</td><td>null</td><td>null</td><td>2.467675e6</td><td>null</td><td>null</td><td>null</td><td>null</td><td>null</td><td>null</td><td>null</td><td>null</td><td>null</td><td>null</td><td>null</td><td>null</td><td>null</td><td>null</td><td>null</td><td>null</td><td>2.0</td><td>5e6</td><td>7.4e6</td><td>null</td><td>null</td><td>null</td><td>null</td><td>null</td><td>null</td><td>null</td><td>null</td><td>null</td><td>null</td><td>null</td><td>null</td><td>null</td><td>null</td><td>null</td><td>3.0</td><td>null</td><td>null</td><td>null</td><td>null</td><td>2.355361e6</td><td>null</td><td>null</td><td>null</td></tr><tr><td>&quot;max&quot;</td><td>&quot;fffff91b-f695-4301-90bd-3a402b…</td><td>&quot;𠮷 River Information System&quot;</td><td>&quot;organization&quot;</td><td>&quot;𝗦𝘂𝗯-𝗟𝗶𝗺𝗲𝗻&quot;</td><td>&quot;https://www.crunchbase.com/org…</td><td>3.290649e6</td><td>&quot;2024-01-26 23:29:09&quot;</td><td>&quot;2024-01-27 00:10:49&quot;</td><td>&quot;𝐘𝐞𝐬 𝐈𝐧𝐬𝐮𝐫𝐚𝐧𝐜𝐞&quot;</td><td>&quot;school,investor,company&quot;</td><td>&quot;🥀.fm&quot;</td><td>&quot;https:/brlg.co.uk&quot;</td><td>&quot;ZWE&quot;</td><td>&quot;YT&quot;</td><td>&quot;Zurich&quot;</td><td>&quot;Üsküdar&quot;</td><td>&quot;📍 5558 Caminito Herminia, La J…</td><td>&quot;zona 10&quot;</td><td>&quot;operating&quot;</td><td>&quot;𠮷 River Information System dev…</td><td>&quot;macOS,Software,Windows&quot;</td><td>&quot;Travel and Tourism&quot;</td><td>41.0</td><td>1.0000e11</td><td>8.0000e13</td><td>&quot;ZMK&quot;</td><td>&quot;2024-01-26&quot;</td><td>&quot;2024-02-23&quot;</td><td>&quot;2024-01-24&quot;</td><td>&quot;unknown&quot;</td><td>&quot;🖂info@riskcontrolnigeria.com&quot;</td><td>&quot;：0769-81768886&quot;</td><td>&quot;https://zh-tw.facebook.com/pag…</td><td>&quot;https://zw.linkedin.com/in/bit…</td><td>&quot;https://zapperr.co.nz/e-commer…</td><td>&quot;https://images.crunchbase.com/…</td><td>&quot;𠮷川情報システム&quot;</td><td>&quot;ｹｰ･ﾃﾞｨｰ･ｹｲ&quot;</td><td>&quot;ＴＡＣバリュークリエイション&quot;</td><td>&quot;school&quot;</td><td>587.0</td><td>&quot;𝗚𝗶𝘃𝗶𝗻𝗴𝗧𝗲𝗰h&quot;</td><td>&quot;organization&quot;</td><td>&quot;𝗚𝗶𝘃𝗶𝗻𝗴𝗧𝗲𝗰h&quot;</td><td>&quot;https://www.crunchbase.com/org…</td><td>3.290649e6</td><td>&quot;2024-01-26 23:29:09&quot;</td><td>&quot;2024-01-27 00:10:49&quot;</td><td>&quot;🚀 Apply: $100’000 Blockchain C…</td></tr></tbody></table></div>"
      ],
      "text/plain": [
       "shape: (9, 50)\n",
       "┌───────────┬───────────┬───────────┬───────────┬───┬───────────┬───────────┬───────────┬──────────┐\n",
       "│ statistic ┆ uuid      ┆ name      ┆ type      ┆ … ┆ rank_righ ┆ created_a ┆ updated_a ┆ descript │\n",
       "│ ---       ┆ ---       ┆ ---       ┆ ---       ┆   ┆ t         ┆ t_right   ┆ t_right   ┆ ion      │\n",
       "│ str       ┆ str       ┆ str       ┆ str       ┆   ┆ ---       ┆ ---       ┆ ---       ┆ ---      │\n",
       "│           ┆           ┆           ┆           ┆   ┆ f64       ┆ str       ┆ str       ┆ str      │\n",
       "╞═══════════╪═══════════╪═══════════╪═══════════╪═══╪═══════════╪═══════════╪═══════════╪══════════╡\n",
       "│ count     ┆ 3289728   ┆ 3289728   ┆ 3289728   ┆ … ┆ 1.406838e ┆ 1406915   ┆ 1406915   ┆ 1406915  │\n",
       "│           ┆           ┆           ┆           ┆   ┆ 6         ┆           ┆           ┆          │\n",
       "│ null_coun ┆ 0         ┆ 0         ┆ 0         ┆ … ┆ 1.88289e6 ┆ 1882813   ┆ 1882813   ┆ 1882813  │\n",
       "│ t         ┆           ┆           ┆           ┆   ┆           ┆           ┆           ┆          │\n",
       "│ mean      ┆ null      ┆ null      ┆ null      ┆ … ┆ 1.4329e6  ┆ null      ┆ null      ┆ null     │\n",
       "│ std       ┆ null      ┆ null      ┆ null      ┆ … ┆ 1.0276e6  ┆ null      ┆ null      ┆ null     │\n",
       "│ min       ┆ 00000841- ┆ !Bewust   ┆ organizat ┆ … ┆ 1.0       ┆ 2007-05-2 ┆ 2018-02-1 ┆ \u0003They    │\n",
       "│           ┆ 73a4-4c44 ┆ sociaal   ┆ ion       ┆   ┆           ┆ 5         ┆ 2         ┆ design   │\n",
       "│           ┆ -b713-34a ┆ op web    ┆           ┆   ┆           ┆ 13:51:27  ┆ 22:08:18  ┆ and      │\n",
       "│           ┆ 26b…      ┆           ┆           ┆   ┆           ┆           ┆           ┆ build    │\n",
       "│           ┆           ┆           ┆           ┆   ┆           ┆           ┆           ┆ digital… │\n",
       "│ 25%       ┆ null      ┆ null      ┆ null      ┆ … ┆ 460735.0  ┆ null      ┆ null      ┆ null     │\n",
       "│ 50%       ┆ null      ┆ null      ┆ null      ┆ … ┆ 1.308237e ┆ null      ┆ null      ┆ null     │\n",
       "│           ┆           ┆           ┆           ┆   ┆ 6         ┆           ┆           ┆          │\n",
       "│ 75%       ┆ null      ┆ null      ┆ null      ┆ … ┆ 2.355361e ┆ null      ┆ null      ┆ null     │\n",
       "│           ┆           ┆           ┆           ┆   ┆ 6         ┆           ┆           ┆          │\n",
       "│ max       ┆ fffff91b- ┆ 𠮷 River  ┆ organizat ┆ … ┆ 3.290649e ┆ 2024-01-2 ┆ 2024-01-2 ┆ 🚀       │\n",
       "│           ┆ f695-4301 ┆ Informati ┆ ion       ┆   ┆ 6         ┆ 6         ┆ 7         ┆ Apply:   │\n",
       "│           ┆ -90bd-3a4 ┆ on System ┆           ┆   ┆           ┆ 23:29:09  ┆ 00:10:49  ┆ $100’000 │\n",
       "│           ┆ 02b…      ┆           ┆           ┆   ┆           ┆           ┆           ┆ Blockcha │\n",
       "│           ┆           ┆           ┆           ┆   ┆           ┆           ┆           ┆ in C…    │\n",
       "└───────────┴───────────┴───────────┴───────────┴───┴───────────┴───────────┴───────────┴──────────┘"
      ]
     },
     "execution_count": 9,
     "metadata": {},
     "output_type": "execute_result"
    }
   ],
   "source": [
    "# Performing the similar statistical analysis on polars as pandas\n",
    "merged.describe()"
   ]
  },
  {
   "cell_type": "code",
   "execution_count": 10,
   "id": "8716cb30",
   "metadata": {
    "execution": {
     "iopub.execute_input": "2025-07-29T16:17:43.720521Z",
     "iopub.status.busy": "2025-07-29T16:17:43.720257Z",
     "iopub.status.idle": "2025-07-29T16:17:43.724667Z",
     "shell.execute_reply": "2025-07-29T16:17:43.723870Z"
    },
    "papermill": {
     "duration": 0.010031,
     "end_time": "2025-07-29T16:17:43.725853",
     "exception": false,
     "start_time": "2025-07-29T16:17:43.715822",
     "status": "completed"
    },
    "tags": []
   },
   "outputs": [
    {
     "name": "stdout",
     "output_type": "stream",
     "text": [
      "(3289728, 49)\n"
     ]
    }
   ],
   "source": [
    "print(merged.shape)"
   ]
  },
  {
   "cell_type": "code",
   "execution_count": 11,
   "id": "9e953465",
   "metadata": {
    "execution": {
     "iopub.execute_input": "2025-07-29T16:17:43.735043Z",
     "iopub.status.busy": "2025-07-29T16:17:43.734345Z",
     "iopub.status.idle": "2025-07-29T16:17:43.739421Z",
     "shell.execute_reply": "2025-07-29T16:17:43.738453Z"
    },
    "papermill": {
     "duration": 0.011037,
     "end_time": "2025-07-29T16:17:43.740719",
     "exception": false,
     "start_time": "2025-07-29T16:17:43.729682",
     "status": "completed"
    },
    "tags": []
   },
   "outputs": [
    {
     "name": "stdout",
     "output_type": "stream",
     "text": [
      "Schema([('uuid', String), ('name', String), ('type', String), ('permalink', String), ('cb_url', String), ('rank', Int64), ('created_at', String), ('updated_at', String), ('legal_name', String), ('roles', String), ('domain', String), ('homepage_url', String), ('country_code', String), ('state_code', String), ('region', String), ('city', String), ('address', String), ('postal_code', String), ('status', String), ('short_description', String), ('category_list', String), ('category_groups_list', String), ('num_funding_rounds', Int64), ('total_funding_usd', Int64), ('total_funding', Int64), ('total_funding_currency_code', String), ('founded_on', String), ('last_funding_on', String), ('closed_on', String), ('employee_count', String), ('email', String), ('phone', String), ('facebook_url', String), ('linkedin_url', String), ('twitter_url', String), ('logo_url', String), ('alias1', String), ('alias2', String), ('alias3', String), ('primary_role', String), ('num_exits', Int64), ('name_right', String), ('type_right', String), ('permalink_right', String), ('cb_url_right', String), ('rank_right', Int64), ('created_at_right', String), ('updated_at_right', String), ('description', String)])\n"
     ]
    }
   ],
   "source": [
    "print(merged.schema) # same functionality as info() function in pandas"
   ]
  }
 ],
 "metadata": {
  "kaggle": {
   "accelerator": "none",
   "dataSources": [
    {
     "datasetId": 7960065,
     "sourceId": 12602955,
     "sourceType": "datasetVersion"
    }
   ],
   "dockerImageVersionId": 31089,
   "isGpuEnabled": false,
   "isInternetEnabled": true,
   "language": "python",
   "sourceType": "notebook"
  },
  "kernelspec": {
   "display_name": "Python 3",
   "language": "python",
   "name": "python3"
  },
  "language_info": {
   "codemirror_mode": {
    "name": "ipython",
    "version": 3
   },
   "file_extension": ".py",
   "mimetype": "text/x-python",
   "name": "python",
   "nbconvert_exporter": "python",
   "pygments_lexer": "ipython3",
   "version": "3.11.13"
  },
  "papermill": {
   "default_parameters": {},
   "duration": 138.068606,
   "end_time": "2025-07-29T16:17:46.764779",
   "environment_variables": {},
   "exception": null,
   "input_path": "__notebook__.ipynb",
   "output_path": "__notebook__.ipynb",
   "parameters": {},
   "start_time": "2025-07-29T16:15:28.696173",
   "version": "2.6.0"
  }
 },
 "nbformat": 4,
 "nbformat_minor": 5
}
